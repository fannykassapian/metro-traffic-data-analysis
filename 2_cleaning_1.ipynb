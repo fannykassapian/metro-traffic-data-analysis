{
 "cells": [
  {
   "cell_type": "markdown",
   "metadata": {},
   "source": [
    "# Notebook 2/4: Data cleaning (daily traffic and hourly profiles)\n",
    "***"
   ]
  },
  {
   "cell_type": "markdown",
   "metadata": {},
   "source": [
    "# Table of contents\n",
    "1. [Purpose of this notebook](#1)\n",
    "2. [Daily traffic](#2)\n",
    "    1. [Description & steps](#2A)\n",
    "    2. [Cleaning](#2B)\n",
    "        1. [Rename columns](#2Ba)\n",
    "        2. [Type conversion](#2Bb)\n",
    "        3. [Join dataframes](#2Bc)\n",
    "        4. [Prepare to filter](#2Bd)\n",
    "        5. [Filter Paris metro stations](#2Be)\n",
    "        6. [Missing values](#2Bf)\n",
    "        7. [Drop columns](#2Bg)\n",
    "    3. [Export to csv](#2C)\n",
    "3. [Hourly profiles](#3)\n",
    "    1. [Description & steps](#3A)\n",
    "    2. [Cleaning](#3B)\n",
    "        1. [Rename columns](#3Ba)\n",
    "        2. [Type conversion](#3Bb)\n",
    "        3. [Filter](#3Bc)\n",
    "        4. [Join](#3Bd)\n",
    "        5. [Compute mean hourly profile of 1st & 1nd semesters](#3Be)\n",
    "        6. [Check data completeness](#3Bf)\n",
    "        7. [Filter columns](#3Bg)\n",
    "    3. [Export to csv](#3C)"
   ]
  },
  {
   "cell_type": "markdown",
   "metadata": {},
   "source": [
    "# 1. Purpose of this notebook: <a name=\"1\"></a>\n",
    "\n",
    "The purpose of this notebook is to clean the data (following the steps identified in the previous notebook (1/4)) and prepare it for analysis (see notebook 4/4).\n",
    "\n",
    "For better readability, the cleaning of the stops' repository and geographical coordinates can be found in a separate notebook (see notebook 3/4).\n",
    "\n",
    "For more information on this data, please refer to notebook 1/4."
   ]
  },
  {
   "cell_type": "markdown",
   "metadata": {},
   "source": [
    "# 2. Cleaning: Daily traffic <a name=\"2\"></a>"
   ]
  },
  {
   "cell_type": "markdown",
   "metadata": {},
   "source": [
    "## 2.A. Description & steps <a name=\"2A\"></a>\n",
    "\n",
    "\n",
    "\n",
    "nb_2018s1 and nb_2018s2 provide the number of checkins per day, per station (LDA) and per rate plan, for the 1st and 2nd semesters of 2018 respectively.\n",
    "\n",
    "As a reminder, here are the steps we idenfied:\n",
    "\n",
    "> Rename columns (translate to english, except columns that contain IDs)\n",
    "\n",
    "> Handle misdesignated missing values ('ND', '?')\n",
    "\n",
    "> Cast the CODE_STIF_RES, CODE_STIF_ARRET and NB_VALD columns of nb_2018s1 to numeric\n",
    "\n",
    "> Cast the ID_REFA_LDA column of nb_2018s2 to numeric\n",
    "\n",
    "> Convert the JOUR column to datetime in both nb_2018s1 and nb_2018s2\n",
    "\n",
    "> Concatenate nb_2018s1 & nb_2018s2 into a new dataframe\n",
    "\n",
    "> Filter Paris metro stations\n",
    "\n",
    "> Handle remaining missing values\n",
    "\n",
    "> Export to csv"
   ]
  },
  {
   "cell_type": "code",
   "execution_count": 156,
   "metadata": {},
   "outputs": [],
   "source": [
    "# Import libraries\n",
    "\n",
    "import numpy as np\n",
    "import pandas as pd\n",
    "\n",
    "import matplotlib.pyplot as plt\n",
    "%matplotlib inline"
   ]
  },
  {
   "cell_type": "code",
   "execution_count": 157,
   "metadata": {},
   "outputs": [],
   "source": [
    "# Read files with the number of checkins per day\n",
    "\n",
    "nb_2018s1 = pd.read_csv(\"../../datasets/validations-sur-le-reseau-ferre-nombre-de-validations-par-jour-1er-sem.csv\", sep=\";\")\n",
    "\n",
    "nb_2018s2 = pd.read_csv(\"../../datasets/validations-sur-le-reseau-ferre-nombre-de-validations-par-jour-2e-sem.csv\", sep = \";\")\n",
    "\n",
    "# Read repository file.\n",
    "ref_stops = pd.read_csv('../../datasets/referentiel-arret-tc-idf.csv', sep=';')\n"
   ]
  },
  {
   "cell_type": "markdown",
   "metadata": {},
   "source": [
    "## 2.B. Cleaning <a name=\"2B\"></a>"
   ]
  },
  {
   "cell_type": "markdown",
   "metadata": {},
   "source": [
    "### 2.B.a. Rename columns <a name=\"2Ba\"></a>"
   ]
  },
  {
   "cell_type": "code",
   "execution_count": 158,
   "metadata": {},
   "outputs": [
    {
     "data": {
      "text/plain": [
       "array([ True,  True,  True,  True,  True,  True,  True,  True])"
      ]
     },
     "execution_count": 158,
     "metadata": {},
     "output_type": "execute_result"
    }
   ],
   "source": [
    "# Make sure that column names are the same\n",
    "\n",
    "nb_2018s1.columns == nb_2018s2.columns"
   ]
  },
  {
   "cell_type": "code",
   "execution_count": 159,
   "metadata": {},
   "outputs": [],
   "source": [
    "# Rename columns (translate to english)\n",
    "\n",
    "cols = {'JOUR':'DAY', 'LIBELLE_ARRET':'STOP_NAME', 'CATEGORIE_TITRE':'TICKET_TYPE', 'NB_VALD':'NB_CHECKINS'}\n",
    "\n",
    "nb_2018s1.rename(cols, axis=1, inplace=True)\n",
    "nb_2018s2.rename(cols, axis=1, inplace=True)"
   ]
  },
  {
   "cell_type": "code",
   "execution_count": 160,
   "metadata": {
    "scrolled": true
   },
   "outputs": [
    {
     "data": {
      "text/plain": [
       "Index(['DAY', 'CODE_STIF_TRNS', 'CODE_STIF_RES', 'CODE_STIF_ARRET',\n",
       "       'STOP_NAME', 'ID_REFA_LDA', 'TICKET_TYPE', 'NB_CHECKINS'],\n",
       "      dtype='object')"
      ]
     },
     "execution_count": 160,
     "metadata": {},
     "output_type": "execute_result"
    }
   ],
   "source": [
    "nb_2018s1.columns"
   ]
  },
  {
   "cell_type": "code",
   "execution_count": 161,
   "metadata": {},
   "outputs": [
    {
     "data": {
      "text/plain": [
       "Index(['DAY', 'CODE_STIF_TRNS', 'CODE_STIF_RES', 'CODE_STIF_ARRET',\n",
       "       'STOP_NAME', 'ID_REFA_LDA', 'TICKET_TYPE', 'NB_CHECKINS'],\n",
       "      dtype='object')"
      ]
     },
     "execution_count": 161,
     "metadata": {},
     "output_type": "execute_result"
    }
   ],
   "source": [
    "nb_2018s2.columns"
   ]
  },
  {
   "cell_type": "markdown",
   "metadata": {},
   "source": [
    "### 2.B.b. Type conversion <a name=\"2Bb\"></a>\n",
    "\n",
    "#### Cast the CODE_STIF_RES, CODE_STIF_ARRET and NB_VALD columns of nb_2018s1 to numeric & convert the JOUR column to datetime"
   ]
  },
  {
   "cell_type": "code",
   "execution_count": 162,
   "metadata": {},
   "outputs": [
    {
     "data": {
      "text/plain": [
       "array(['ND'], dtype=object)"
      ]
     },
     "execution_count": 162,
     "metadata": {},
     "output_type": "execute_result"
    }
   ],
   "source": [
    "# Identify non numeric values in the following columns: 'CODE_STIF_RES', 'CODE_STIF_ARRET', 'NB_CHECKINS'\n",
    "\n",
    "nb_2018s1.loc[~nb_2018s1['CODE_STIF_RES'].astype(str).str.isnumeric(),'CODE_STIF_RES'].unique()"
   ]
  },
  {
   "cell_type": "code",
   "execution_count": 163,
   "metadata": {},
   "outputs": [
    {
     "data": {
      "text/plain": [
       "array(['ND'], dtype=object)"
      ]
     },
     "execution_count": 163,
     "metadata": {},
     "output_type": "execute_result"
    }
   ],
   "source": [
    "nb_2018s1.loc[~nb_2018s1['CODE_STIF_ARRET'].astype(str).str.isnumeric(),'CODE_STIF_ARRET'].unique()"
   ]
  },
  {
   "cell_type": "code",
   "execution_count": 164,
   "metadata": {},
   "outputs": [
    {
     "data": {
      "text/plain": [
       "array(['Moins de 5'], dtype=object)"
      ]
     },
     "execution_count": 164,
     "metadata": {},
     "output_type": "execute_result"
    }
   ],
   "source": [
    "nb_2018s1.loc[~nb_2018s1['NB_CHECKINS'].astype(str).str.isnumeric(),'NB_CHECKINS'].unique()"
   ]
  },
  {
   "cell_type": "markdown",
   "metadata": {},
   "source": [
    "For the CODE_STIF_RES & CODE_STIF_ARRET columns, the non-numeric values are 'ND' which standes for unavailable (or \"Non Disponible\" in French). They can be replaced by np.nan while casting the column to numeric by using the errors = 'coerce' keyword argument in the pd.to_numeric() function.\n",
    "\n",
    "The non-numeric values in the NB_CHECKINS columns are not missing values but indicate values under 5. Let's replace these by the numeric value 4."
   ]
  },
  {
   "cell_type": "code",
   "execution_count": 165,
   "metadata": {},
   "outputs": [],
   "source": [
    "# Casting CODE_STIF_RES & CODE_STIF_ARRET and replacing non-numeric values by np.nan\n",
    "\n",
    "nb_2018s1['CODE_STIF_RES'] = pd.to_numeric(nb_2018s1['CODE_STIF_RES'], errors = 'coerce')\n",
    "nb_2018s1['CODE_STIF_ARRET'] = pd.to_numeric(nb_2018s1['CODE_STIF_ARRET'], errors = 'coerce')"
   ]
  },
  {
   "cell_type": "code",
   "execution_count": 166,
   "metadata": {},
   "outputs": [],
   "source": [
    "# Replace non-numeric values in NB_CHECKINS by 4 and cast to numeric:\n",
    "\n",
    "nb_2018s1['NB_CHECKINS'] = nb_2018s1['NB_CHECKINS'].replace('Moins de 5', '4')\n",
    "nb_2018s1['NB_CHECKINS'] = pd.to_numeric(nb_2018s1['NB_CHECKINS'])"
   ]
  },
  {
   "cell_type": "code",
   "execution_count": 167,
   "metadata": {},
   "outputs": [],
   "source": [
    "# Change the DAY column to datetime\n",
    "\n",
    "nb_2018s1[\"DAY\"] = pd.to_datetime(nb_2018s1[\"DAY\"])"
   ]
  },
  {
   "cell_type": "code",
   "execution_count": 168,
   "metadata": {},
   "outputs": [
    {
     "name": "stdout",
     "output_type": "stream",
     "text": [
      "<class 'pandas.core.frame.DataFrame'>\n",
      "RangeIndex: 777436 entries, 0 to 777435\n",
      "Data columns (total 8 columns):\n",
      "DAY                777436 non-null datetime64[ns]\n",
      "CODE_STIF_TRNS     777436 non-null int64\n",
      "CODE_STIF_RES      776001 non-null float64\n",
      "CODE_STIF_ARRET    776001 non-null float64\n",
      "STOP_NAME          777436 non-null object\n",
      "ID_REFA_LDA        767645 non-null float64\n",
      "TICKET_TYPE        777436 non-null object\n",
      "NB_CHECKINS        777436 non-null int64\n",
      "dtypes: datetime64[ns](1), float64(3), int64(2), object(2)\n",
      "memory usage: 47.5+ MB\n"
     ]
    }
   ],
   "source": [
    "# Check nb_2018s1 data types\n",
    "\n",
    "nb_2018s1.info()"
   ]
  },
  {
   "cell_type": "markdown",
   "metadata": {},
   "source": [
    "#### Cast the ID_REFA_LDA column of nb_2018s2 to numeric & convert the JOUR column to datetime"
   ]
  },
  {
   "cell_type": "code",
   "execution_count": 169,
   "metadata": {},
   "outputs": [
    {
     "data": {
      "text/plain": [
       "array(['?', nan], dtype=object)"
      ]
     },
     "execution_count": 169,
     "metadata": {},
     "output_type": "execute_result"
    }
   ],
   "source": [
    "# Identify non numeric values in ID_REFA_LDA\n",
    "\n",
    "nb_2018s2.loc[~nb_2018s2['ID_REFA_LDA'].astype(str).str.isnumeric(),'ID_REFA_LDA'].unique()"
   ]
  },
  {
   "cell_type": "code",
   "execution_count": 170,
   "metadata": {},
   "outputs": [],
   "source": [
    "# Cast the ID_REFA_LDA column of nb_2018s2 to numeric\n",
    "\n",
    "nb_2018s2['ID_REFA_LDA'] = pd.to_numeric(nb_2018s2['ID_REFA_LDA'], errors = 'coerce')"
   ]
  },
  {
   "cell_type": "code",
   "execution_count": 171,
   "metadata": {},
   "outputs": [],
   "source": [
    "# Change the DAY column to datetime\n",
    "\n",
    "nb_2018s2[\"DAY\"] = pd.to_datetime(nb_2018s2[\"DAY\"])"
   ]
  },
  {
   "cell_type": "code",
   "execution_count": 172,
   "metadata": {},
   "outputs": [
    {
     "name": "stdout",
     "output_type": "stream",
     "text": [
      "<class 'pandas.core.frame.DataFrame'>\n",
      "RangeIndex: 883145 entries, 0 to 883144\n",
      "Data columns (total 8 columns):\n",
      "DAY                883145 non-null datetime64[ns]\n",
      "CODE_STIF_TRNS     883145 non-null int64\n",
      "CODE_STIF_RES      881677 non-null float64\n",
      "CODE_STIF_ARRET    881677 non-null float64\n",
      "STOP_NAME          883145 non-null object\n",
      "ID_REFA_LDA        871326 non-null float64\n",
      "TICKET_TYPE        883145 non-null object\n",
      "NB_CHECKINS        765356 non-null float64\n",
      "dtypes: datetime64[ns](1), float64(4), int64(1), object(2)\n",
      "memory usage: 53.9+ MB\n"
     ]
    }
   ],
   "source": [
    "nb_2018s2.info()"
   ]
  },
  {
   "cell_type": "markdown",
   "metadata": {},
   "source": [
    "### 2.B.c. Join dataframes <a name=\"2Bc\"></a>"
   ]
  },
  {
   "cell_type": "code",
   "execution_count": 173,
   "metadata": {},
   "outputs": [
    {
     "data": {
      "text/plain": [
       "(0, 15)"
      ]
     },
     "execution_count": 173,
     "metadata": {},
     "output_type": "execute_result"
    }
   ],
   "source": [
    "# Make sure that no day appears twice in the s1 and s2 dataframes by merging them with an inner join on the DAY column\n",
    "\n",
    "compare = pd.merge(left = nb_2018s1, right = nb_2018s2, how = 'inner', on = 'DAY')\n",
    "\n",
    "compare.shape"
   ]
  },
  {
   "cell_type": "markdown",
   "metadata": {},
   "source": [
    "The resulting dataframe has 0 lines, meaning that there are no common values in the DAY columns of the s1 and s2 dataframes."
   ]
  },
  {
   "cell_type": "code",
   "execution_count": 174,
   "metadata": {},
   "outputs": [],
   "source": [
    "# Concatenate s1 and s2 into a new dataframe\n",
    "\n",
    "nb_checkins = pd.concat([nb_2018s1, nb_2018s2], axis=0)"
   ]
  },
  {
   "cell_type": "code",
   "execution_count": 175,
   "metadata": {},
   "outputs": [
    {
     "data": {
      "text/html": [
       "<div>\n",
       "<style scoped>\n",
       "    .dataframe tbody tr th:only-of-type {\n",
       "        vertical-align: middle;\n",
       "    }\n",
       "\n",
       "    .dataframe tbody tr th {\n",
       "        vertical-align: top;\n",
       "    }\n",
       "\n",
       "    .dataframe thead th {\n",
       "        text-align: right;\n",
       "    }\n",
       "</style>\n",
       "<table border=\"1\" class=\"dataframe\">\n",
       "  <thead>\n",
       "    <tr style=\"text-align: right;\">\n",
       "      <th></th>\n",
       "      <th>DAY</th>\n",
       "      <th>CODE_STIF_TRNS</th>\n",
       "      <th>CODE_STIF_RES</th>\n",
       "      <th>CODE_STIF_ARRET</th>\n",
       "      <th>STOP_NAME</th>\n",
       "      <th>ID_REFA_LDA</th>\n",
       "      <th>TICKET_TYPE</th>\n",
       "      <th>NB_CHECKINS</th>\n",
       "    </tr>\n",
       "  </thead>\n",
       "  <tbody>\n",
       "    <tr>\n",
       "      <th>0</th>\n",
       "      <td>2018-05-09</td>\n",
       "      <td>100</td>\n",
       "      <td>110.0</td>\n",
       "      <td>1006.0</td>\n",
       "      <td>OLYMPIADES</td>\n",
       "      <td>71557.0</td>\n",
       "      <td>AMETHYSTE</td>\n",
       "      <td>462.0</td>\n",
       "    </tr>\n",
       "    <tr>\n",
       "      <th>1</th>\n",
       "      <td>2018-05-09</td>\n",
       "      <td>100</td>\n",
       "      <td>110.0</td>\n",
       "      <td>1006.0</td>\n",
       "      <td>OLYMPIADES</td>\n",
       "      <td>71557.0</td>\n",
       "      <td>NAVIGO</td>\n",
       "      <td>10764.0</td>\n",
       "    </tr>\n",
       "    <tr>\n",
       "      <th>2</th>\n",
       "      <td>2018-05-09</td>\n",
       "      <td>100</td>\n",
       "      <td>110.0</td>\n",
       "      <td>1007.0</td>\n",
       "      <td>LES AGNETTES-ASNIERES-GENNEVILLIERS</td>\n",
       "      <td>72240.0</td>\n",
       "      <td>NAVIGO</td>\n",
       "      <td>3972.0</td>\n",
       "    </tr>\n",
       "    <tr>\n",
       "      <th>3</th>\n",
       "      <td>2018-05-09</td>\n",
       "      <td>100</td>\n",
       "      <td>110.0</td>\n",
       "      <td>1008.0</td>\n",
       "      <td>LES COURTILLES</td>\n",
       "      <td>72286.0</td>\n",
       "      <td>TST</td>\n",
       "      <td>813.0</td>\n",
       "    </tr>\n",
       "    <tr>\n",
       "      <th>4</th>\n",
       "      <td>2018-05-09</td>\n",
       "      <td>100</td>\n",
       "      <td>110.0</td>\n",
       "      <td>104.0</td>\n",
       "      <td>BOURSE</td>\n",
       "      <td>73635.0</td>\n",
       "      <td>?</td>\n",
       "      <td>4.0</td>\n",
       "    </tr>\n",
       "  </tbody>\n",
       "</table>\n",
       "</div>"
      ],
      "text/plain": [
       "         DAY  CODE_STIF_TRNS  CODE_STIF_RES  CODE_STIF_ARRET  \\\n",
       "0 2018-05-09             100          110.0           1006.0   \n",
       "1 2018-05-09             100          110.0           1006.0   \n",
       "2 2018-05-09             100          110.0           1007.0   \n",
       "3 2018-05-09             100          110.0           1008.0   \n",
       "4 2018-05-09             100          110.0            104.0   \n",
       "\n",
       "                             STOP_NAME  ID_REFA_LDA TICKET_TYPE  NB_CHECKINS  \n",
       "0                           OLYMPIADES      71557.0   AMETHYSTE        462.0  \n",
       "1                           OLYMPIADES      71557.0      NAVIGO      10764.0  \n",
       "2  LES AGNETTES-ASNIERES-GENNEVILLIERS      72240.0      NAVIGO       3972.0  \n",
       "3                       LES COURTILLES      72286.0         TST        813.0  \n",
       "4                               BOURSE      73635.0           ?          4.0  "
      ]
     },
     "execution_count": 175,
     "metadata": {},
     "output_type": "execute_result"
    }
   ],
   "source": [
    "nb_checkins.head()"
   ]
  },
  {
   "cell_type": "markdown",
   "metadata": {},
   "source": [
    "### 2.B.d. Prepare to filter <a name=\"2Bd\"></a>"
   ]
  },
  {
   "cell_type": "code",
   "execution_count": 176,
   "metadata": {
    "scrolled": true
   },
   "outputs": [
    {
     "name": "stdout",
     "output_type": "stream",
     "text": [
      "<class 'pandas.core.frame.DataFrame'>\n",
      "Int64Index: 1660581 entries, 0 to 883144\n",
      "Data columns (total 8 columns):\n",
      "DAY                1660581 non-null datetime64[ns]\n",
      "CODE_STIF_TRNS     1660581 non-null int64\n",
      "CODE_STIF_RES      1657678 non-null float64\n",
      "CODE_STIF_ARRET    1657678 non-null float64\n",
      "STOP_NAME          1660581 non-null object\n",
      "ID_REFA_LDA        1638971 non-null float64\n",
      "TICKET_TYPE        1660581 non-null object\n",
      "NB_CHECKINS        1542792 non-null float64\n",
      "dtypes: datetime64[ns](1), float64(4), int64(1), object(2)\n",
      "memory usage: 114.0+ MB\n"
     ]
    }
   ],
   "source": [
    "nb_checkins.info()"
   ]
  },
  {
   "cell_type": "markdown",
   "metadata": {},
   "source": [
    "We see that the following columns have missing values:\n",
    "- CODE_STIF_RES\n",
    "- CODE_STIF_ARRET\n",
    "- ID_REFA_LDA \n",
    "- NB_CHECKINS"
   ]
  },
  {
   "cell_type": "code",
   "execution_count": 177,
   "metadata": {},
   "outputs": [
    {
     "data": {
      "text/plain": [
       "DAY                  365\n",
       "CODE_STIF_TRNS         3\n",
       "CODE_STIF_RES         13\n",
       "CODE_STIF_ARRET      753\n",
       "STOP_NAME            732\n",
       "ID_REFA_LDA          721\n",
       "TICKET_TYPE            8\n",
       "NB_CHECKINS        22771\n",
       "dtype: int64"
      ]
     },
     "execution_count": 177,
     "metadata": {},
     "output_type": "execute_result"
    }
   ],
   "source": [
    "nb_checkins.nunique()"
   ]
  },
  {
   "cell_type": "markdown",
   "metadata": {},
   "source": [
    "There also might be columns where missing values are indicated by strings and therefore are not easily identifiable."
   ]
  },
  {
   "cell_type": "markdown",
   "metadata": {},
   "source": [
    "Some of the missing values will probably be dropped as we will filter nb_checkins on the CODE_STIF_RES column.\n",
    "\n",
    "Before handling missing values on all these columns, let's look at the missing CODE_STIF_RES. Then we can filter our data and look at the remaining missing values."
   ]
  },
  {
   "cell_type": "code",
   "execution_count": 178,
   "metadata": {},
   "outputs": [
    {
     "data": {
      "text/plain": [
       "array([110., 804., 805., 853., 852.,  nan, 800., 803., 854., 802., 801.,\n",
       "       850., 822., 851.])"
      ]
     },
     "execution_count": 178,
     "metadata": {},
     "output_type": "execute_result"
    }
   ],
   "source": [
    "nb_checkins['CODE_STIF_RES'].unique()"
   ]
  },
  {
   "cell_type": "code",
   "execution_count": 179,
   "metadata": {},
   "outputs": [
    {
     "data": {
      "text/plain": [
       "2903"
      ]
     },
     "execution_count": 179,
     "metadata": {},
     "output_type": "execute_result"
    }
   ],
   "source": [
    "nb_checkins['CODE_STIF_RES'].isnull().sum()"
   ]
  },
  {
   "cell_type": "code",
   "execution_count": 180,
   "metadata": {},
   "outputs": [
    {
     "data": {
      "text/plain": [
       "array(['Inconnu'], dtype=object)"
      ]
     },
     "execution_count": 180,
     "metadata": {},
     "output_type": "execute_result"
    }
   ],
   "source": [
    "nb_checkins.loc[nb_checkins['CODE_STIF_RES'].isnull(), 'STOP_NAME'].unique()"
   ]
  },
  {
   "cell_type": "markdown",
   "metadata": {},
   "source": [
    "We see that the only rows that have a missing CODE_STIF_RES are those with an 'Inconnu' (='Unknown') STOP_NAME.\n",
    "\n",
    "Let's make sure that 'Inconnu' is not a valid metro station."
   ]
  },
  {
   "cell_type": "code",
   "execution_count": 181,
   "metadata": {},
   "outputs": [],
   "source": [
    "# Standardize capitalisation in the STOP_NAME column\n",
    "\n",
    "nb_checkins['STOP_NAME'] = nb_checkins['STOP_NAME'].str.upper()"
   ]
  },
  {
   "cell_type": "code",
   "execution_count": 182,
   "metadata": {},
   "outputs": [],
   "source": [
    "stop_unknown = nb_checkins.loc[nb_checkins['STOP_NAME'] == 'INCONNU']"
   ]
  },
  {
   "cell_type": "code",
   "execution_count": 183,
   "metadata": {},
   "outputs": [
    {
     "data": {
      "text/html": [
       "<div>\n",
       "<style scoped>\n",
       "    .dataframe tbody tr th:only-of-type {\n",
       "        vertical-align: middle;\n",
       "    }\n",
       "\n",
       "    .dataframe tbody tr th {\n",
       "        vertical-align: top;\n",
       "    }\n",
       "\n",
       "    .dataframe thead th {\n",
       "        text-align: right;\n",
       "    }\n",
       "</style>\n",
       "<table border=\"1\" class=\"dataframe\">\n",
       "  <thead>\n",
       "    <tr style=\"text-align: right;\">\n",
       "      <th></th>\n",
       "      <th>DAY</th>\n",
       "      <th>TICKET_TYPE</th>\n",
       "    </tr>\n",
       "  </thead>\n",
       "  <tbody>\n",
       "    <tr>\n",
       "      <th>count</th>\n",
       "      <td>2903</td>\n",
       "      <td>2903</td>\n",
       "    </tr>\n",
       "    <tr>\n",
       "      <th>unique</th>\n",
       "      <td>365</td>\n",
       "      <td>8</td>\n",
       "    </tr>\n",
       "    <tr>\n",
       "      <th>top</th>\n",
       "      <td>2018-03-03 00:00:00</td>\n",
       "      <td>AMETHYSTE</td>\n",
       "    </tr>\n",
       "    <tr>\n",
       "      <th>freq</th>\n",
       "      <td>8</td>\n",
       "      <td>365</td>\n",
       "    </tr>\n",
       "    <tr>\n",
       "      <th>first</th>\n",
       "      <td>2018-01-01 00:00:00</td>\n",
       "      <td>NaN</td>\n",
       "    </tr>\n",
       "    <tr>\n",
       "      <th>last</th>\n",
       "      <td>2018-12-31 00:00:00</td>\n",
       "      <td>NaN</td>\n",
       "    </tr>\n",
       "  </tbody>\n",
       "</table>\n",
       "</div>"
      ],
      "text/plain": [
       "                        DAY TICKET_TYPE\n",
       "count                  2903        2903\n",
       "unique                  365           8\n",
       "top     2018-03-03 00:00:00   AMETHYSTE\n",
       "freq                      8         365\n",
       "first   2018-01-01 00:00:00         NaN\n",
       "last    2018-12-31 00:00:00         NaN"
      ]
     },
     "execution_count": 183,
     "metadata": {},
     "output_type": "execute_result"
    }
   ],
   "source": [
    "stop_unknown[['DAY', 'TICKET_TYPE']].describe()"
   ]
  },
  {
   "cell_type": "markdown",
   "metadata": {},
   "source": [
    "We can see that the data is evenly distributed among all 365 days of the year and all 7 rate plans."
   ]
  },
  {
   "cell_type": "code",
   "execution_count": 184,
   "metadata": {},
   "outputs": [],
   "source": [
    "# Check in the stops repository dataset if INCONNU appears\n",
    "\n",
    "ref_stops['LDA_NOM'] = ref_stops['LDA_NOM'].str.upper()"
   ]
  },
  {
   "cell_type": "code",
   "execution_count": 185,
   "metadata": {},
   "outputs": [],
   "source": [
    "def check_name(x):\n",
    "    if (ref_stops['LDA_NOM'] == x).sum() == 0:\n",
    "        x_list = x.split()\n",
    "        matches = []\n",
    "        if len(x_list) > 1:\n",
    "            m_lst = ref_stops.loc[ref_stops['LDA_NOM'].str.contains(x_list[0]), 'LDA_NOM'].unique()\n",
    "            matches.append(m_lst)\n",
    "        else:\n",
    "            matches = ref_stops.loc[ref_stops['LDA_NOM'].str.contains(x_list[0]), 'LDA_NOM'].unique()\n",
    "    else:\n",
    "        matches = ref_stops.loc[ref_stops['LDA_NOM'] == x, 'LDA_NOM'].unique()\n",
    "    return matches"
   ]
  },
  {
   "cell_type": "code",
   "execution_count": 186,
   "metadata": {},
   "outputs": [
    {
     "data": {
      "text/plain": [
       "array([], dtype=object)"
      ]
     },
     "execution_count": 186,
     "metadata": {},
     "output_type": "execute_result"
    }
   ],
   "source": [
    "check_name('INCONNU')"
   ]
  },
  {
   "cell_type": "markdown",
   "metadata": {},
   "source": [
    "'INCONNU' is not a valid STOP_NAME and indicates a missing value. These rows will be dropped as we filter on CODE_STIF_RES."
   ]
  },
  {
   "cell_type": "markdown",
   "metadata": {},
   "source": [
    "### 2.B.e. Filter Paris metro stations <a name=\"2Be\"></a>\n",
    "\n",
    "To filter Paris metro stations only, we can use the CODE_STIF_RES 110."
   ]
  },
  {
   "cell_type": "code",
   "execution_count": 187,
   "metadata": {},
   "outputs": [
    {
     "data": {
      "text/plain": [
       "110.0    744502\n",
       "803.0    140856\n",
       "854.0    132786\n",
       "801.0    112889\n",
       "802.0    107446\n",
       "804.0     99488\n",
       "853.0     91762\n",
       "852.0     66395\n",
       "850.0     54753\n",
       "805.0     46934\n",
       "851.0     32367\n",
       "800.0     14302\n",
       "822.0     13198\n",
       "Name: CODE_STIF_RES, dtype: int64"
      ]
     },
     "execution_count": 187,
     "metadata": {},
     "output_type": "execute_result"
    }
   ],
   "source": [
    "nb_checkins['CODE_STIF_RES'].value_counts()"
   ]
  },
  {
   "cell_type": "code",
   "execution_count": 188,
   "metadata": {},
   "outputs": [
    {
     "data": {
      "text/html": [
       "<div>\n",
       "<style scoped>\n",
       "    .dataframe tbody tr th:only-of-type {\n",
       "        vertical-align: middle;\n",
       "    }\n",
       "\n",
       "    .dataframe tbody tr th {\n",
       "        vertical-align: top;\n",
       "    }\n",
       "\n",
       "    .dataframe thead th {\n",
       "        text-align: right;\n",
       "    }\n",
       "</style>\n",
       "<table border=\"1\" class=\"dataframe\">\n",
       "  <thead>\n",
       "    <tr style=\"text-align: right;\">\n",
       "      <th></th>\n",
       "      <th>DAY</th>\n",
       "      <th>CODE_STIF_TRNS</th>\n",
       "      <th>CODE_STIF_RES</th>\n",
       "      <th>CODE_STIF_ARRET</th>\n",
       "      <th>STOP_NAME</th>\n",
       "      <th>ID_REFA_LDA</th>\n",
       "      <th>TICKET_TYPE</th>\n",
       "      <th>NB_CHECKINS</th>\n",
       "    </tr>\n",
       "  </thead>\n",
       "  <tbody>\n",
       "    <tr>\n",
       "      <th>161</th>\n",
       "      <td>2018-01-01</td>\n",
       "      <td>800</td>\n",
       "      <td>804.0</td>\n",
       "      <td>307.0</td>\n",
       "      <td>GARE DE LYON</td>\n",
       "      <td>73626.0</td>\n",
       "      <td>IMAGINE R</td>\n",
       "      <td>332.0</td>\n",
       "    </tr>\n",
       "    <tr>\n",
       "      <th>162</th>\n",
       "      <td>2018-01-01</td>\n",
       "      <td>800</td>\n",
       "      <td>804.0</td>\n",
       "      <td>307.0</td>\n",
       "      <td>GARE DE LYON</td>\n",
       "      <td>73626.0</td>\n",
       "      <td>AMETHYSTE</td>\n",
       "      <td>37.0</td>\n",
       "    </tr>\n",
       "    <tr>\n",
       "      <th>1342</th>\n",
       "      <td>2018-01-01</td>\n",
       "      <td>810</td>\n",
       "      <td>801.0</td>\n",
       "      <td>306.0</td>\n",
       "      <td>GARE DE LYON</td>\n",
       "      <td>73626.0</td>\n",
       "      <td>TST</td>\n",
       "      <td>800.0</td>\n",
       "    </tr>\n",
       "    <tr>\n",
       "      <th>27994</th>\n",
       "      <td>2018-01-01</td>\n",
       "      <td>100</td>\n",
       "      <td>110.0</td>\n",
       "      <td>317.0</td>\n",
       "      <td>GARE DE LYON</td>\n",
       "      <td>73626.0</td>\n",
       "      <td>FGT</td>\n",
       "      <td>203.0</td>\n",
       "    </tr>\n",
       "    <tr>\n",
       "      <th>27995</th>\n",
       "      <td>2018-01-01</td>\n",
       "      <td>100</td>\n",
       "      <td>110.0</td>\n",
       "      <td>317.0</td>\n",
       "      <td>GARE DE LYON</td>\n",
       "      <td>73626.0</td>\n",
       "      <td>TST</td>\n",
       "      <td>172.0</td>\n",
       "    </tr>\n",
       "    <tr>\n",
       "      <th>29920</th>\n",
       "      <td>2018-01-01</td>\n",
       "      <td>810</td>\n",
       "      <td>801.0</td>\n",
       "      <td>306.0</td>\n",
       "      <td>GARE DE LYON</td>\n",
       "      <td>73626.0</td>\n",
       "      <td>AMETHYSTE</td>\n",
       "      <td>366.0</td>\n",
       "    </tr>\n",
       "    <tr>\n",
       "      <th>29921</th>\n",
       "      <td>2018-01-01</td>\n",
       "      <td>810</td>\n",
       "      <td>801.0</td>\n",
       "      <td>306.0</td>\n",
       "      <td>GARE DE LYON</td>\n",
       "      <td>73626.0</td>\n",
       "      <td>NAVIGO</td>\n",
       "      <td>17061.0</td>\n",
       "    </tr>\n",
       "    <tr>\n",
       "      <th>29923</th>\n",
       "      <td>2018-01-01</td>\n",
       "      <td>810</td>\n",
       "      <td>801.0</td>\n",
       "      <td>306.0</td>\n",
       "      <td>GARE DE LYON</td>\n",
       "      <td>73626.0</td>\n",
       "      <td>?</td>\n",
       "      <td>5.0</td>\n",
       "    </tr>\n",
       "    <tr>\n",
       "      <th>30771</th>\n",
       "      <td>2018-01-01</td>\n",
       "      <td>100</td>\n",
       "      <td>110.0</td>\n",
       "      <td>317.0</td>\n",
       "      <td>GARE DE LYON</td>\n",
       "      <td>73626.0</td>\n",
       "      <td>IMAGINE R</td>\n",
       "      <td>918.0</td>\n",
       "    </tr>\n",
       "    <tr>\n",
       "      <th>30772</th>\n",
       "      <td>2018-01-01</td>\n",
       "      <td>100</td>\n",
       "      <td>110.0</td>\n",
       "      <td>317.0</td>\n",
       "      <td>GARE DE LYON</td>\n",
       "      <td>73626.0</td>\n",
       "      <td>AMETHYSTE</td>\n",
       "      <td>181.0</td>\n",
       "    </tr>\n",
       "    <tr>\n",
       "      <th>30777</th>\n",
       "      <td>2018-01-01</td>\n",
       "      <td>100</td>\n",
       "      <td>110.0</td>\n",
       "      <td>317.0</td>\n",
       "      <td>GARE DE LYON</td>\n",
       "      <td>73626.0</td>\n",
       "      <td>?</td>\n",
       "      <td>4.0</td>\n",
       "    </tr>\n",
       "    <tr>\n",
       "      <th>31790</th>\n",
       "      <td>2018-01-01</td>\n",
       "      <td>810</td>\n",
       "      <td>801.0</td>\n",
       "      <td>306.0</td>\n",
       "      <td>GARE DE LYON</td>\n",
       "      <td>73626.0</td>\n",
       "      <td>AUTRE TITRE</td>\n",
       "      <td>1181.0</td>\n",
       "    </tr>\n",
       "    <tr>\n",
       "      <th>44377</th>\n",
       "      <td>2018-01-01</td>\n",
       "      <td>800</td>\n",
       "      <td>804.0</td>\n",
       "      <td>307.0</td>\n",
       "      <td>GARE DE LYON</td>\n",
       "      <td>73626.0</td>\n",
       "      <td>AUTRE TITRE</td>\n",
       "      <td>9.0</td>\n",
       "    </tr>\n",
       "    <tr>\n",
       "      <th>44381</th>\n",
       "      <td>2018-01-01</td>\n",
       "      <td>800</td>\n",
       "      <td>804.0</td>\n",
       "      <td>307.0</td>\n",
       "      <td>GARE DE LYON</td>\n",
       "      <td>73626.0</td>\n",
       "      <td>FGT</td>\n",
       "      <td>88.0</td>\n",
       "    </tr>\n",
       "    <tr>\n",
       "      <th>44620</th>\n",
       "      <td>2018-01-01</td>\n",
       "      <td>100</td>\n",
       "      <td>110.0</td>\n",
       "      <td>317.0</td>\n",
       "      <td>GARE DE LYON</td>\n",
       "      <td>73626.0</td>\n",
       "      <td>NAVIGO</td>\n",
       "      <td>5004.0</td>\n",
       "    </tr>\n",
       "    <tr>\n",
       "      <th>130120</th>\n",
       "      <td>2018-01-01</td>\n",
       "      <td>810</td>\n",
       "      <td>801.0</td>\n",
       "      <td>306.0</td>\n",
       "      <td>GARE DE LYON</td>\n",
       "      <td>73626.0</td>\n",
       "      <td>IMAGINE R</td>\n",
       "      <td>3611.0</td>\n",
       "    </tr>\n",
       "    <tr>\n",
       "      <th>130123</th>\n",
       "      <td>2018-01-01</td>\n",
       "      <td>810</td>\n",
       "      <td>801.0</td>\n",
       "      <td>306.0</td>\n",
       "      <td>GARE DE LYON</td>\n",
       "      <td>73626.0</td>\n",
       "      <td>FGT</td>\n",
       "      <td>861.0</td>\n",
       "    </tr>\n",
       "    <tr>\n",
       "      <th>142203</th>\n",
       "      <td>2018-01-01</td>\n",
       "      <td>800</td>\n",
       "      <td>804.0</td>\n",
       "      <td>307.0</td>\n",
       "      <td>GARE DE LYON</td>\n",
       "      <td>73626.0</td>\n",
       "      <td>?</td>\n",
       "      <td>4.0</td>\n",
       "    </tr>\n",
       "    <tr>\n",
       "      <th>679042</th>\n",
       "      <td>2018-01-01</td>\n",
       "      <td>100</td>\n",
       "      <td>110.0</td>\n",
       "      <td>317.0</td>\n",
       "      <td>GARE DE LYON</td>\n",
       "      <td>73626.0</td>\n",
       "      <td>AUTRE TITRE</td>\n",
       "      <td>163.0</td>\n",
       "    </tr>\n",
       "    <tr>\n",
       "      <th>680592</th>\n",
       "      <td>2018-01-01</td>\n",
       "      <td>800</td>\n",
       "      <td>804.0</td>\n",
       "      <td>307.0</td>\n",
       "      <td>GARE DE LYON</td>\n",
       "      <td>73626.0</td>\n",
       "      <td>NAVIGO</td>\n",
       "      <td>697.0</td>\n",
       "    </tr>\n",
       "    <tr>\n",
       "      <th>680593</th>\n",
       "      <td>2018-01-01</td>\n",
       "      <td>800</td>\n",
       "      <td>804.0</td>\n",
       "      <td>307.0</td>\n",
       "      <td>GARE DE LYON</td>\n",
       "      <td>73626.0</td>\n",
       "      <td>TST</td>\n",
       "      <td>75.0</td>\n",
       "    </tr>\n",
       "  </tbody>\n",
       "</table>\n",
       "</div>"
      ],
      "text/plain": [
       "              DAY  CODE_STIF_TRNS  CODE_STIF_RES  CODE_STIF_ARRET  \\\n",
       "161    2018-01-01             800          804.0            307.0   \n",
       "162    2018-01-01             800          804.0            307.0   \n",
       "1342   2018-01-01             810          801.0            306.0   \n",
       "27994  2018-01-01             100          110.0            317.0   \n",
       "27995  2018-01-01             100          110.0            317.0   \n",
       "29920  2018-01-01             810          801.0            306.0   \n",
       "29921  2018-01-01             810          801.0            306.0   \n",
       "29923  2018-01-01             810          801.0            306.0   \n",
       "30771  2018-01-01             100          110.0            317.0   \n",
       "30772  2018-01-01             100          110.0            317.0   \n",
       "30777  2018-01-01             100          110.0            317.0   \n",
       "31790  2018-01-01             810          801.0            306.0   \n",
       "44377  2018-01-01             800          804.0            307.0   \n",
       "44381  2018-01-01             800          804.0            307.0   \n",
       "44620  2018-01-01             100          110.0            317.0   \n",
       "130120 2018-01-01             810          801.0            306.0   \n",
       "130123 2018-01-01             810          801.0            306.0   \n",
       "142203 2018-01-01             800          804.0            307.0   \n",
       "679042 2018-01-01             100          110.0            317.0   \n",
       "680592 2018-01-01             800          804.0            307.0   \n",
       "680593 2018-01-01             800          804.0            307.0   \n",
       "\n",
       "           STOP_NAME  ID_REFA_LDA  TICKET_TYPE  NB_CHECKINS  \n",
       "161     GARE DE LYON      73626.0    IMAGINE R        332.0  \n",
       "162     GARE DE LYON      73626.0    AMETHYSTE         37.0  \n",
       "1342    GARE DE LYON      73626.0          TST        800.0  \n",
       "27994   GARE DE LYON      73626.0          FGT        203.0  \n",
       "27995   GARE DE LYON      73626.0          TST        172.0  \n",
       "29920   GARE DE LYON      73626.0    AMETHYSTE        366.0  \n",
       "29921   GARE DE LYON      73626.0       NAVIGO      17061.0  \n",
       "29923   GARE DE LYON      73626.0            ?          5.0  \n",
       "30771   GARE DE LYON      73626.0    IMAGINE R        918.0  \n",
       "30772   GARE DE LYON      73626.0    AMETHYSTE        181.0  \n",
       "30777   GARE DE LYON      73626.0            ?          4.0  \n",
       "31790   GARE DE LYON      73626.0  AUTRE TITRE       1181.0  \n",
       "44377   GARE DE LYON      73626.0  AUTRE TITRE          9.0  \n",
       "44381   GARE DE LYON      73626.0          FGT         88.0  \n",
       "44620   GARE DE LYON      73626.0       NAVIGO       5004.0  \n",
       "130120  GARE DE LYON      73626.0    IMAGINE R       3611.0  \n",
       "130123  GARE DE LYON      73626.0          FGT        861.0  \n",
       "142203  GARE DE LYON      73626.0            ?          4.0  \n",
       "679042  GARE DE LYON      73626.0  AUTRE TITRE        163.0  \n",
       "680592  GARE DE LYON      73626.0       NAVIGO        697.0  \n",
       "680593  GARE DE LYON      73626.0          TST         75.0  "
      ]
     },
     "execution_count": 188,
     "metadata": {},
     "output_type": "execute_result"
    }
   ],
   "source": [
    "# Let's look at values for 1 random day for GARE DE LYON, which we know has multiple stop types (metro, train, etc.)\n",
    "\n",
    "nb_checkins.loc[(nb_checkins['DAY'] == '2018-01-01')&(nb_checkins['STOP_NAME'].str.contains('GARE DE LYON'))]"
   ]
  },
  {
   "cell_type": "markdown",
   "metadata": {},
   "source": [
    "Looking at the dataframe above, we see that for 1 LDA, there are multiple CODE_STIF_ARRET. The CODE_STIF_ARRET is different for each network category within a station. The different network categories are designated by the CODE_STIF_RES, which uses the number 110 for metro network."
   ]
  },
  {
   "cell_type": "code",
   "execution_count": 189,
   "metadata": {},
   "outputs": [],
   "source": [
    "# Filter by metro station\n",
    "\n",
    "metro_nb = nb_checkins.loc[nb_checkins['CODE_STIF_RES']==110]"
   ]
  },
  {
   "cell_type": "code",
   "execution_count": 190,
   "metadata": {},
   "outputs": [
    {
     "data": {
      "text/plain": [
       "(744502, 8)"
      ]
     },
     "execution_count": 190,
     "metadata": {},
     "output_type": "execute_result"
    }
   ],
   "source": [
    "# Shape of the filtered dataframe\n",
    "\n",
    "metro_nb.shape"
   ]
  },
  {
   "cell_type": "code",
   "execution_count": 191,
   "metadata": {},
   "outputs": [
    {
     "data": {
      "text/plain": [
       "301"
      ]
     },
     "execution_count": 191,
     "metadata": {},
     "output_type": "execute_result"
    }
   ],
   "source": [
    "metro_nb['STOP_NAME'].nunique()"
   ]
  },
  {
   "cell_type": "markdown",
   "metadata": {},
   "source": [
    "This number is consistent with the number indicated in the Wikipedia page for Paris metro: 302 (https://en.wikipedia.org/wiki/Paris_M%C3%A9tro)\n",
    "\n",
    "A station might be missing from metro_nb. We will have to check it with the repository of metro stations and the geographical data of metro stations."
   ]
  },
  {
   "cell_type": "code",
   "execution_count": 192,
   "metadata": {},
   "outputs": [
    {
     "data": {
      "text/plain": [
       "971230981.0"
      ]
     },
     "execution_count": 192,
     "metadata": {},
     "output_type": "execute_result"
    }
   ],
   "source": [
    "metro_nb['NB_CHECKINS'].sum()"
   ]
  },
  {
   "cell_type": "markdown",
   "metadata": {},
   "source": [
    "### 2.B.f. Missing values <a name=\"2Bf\"></a>"
   ]
  },
  {
   "cell_type": "code",
   "execution_count": 193,
   "metadata": {},
   "outputs": [
    {
     "name": "stdout",
     "output_type": "stream",
     "text": [
      "<class 'pandas.core.frame.DataFrame'>\n",
      "Int64Index: 744502 entries, 0 to 883141\n",
      "Data columns (total 8 columns):\n",
      "DAY                744502 non-null datetime64[ns]\n",
      "CODE_STIF_TRNS     744502 non-null int64\n",
      "CODE_STIF_RES      744502 non-null float64\n",
      "CODE_STIF_ARRET    744502 non-null float64\n",
      "STOP_NAME          744502 non-null object\n",
      "ID_REFA_LDA        742269 non-null float64\n",
      "TICKET_TYPE        744502 non-null object\n",
      "NB_CHECKINS        710580 non-null float64\n",
      "dtypes: datetime64[ns](1), float64(4), int64(1), object(2)\n",
      "memory usage: 51.1+ MB\n"
     ]
    }
   ],
   "source": [
    "metro_nb.info()"
   ]
  },
  {
   "cell_type": "code",
   "execution_count": 194,
   "metadata": {},
   "outputs": [
    {
     "data": {
      "text/plain": [
       "DAY                  365\n",
       "CODE_STIF_TRNS         1\n",
       "CODE_STIF_RES          1\n",
       "CODE_STIF_ARRET      301\n",
       "STOP_NAME            301\n",
       "ID_REFA_LDA          300\n",
       "TICKET_TYPE            8\n",
       "NB_CHECKINS        19339\n",
       "dtype: int64"
      ]
     },
     "execution_count": 194,
     "metadata": {},
     "output_type": "execute_result"
    }
   ],
   "source": [
    "metro_nb.nunique()"
   ]
  },
  {
   "cell_type": "markdown",
   "metadata": {},
   "source": [
    "We see that the TICKET_TYPE column has 8 unique values instead of 7. We saw before that some missing values were designated by a question mark in the column.\n",
    "\n",
    "There are missing ID_REFA_LDA. This column has 300 unique values when it should have 301 (as CODE_STIF_ARRET and STOP_NAME). 1 ID_REFA_LDA is probably missing for a bunch of rows.\n",
    "\n",
    "Finally, NB_CHECKINS has missing values. "
   ]
  },
  {
   "cell_type": "markdown",
   "metadata": {},
   "source": [
    "#### TICKET_TYPE"
   ]
  },
  {
   "cell_type": "code",
   "execution_count": 195,
   "metadata": {},
   "outputs": [
    {
     "data": {
      "text/plain": [
       "AUTRE TITRE    107995\n",
       "NAVIGO         107959\n",
       "IMAGINE R      107906\n",
       "FGT            107893\n",
       "TST            107886\n",
       "AMETHYSTE      107882\n",
       "?               88752\n",
       "NON DEFINI       8229\n",
       "Name: TICKET_TYPE, dtype: int64"
      ]
     },
     "execution_count": 195,
     "metadata": {},
     "output_type": "execute_result"
    }
   ],
   "source": [
    "metro_nb['TICKET_TYPE'].value_counts()"
   ]
  },
  {
   "cell_type": "markdown",
   "metadata": {},
   "source": [
    "We see that there are 2 incorrectly designated missing values in the TICKET_TYPE column: '?' and 'NON DEFINI' (undefined). These indicate anomalies at the time of checkin.\n",
    "\n",
    "'AUTRE TITRE' (other type of fare) could suggest that the rate plan is unknown, but it does in fact designate a group of other special rate plans that probably are not common enough each on its own to appear in separate groups.\n",
    "\n",
    "Fortunately, '?' and 'NON DEFINI' are not as frequent as the 6 valid plan rates.\n",
    "\n",
    "The fact that each rate plan does not have the same number of rows means that when no checkins are registered for a specific day, stop and rate plan, the row is missing from the data.\n",
    "\n",
    "Let's see if dropping the lines for which the TICKET_TYPE column is '?' or 'NON DEFINI' would cause information loss."
   ]
  },
  {
   "cell_type": "code",
   "execution_count": 196,
   "metadata": {},
   "outputs": [],
   "source": [
    "# Rows where the TICKET_TYPE is missing\n",
    "\n",
    "rate_missing = metro_nb[metro_nb['TICKET_TYPE'].isin(['?','NON DEFINI'])]"
   ]
  },
  {
   "cell_type": "code",
   "execution_count": 197,
   "metadata": {},
   "outputs": [
    {
     "data": {
      "text/html": [
       "<div>\n",
       "<style scoped>\n",
       "    .dataframe tbody tr th:only-of-type {\n",
       "        vertical-align: middle;\n",
       "    }\n",
       "\n",
       "    .dataframe tbody tr th {\n",
       "        vertical-align: top;\n",
       "    }\n",
       "\n",
       "    .dataframe thead th {\n",
       "        text-align: right;\n",
       "    }\n",
       "</style>\n",
       "<table border=\"1\" class=\"dataframe\">\n",
       "  <thead>\n",
       "    <tr style=\"text-align: right;\">\n",
       "      <th></th>\n",
       "      <th>DAY</th>\n",
       "      <th>STOP_NAME</th>\n",
       "    </tr>\n",
       "  </thead>\n",
       "  <tbody>\n",
       "    <tr>\n",
       "      <th>count</th>\n",
       "      <td>96981</td>\n",
       "      <td>96981</td>\n",
       "    </tr>\n",
       "    <tr>\n",
       "      <th>unique</th>\n",
       "      <td>365</td>\n",
       "      <td>301</td>\n",
       "    </tr>\n",
       "    <tr>\n",
       "      <th>top</th>\n",
       "      <td>2018-10-13 00:00:00</td>\n",
       "      <td>PALAIS ROYAL-MUSEE DU LOUVRE</td>\n",
       "    </tr>\n",
       "    <tr>\n",
       "      <th>freq</th>\n",
       "      <td>398</td>\n",
       "      <td>459</td>\n",
       "    </tr>\n",
       "    <tr>\n",
       "      <th>first</th>\n",
       "      <td>2018-01-01 00:00:00</td>\n",
       "      <td>NaN</td>\n",
       "    </tr>\n",
       "    <tr>\n",
       "      <th>last</th>\n",
       "      <td>2018-12-31 00:00:00</td>\n",
       "      <td>NaN</td>\n",
       "    </tr>\n",
       "  </tbody>\n",
       "</table>\n",
       "</div>"
      ],
      "text/plain": [
       "                        DAY                     STOP_NAME\n",
       "count                 96981                         96981\n",
       "unique                  365                           301\n",
       "top     2018-10-13 00:00:00  PALAIS ROYAL-MUSEE DU LOUVRE\n",
       "freq                    398                           459\n",
       "first   2018-01-01 00:00:00                           NaN\n",
       "last    2018-12-31 00:00:00                           NaN"
      ]
     },
     "execution_count": 197,
     "metadata": {},
     "output_type": "execute_result"
    }
   ],
   "source": [
    "rate_missing[['DAY','STOP_NAME']].describe()"
   ]
  },
  {
   "cell_type": "markdown",
   "metadata": {},
   "source": [
    "Missing values are distributed among all the values in the DAY column and most of the values in the STOP_NAME column."
   ]
  },
  {
   "cell_type": "code",
   "execution_count": 198,
   "metadata": {},
   "outputs": [
    {
     "data": {
      "text/plain": [
       "0.05104511796869874"
      ]
     },
     "execution_count": 198,
     "metadata": {},
     "output_type": "execute_result"
    }
   ],
   "source": [
    "rate_missing_perc = (rate_missing['NB_CHECKINS'].sum()/metro_nb['NB_CHECKINS'].sum())*100\n",
    "rate_missing_perc"
   ]
  },
  {
   "cell_type": "markdown",
   "metadata": {},
   "source": [
    "Missing rate values account for more than 0.05% of all checkins.\n",
    "\n",
    "Let's make sure that the number of checkins when the rate plan is missing is proportionate to the total number of checkins for stops."
   ]
  },
  {
   "cell_type": "markdown",
   "metadata": {},
   "source": [
    "#### Correlation between missing ticket type and number of checkins per stop"
   ]
  },
  {
   "cell_type": "code",
   "execution_count": 199,
   "metadata": {},
   "outputs": [],
   "source": [
    "# Group metro_nb by 'STOP_NAME' and sum() 'NB_CHECKINS'. Sort in ascending order by 'NB_CHECKINS'\n",
    "\n",
    "gp_stop = metro_nb.groupby('STOP_NAME')\n",
    "sum_stop = gp_stop.sum().sort_values('NB_CHECKINS', ascending=True)\n",
    "sum_stop = sum_stop.reset_index()\n",
    "sum_stop = sum_stop[['STOP_NAME', 'NB_CHECKINS']]\n",
    "\n",
    "# Group rate_missing by 'STOP_NAME' and sum() 'NB_CHECKINS'\n",
    "\n",
    "gp_stop_missing = rate_missing.groupby('STOP_NAME')\n",
    "sum_stop_missing = gp_stop_missing.sum()\n",
    "sum_stop_missing.reset_index(inplace=True)\n",
    "sum_stop_missing = sum_stop_missing[['STOP_NAME', 'NB_CHECKINS']]\n",
    "\n",
    "# Merge both dataframes. The resulting dataframe is sorted by 'NB_CHECKINS'\n",
    "\n",
    "join_stop = pd.merge(left=sum_stop, right=sum_stop_missing, on='STOP_NAME', how='left', suffixes=('_all','_missing_rate'))\n"
   ]
  },
  {
   "cell_type": "code",
   "execution_count": 200,
   "metadata": {},
   "outputs": [
    {
     "data": {
      "image/png": "[encoded data removed]",
      "text/plain": [
       "<Figure size 432x288 with 1 Axes>"
      ]
     },
     "metadata": {},
     "output_type": "display_data"
    }
   ],
   "source": [
    "# Plot the NB_CHECKINS_all and NB_CHECKINS_missing_rate columns of the join_stop dataframe to see if they are correlated\n",
    "\n",
    "x = join_stop['STOP_NAME']\n",
    "y = join_stop['NB_CHECKINS_missing_rate']\n",
    "\n",
    "fig, ax = plt.subplots()\n",
    "\n",
    "ax.set_xticklabels([])\n",
    "\n",
    "ax.set_title(\"NB_CHECKINS_missing_rate by STOP_NAME, ordered by NB_CHECKINS_all\")\n",
    "\n",
    "ax.scatter(x,y)\n",
    "\n",
    "plt.show()"
   ]
  },
  {
   "cell_type": "code",
   "execution_count": 201,
   "metadata": {},
   "outputs": [
    {
     "data": {
      "text/html": [
       "<div>\n",
       "<style scoped>\n",
       "    .dataframe tbody tr th:only-of-type {\n",
       "        vertical-align: middle;\n",
       "    }\n",
       "\n",
       "    .dataframe tbody tr th {\n",
       "        vertical-align: top;\n",
       "    }\n",
       "\n",
       "    .dataframe thead th {\n",
       "        text-align: right;\n",
       "    }\n",
       "</style>\n",
       "<table border=\"1\" class=\"dataframe\">\n",
       "  <thead>\n",
       "    <tr style=\"text-align: right;\">\n",
       "      <th></th>\n",
       "      <th>NB_CHECKINS_all</th>\n",
       "      <th>NB_CHECKINS_missing_rate</th>\n",
       "    </tr>\n",
       "  </thead>\n",
       "  <tbody>\n",
       "    <tr>\n",
       "      <th>NB_CHECKINS_all</th>\n",
       "      <td>1.00000</td>\n",
       "      <td>0.82108</td>\n",
       "    </tr>\n",
       "    <tr>\n",
       "      <th>NB_CHECKINS_missing_rate</th>\n",
       "      <td>0.82108</td>\n",
       "      <td>1.00000</td>\n",
       "    </tr>\n",
       "  </tbody>\n",
       "</table>\n",
       "</div>"
      ],
      "text/plain": [
       "                          NB_CHECKINS_all  NB_CHECKINS_missing_rate\n",
       "NB_CHECKINS_all                   1.00000                   0.82108\n",
       "NB_CHECKINS_missing_rate          0.82108                   1.00000"
      ]
     },
     "execution_count": 201,
     "metadata": {},
     "output_type": "execute_result"
    }
   ],
   "source": [
    "# Pearson correlation coefficient\n",
    "\n",
    "join_stop_corr = join_stop[['NB_CHECKINS_all', 'NB_CHECKINS_missing_rate']].corr()\n",
    "join_stop_corr"
   ]
  },
  {
   "cell_type": "markdown",
   "metadata": {},
   "source": [
    "There is a high correlation between the number of checkins with missing information about the rate plan and the total number of checkins per stop. For NB_CHECKINS above 10 million, the correlation still holds but the slope is much steeper.\n",
    "\n",
    "Therefore, dropping those rows would not result in a loss of information when it comes to the number of checkins per stop."
   ]
  },
  {
   "cell_type": "markdown",
   "metadata": {},
   "source": [
    "#### Correlation between missing ticket type and number of checkins per day"
   ]
  },
  {
   "cell_type": "code",
   "execution_count": 202,
   "metadata": {},
   "outputs": [],
   "source": [
    "# Group metro_nb by 'DAY' and sum() 'NB_CHECKINS'. Sort in ascending order by 'NB_CHECKINS'\n",
    "\n",
    "gp_day = metro_nb.groupby('DAY')\n",
    "sum_day = gp_day.sum().sort_values('NB_CHECKINS', ascending=True)\n",
    "sum_day.reset_index(inplace=True)\n",
    "sum_day = sum_day[['DAY', 'NB_CHECKINS']]\n",
    "\n",
    "# Group rate_missing by 'DAY' and sum() 'NB_CHECKINS'\n",
    "\n",
    "gp_day_missing = rate_missing.groupby('DAY')\n",
    "sum_day_missing = gp_day_missing.sum()\n",
    "sum_day_missing.reset_index(inplace=True)\n",
    "sum_day_missing = sum_day_missing[['DAY', 'NB_CHECKINS']]\n",
    "\n",
    "# Merge both dataframes. The resulting dataframe is sorted by 'NB_CHECKINS'\n",
    "\n",
    "join_day = pd.merge(left=sum_day, right=sum_day_missing, on='DAY', how='left', suffixes=('_all','_missing_rate'))"
   ]
  },
  {
   "cell_type": "code",
   "execution_count": 203,
   "metadata": {
    "scrolled": false
   },
   "outputs": [
    {
     "data": {
      "image/png": "[encoded data removed]",
      "text/plain": [
       "<Figure size 432x288 with 1 Axes>"
      ]
     },
     "metadata": {},
     "output_type": "display_data"
    }
   ],
   "source": [
    "# Plot the NB_CHECKINS_all and NB_CHECKINS_missing_rate columns of the join_day dataframe to see if they are correlated\n",
    "\n",
    "x = join_day['DAY'].astype('str')\n",
    "y = join_day['NB_CHECKINS_missing_rate']\n",
    "\n",
    "fig, ax = plt.subplots()\n",
    "\n",
    "ax.set_xticklabels([])\n",
    "\n",
    "ax.set_title('NB_CHECKINS_missing_rate by DAY, ordered by NB_CHECKINS_all')\n",
    "\n",
    "ax.scatter(x,y)\n",
    "\n",
    "plt.show()"
   ]
  },
  {
   "cell_type": "code",
   "execution_count": 204,
   "metadata": {},
   "outputs": [
    {
     "data": {
      "text/html": [
       "<div>\n",
       "<style scoped>\n",
       "    .dataframe tbody tr th:only-of-type {\n",
       "        vertical-align: middle;\n",
       "    }\n",
       "\n",
       "    .dataframe tbody tr th {\n",
       "        vertical-align: top;\n",
       "    }\n",
       "\n",
       "    .dataframe thead th {\n",
       "        text-align: right;\n",
       "    }\n",
       "</style>\n",
       "<table border=\"1\" class=\"dataframe\">\n",
       "  <thead>\n",
       "    <tr style=\"text-align: right;\">\n",
       "      <th></th>\n",
       "      <th>NB_CHECKINS_all</th>\n",
       "      <th>NB_CHECKINS_missing_rate</th>\n",
       "    </tr>\n",
       "  </thead>\n",
       "  <tbody>\n",
       "    <tr>\n",
       "      <th>NB_CHECKINS_all</th>\n",
       "      <td>1.000000</td>\n",
       "      <td>0.066216</td>\n",
       "    </tr>\n",
       "    <tr>\n",
       "      <th>NB_CHECKINS_missing_rate</th>\n",
       "      <td>0.066216</td>\n",
       "      <td>1.000000</td>\n",
       "    </tr>\n",
       "  </tbody>\n",
       "</table>\n",
       "</div>"
      ],
      "text/plain": [
       "                          NB_CHECKINS_all  NB_CHECKINS_missing_rate\n",
       "NB_CHECKINS_all                  1.000000                  0.066216\n",
       "NB_CHECKINS_missing_rate         0.066216                  1.000000"
      ]
     },
     "execution_count": 204,
     "metadata": {},
     "output_type": "execute_result"
    }
   ],
   "source": [
    "# Pearson correlation coefficient\n",
    "\n",
    "join_day_corr = join_day[['NB_CHECKINS_all', 'NB_CHECKINS_missing_rate']].corr()\n",
    "join_day_corr"
   ]
  },
  {
   "cell_type": "markdown",
   "metadata": {},
   "source": [
    "The correlation between the number of checkins with missing data regarding the rate plan and the total number of checkins per day is weak. This actually makes sense, because when such anomalies occur, they probably impact most of the checkins for the day, regardless of how busy that day is. On the other hand, if a station has a high number of checkins year round, such anomalies will impact a high number of checkins, regardless of the day when the anomaly occurs.\n",
    "\n",
    "Dropping those rows would not impact our analysis of the number of checkins per stop, but it would impact our analysis per day.\n",
    "\n",
    "Let's keep these rows but re-label them."
   ]
  },
  {
   "cell_type": "code",
   "execution_count": 205,
   "metadata": {},
   "outputs": [
    {
     "name": "stderr",
     "output_type": "stream",
     "text": [
      "/Users/fannykassapian/anaconda3/lib/python3.6/site-packages/pandas/core/generic.py:4619: SettingWithCopyWarning: \n",
      "A value is trying to be set on a copy of a slice from a DataFrame\n",
      "\n",
      "See the caveats in the documentation: http://pandas.pydata.org/pandas-docs/stable/indexing.html#indexing-view-versus-copy\n",
      "  self._update_inplace(new_data)\n"
     ]
    }
   ],
   "source": [
    "# Replace '?' and 'NON DEFINI' by 'NA' (Not available)\n",
    "\n",
    "metro_nb['TICKET_TYPE'].replace(['?', 'NON DEFINI'], ['NA', 'NA'],inplace=True)"
   ]
  },
  {
   "cell_type": "code",
   "execution_count": 206,
   "metadata": {},
   "outputs": [
    {
     "data": {
      "text/plain": [
       "AUTRE TITRE    107995\n",
       "NAVIGO         107959\n",
       "IMAGINE R      107906\n",
       "FGT            107893\n",
       "TST            107886\n",
       "AMETHYSTE      107882\n",
       "NA              96981\n",
       "Name: TICKET_TYPE, dtype: int64"
      ]
     },
     "execution_count": 206,
     "metadata": {},
     "output_type": "execute_result"
    }
   ],
   "source": [
    "metro_nb['TICKET_TYPE'].value_counts()"
   ]
  },
  {
   "cell_type": "markdown",
   "metadata": {},
   "source": [
    "#### ID_REFA_LDA"
   ]
  },
  {
   "cell_type": "code",
   "execution_count": 207,
   "metadata": {},
   "outputs": [
    {
     "data": {
      "text/plain": [
       "array(['PORTE DAUPHINE'], dtype=object)"
      ]
     },
     "execution_count": 207,
     "metadata": {},
     "output_type": "execute_result"
    }
   ],
   "source": [
    "# Identify the missing ID_REFA_LDA\n",
    "\n",
    "metro_nb.loc[metro_nb['ID_REFA_LDA'].isnull(),'STOP_NAME'].unique()"
   ]
  },
  {
   "cell_type": "markdown",
   "metadata": {},
   "source": [
    "The ID_REFA_LDA is missing for the station PORTE DAUPHINE."
   ]
  },
  {
   "cell_type": "code",
   "execution_count": 208,
   "metadata": {},
   "outputs": [
    {
     "data": {
      "text/html": [
       "<div>\n",
       "<style scoped>\n",
       "    .dataframe tbody tr th:only-of-type {\n",
       "        vertical-align: middle;\n",
       "    }\n",
       "\n",
       "    .dataframe tbody tr th {\n",
       "        vertical-align: top;\n",
       "    }\n",
       "\n",
       "    .dataframe thead th {\n",
       "        text-align: right;\n",
       "    }\n",
       "</style>\n",
       "<table border=\"1\" class=\"dataframe\">\n",
       "  <thead>\n",
       "    <tr style=\"text-align: right;\">\n",
       "      <th></th>\n",
       "      <th>DAY</th>\n",
       "      <th>CODE_STIF_TRNS</th>\n",
       "      <th>CODE_STIF_RES</th>\n",
       "      <th>CODE_STIF_ARRET</th>\n",
       "      <th>STOP_NAME</th>\n",
       "      <th>ID_REFA_LDA</th>\n",
       "      <th>TICKET_TYPE</th>\n",
       "      <th>NB_CHECKINS</th>\n",
       "    </tr>\n",
       "  </thead>\n",
       "  <tbody>\n",
       "    <tr>\n",
       "      <th>1018</th>\n",
       "      <td>2018-05-09</td>\n",
       "      <td>100</td>\n",
       "      <td>110.0</td>\n",
       "      <td>682.0</td>\n",
       "      <td>PORTE DAUPHINE</td>\n",
       "      <td>NaN</td>\n",
       "      <td>IMAGINE R</td>\n",
       "      <td>2106.0</td>\n",
       "    </tr>\n",
       "    <tr>\n",
       "      <th>3704</th>\n",
       "      <td>2018-01-03</td>\n",
       "      <td>100</td>\n",
       "      <td>110.0</td>\n",
       "      <td>682.0</td>\n",
       "      <td>PORTE DAUPHINE</td>\n",
       "      <td>NaN</td>\n",
       "      <td>AUTRE TITRE</td>\n",
       "      <td>98.0</td>\n",
       "    </tr>\n",
       "    <tr>\n",
       "      <th>4831</th>\n",
       "      <td>2018-01-07</td>\n",
       "      <td>100</td>\n",
       "      <td>110.0</td>\n",
       "      <td>682.0</td>\n",
       "      <td>PORTE DAUPHINE</td>\n",
       "      <td>NaN</td>\n",
       "      <td>FGT</td>\n",
       "      <td>89.0</td>\n",
       "    </tr>\n",
       "    <tr>\n",
       "      <th>4832</th>\n",
       "      <td>2018-01-07</td>\n",
       "      <td>100</td>\n",
       "      <td>110.0</td>\n",
       "      <td>682.0</td>\n",
       "      <td>PORTE DAUPHINE</td>\n",
       "      <td>NaN</td>\n",
       "      <td>NAVIGO</td>\n",
       "      <td>1337.0</td>\n",
       "    </tr>\n",
       "    <tr>\n",
       "      <th>4833</th>\n",
       "      <td>2018-01-07</td>\n",
       "      <td>100</td>\n",
       "      <td>110.0</td>\n",
       "      <td>682.0</td>\n",
       "      <td>PORTE DAUPHINE</td>\n",
       "      <td>NaN</td>\n",
       "      <td>TST</td>\n",
       "      <td>147.0</td>\n",
       "    </tr>\n",
       "  </tbody>\n",
       "</table>\n",
       "</div>"
      ],
      "text/plain": [
       "            DAY  CODE_STIF_TRNS  CODE_STIF_RES  CODE_STIF_ARRET  \\\n",
       "1018 2018-05-09             100          110.0            682.0   \n",
       "3704 2018-01-03             100          110.0            682.0   \n",
       "4831 2018-01-07             100          110.0            682.0   \n",
       "4832 2018-01-07             100          110.0            682.0   \n",
       "4833 2018-01-07             100          110.0            682.0   \n",
       "\n",
       "           STOP_NAME  ID_REFA_LDA  TICKET_TYPE  NB_CHECKINS  \n",
       "1018  PORTE DAUPHINE          NaN    IMAGINE R       2106.0  \n",
       "3704  PORTE DAUPHINE          NaN  AUTRE TITRE         98.0  \n",
       "4831  PORTE DAUPHINE          NaN          FGT         89.0  \n",
       "4832  PORTE DAUPHINE          NaN       NAVIGO       1337.0  \n",
       "4833  PORTE DAUPHINE          NaN          TST        147.0  "
      ]
     },
     "execution_count": 208,
     "metadata": {},
     "output_type": "execute_result"
    }
   ],
   "source": [
    "metro_nb[metro_nb['ID_REFA_LDA'].isnull()].head()"
   ]
  },
  {
   "cell_type": "markdown",
   "metadata": {},
   "source": [
    "Let's see if we can replace it using ref_stops"
   ]
  },
  {
   "cell_type": "code",
   "execution_count": 209,
   "metadata": {},
   "outputs": [
    {
     "data": {
      "text/plain": [
       "474152"
      ]
     },
     "execution_count": 209,
     "metadata": {},
     "output_type": "execute_result"
    }
   ],
   "source": [
    "pd_lda = ref_stops.loc[ref_stops['LDA_NOM'] == 'PORTE DAUPHINE', 'LDA_ID_REF_A'].unique()[0]\n",
    "\n",
    "pd_lda = pd_lda.astype(int)\n",
    "\n",
    "pd_lda"
   ]
  },
  {
   "cell_type": "code",
   "execution_count": 210,
   "metadata": {},
   "outputs": [
    {
     "name": "stderr",
     "output_type": "stream",
     "text": [
      "/Users/fannykassapian/anaconda3/lib/python3.6/site-packages/pandas/core/indexing.py:537: SettingWithCopyWarning: \n",
      "A value is trying to be set on a copy of a slice from a DataFrame.\n",
      "Try using .loc[row_indexer,col_indexer] = value instead\n",
      "\n",
      "See the caveats in the documentation: http://pandas.pydata.org/pandas-docs/stable/indexing.html#indexing-view-versus-copy\n",
      "  self.obj[item] = s\n"
     ]
    }
   ],
   "source": [
    "# Replace missing values by 474152\n",
    "\n",
    "metro_nb.loc[metro_nb['STOP_NAME'] == 'PORTE DAUPHINE', 'ID_REFA_LDA'] = pd_lda"
   ]
  },
  {
   "cell_type": "markdown",
   "metadata": {},
   "source": [
    "#### NB_CHECKINS"
   ]
  },
  {
   "cell_type": "code",
   "execution_count": 211,
   "metadata": {},
   "outputs": [
    {
     "data": {
      "text/plain": [
       "0.04556334301318197"
      ]
     },
     "execution_count": 211,
     "metadata": {},
     "output_type": "execute_result"
    }
   ],
   "source": [
    "# Percentage of rows with missing number of checkins\n",
    "\n",
    "perc_missing = (len(metro_nb[metro_nb['NB_CHECKINS'].isnull()]))/(len(metro_nb))\n",
    "\n",
    "perc_missing"
   ]
  },
  {
   "cell_type": "markdown",
   "metadata": {},
   "source": [
    "Missing values in the NB_CHECKINS column account for 4.5% of all rows.\n",
    "\n",
    "Let's see if these missing values correspond to data from a particular column. "
   ]
  },
  {
   "cell_type": "code",
   "execution_count": 212,
   "metadata": {},
   "outputs": [
    {
     "data": {
      "text/plain": [
       "DAY            184\n",
       "ID_REFA_LDA    301\n",
       "TICKET_TYPE      7\n",
       "dtype: int64"
      ]
     },
     "execution_count": 212,
     "metadata": {},
     "output_type": "execute_result"
    }
   ],
   "source": [
    "metro_nb.loc[metro_nb['NB_CHECKINS'].isnull(), ['DAY', 'ID_REFA_LDA', 'TICKET_TYPE']].nunique()"
   ]
  },
  {
   "cell_type": "markdown",
   "metadata": {},
   "source": [
    "These missing values are distributed among all ID_REFA_LDA and all TICKET_TYPE unique values.\n",
    "\n",
    "However, we see that these anomalies only occured during the 2nd semester of 2018.\n",
    "\n",
    "Earlier, we saw that data from the 1st semester had strings indicating 'moins de 5' (=less than 5). When there were 0 to and incl. 4 checkins, the STIF did not provide the exact number to prevent the tracking of a particular individual. We replaced these values by 4 in order to cast the column to numeric. \n",
    "\n",
    "It is possible that the same logic was applied for the 2nd semester, but that it is indicated by NaNs."
   ]
  },
  {
   "cell_type": "code",
   "execution_count": 213,
   "metadata": {},
   "outputs": [],
   "source": [
    "# Percentage of rows with a number of checkins less than 5\n",
    "\n",
    "perc_less5 = len(metro_nb.loc[metro_nb['NB_CHECKINS'] == 4])/len(metro_nb)"
   ]
  },
  {
   "cell_type": "markdown",
   "metadata": {},
   "source": [
    "Almost 4% of rows have less than 5 checkins. It seems in line with our hypothesis. \n",
    "\n",
    "To confirm it, let's see if there were NB_CHECKINS values that were less than 5 in the dataset for the 2nd semester (nb_2018s2)"
   ]
  },
  {
   "cell_type": "code",
   "execution_count": 214,
   "metadata": {},
   "outputs": [
    {
     "data": {
      "text/plain": [
       "0"
      ]
     },
     "execution_count": 214,
     "metadata": {},
     "output_type": "execute_result"
    }
   ],
   "source": [
    "len(nb_2018s2[nb_2018s2['NB_CHECKINS']<5])"
   ]
  },
  {
   "cell_type": "code",
   "execution_count": 215,
   "metadata": {},
   "outputs": [
    {
     "data": {
      "text/plain": [
       "14329"
      ]
     },
     "execution_count": 215,
     "metadata": {},
     "output_type": "execute_result"
    }
   ],
   "source": [
    "len(nb_2018s2[nb_2018s2['NB_CHECKINS']==5])"
   ]
  },
  {
   "cell_type": "code",
   "execution_count": 216,
   "metadata": {},
   "outputs": [
    {
     "data": {
      "text/plain": [
       "751027"
      ]
     },
     "execution_count": 216,
     "metadata": {},
     "output_type": "execute_result"
    }
   ],
   "source": [
    "len(nb_2018s2[nb_2018s2['NB_CHECKINS']>5])"
   ]
  },
  {
   "cell_type": "markdown",
   "metadata": {},
   "source": [
    "We see that there were no rows with NB_CHECKINS less than 5 in the data from the 2nd semester. This confirms that the NaNs correspond to values that are less than 5. Let's replace them by 4."
   ]
  },
  {
   "cell_type": "code",
   "execution_count": 217,
   "metadata": {},
   "outputs": [
    {
     "name": "stderr",
     "output_type": "stream",
     "text": [
      "/Users/fannykassapian/anaconda3/lib/python3.6/site-packages/ipykernel_launcher.py:1: SettingWithCopyWarning: \n",
      "A value is trying to be set on a copy of a slice from a DataFrame.\n",
      "Try using .loc[row_indexer,col_indexer] = value instead\n",
      "\n",
      "See the caveats in the documentation: http://pandas.pydata.org/pandas-docs/stable/indexing.html#indexing-view-versus-copy\n",
      "  \"\"\"Entry point for launching an IPython kernel.\n"
     ]
    }
   ],
   "source": [
    "metro_nb['NB_CHECKINS'] = metro_nb['NB_CHECKINS'].fillna(4)"
   ]
  },
  {
   "cell_type": "code",
   "execution_count": 218,
   "metadata": {},
   "outputs": [
    {
     "name": "stdout",
     "output_type": "stream",
     "text": [
      "<class 'pandas.core.frame.DataFrame'>\n",
      "Int64Index: 744502 entries, 0 to 883141\n",
      "Data columns (total 8 columns):\n",
      "DAY                744502 non-null datetime64[ns]\n",
      "CODE_STIF_TRNS     744502 non-null int64\n",
      "CODE_STIF_RES      744502 non-null float64\n",
      "CODE_STIF_ARRET    744502 non-null float64\n",
      "STOP_NAME          744502 non-null object\n",
      "ID_REFA_LDA        744502 non-null float64\n",
      "TICKET_TYPE        744502 non-null object\n",
      "NB_CHECKINS        744502 non-null float64\n",
      "dtypes: datetime64[ns](1), float64(4), int64(1), object(2)\n",
      "memory usage: 51.1+ MB\n"
     ]
    }
   ],
   "source": [
    "metro_nb.info()"
   ]
  },
  {
   "cell_type": "markdown",
   "metadata": {},
   "source": [
    "There are no missing values left in metro_nb."
   ]
  },
  {
   "cell_type": "markdown",
   "metadata": {},
   "source": [
    "### 2.B.g. Drop columns <a name=\"2Bg\"></a>"
   ]
  },
  {
   "cell_type": "code",
   "execution_count": 219,
   "metadata": {},
   "outputs": [
    {
     "name": "stderr",
     "output_type": "stream",
     "text": [
      "/Users/fannykassapian/anaconda3/lib/python3.6/site-packages/ipykernel_launcher.py:5: SettingWithCopyWarning: \n",
      "A value is trying to be set on a copy of a slice from a DataFrame\n",
      "\n",
      "See the caveats in the documentation: http://pandas.pydata.org/pandas-docs/stable/indexing.html#indexing-view-versus-copy\n",
      "  \"\"\"\n"
     ]
    }
   ],
   "source": [
    "# List of columns to drop\n",
    "col_todrop = ['CODE_STIF_TRNS', 'CODE_STIF_RES', 'CODE_STIF_ARRET']\n",
    "\n",
    "# Drop columns\n",
    "metro_nb.drop(columns=col_todrop, inplace=True)"
   ]
  },
  {
   "cell_type": "markdown",
   "metadata": {},
   "source": [
    "## 2.C. Export to .csv <a name=\"2C\"></a>"
   ]
  },
  {
   "cell_type": "code",
   "execution_count": 220,
   "metadata": {},
   "outputs": [],
   "source": [
    "metro_nb = metro_nb.reset_index(drop=True)"
   ]
  },
  {
   "cell_type": "code",
   "execution_count": 221,
   "metadata": {},
   "outputs": [],
   "source": [
    "metro_nb.to_csv('../../datasets/metro_nb.csv', index=None)"
   ]
  },
  {
   "cell_type": "markdown",
   "metadata": {},
   "source": [
    "# 3. Hourly profiles <a name=\"3\"></a>\n",
    "\n",
    "\n",
    "# 3.A. Description & steps <a name=\"3A\"></a>\n",
    "\n",
    "hp_2018s1 and hp_2018s2 provide the percentage of checkins per hour (hourly profile), per station (LDA) and per day category, for the 1st and 2nd semesters of 2018 respectively.\n",
    "\n",
    "As a reminder, here are the steps we identified in order to clean these dataframes:\n",
    "\n",
    "> Rename columns (translate to english, except columns that contain IDs)\n",
    "\n",
    "> Handle misdesignated missing values ('ND', '?')\n",
    "\n",
    "> Cast the ID_REFA_LDA column of pct_2018s2 to numeric\n",
    "\n",
    "> Cast the CODE_STIF_RES & CODE_STIF_ARRET to numeric for both dataframes\n",
    " \n",
    "> Concatenate nb_2018s1 & nb_2018s2 into a new dataframe"
   ]
  },
  {
   "cell_type": "markdown",
   "metadata": {},
   "source": [
    "# 3.B. Cleaning <a name=\"3B\"></a>"
   ]
  },
  {
   "cell_type": "code",
   "execution_count": 222,
   "metadata": {},
   "outputs": [
    {
     "name": "stderr",
     "output_type": "stream",
     "text": [
      "/Users/fannykassapian/anaconda3/lib/python3.6/site-packages/IPython/core/interactiveshell.py:2728: DtypeWarning: Columns (1,2) have mixed types. Specify dtype option on import or set low_memory=False.\n",
      "  interactivity=interactivity, compiler=compiler, result=result)\n"
     ]
    }
   ],
   "source": [
    "hp_2018s1 = pd.read_csv('../../datasets/validations-sur-le-reseau-ferre-profils-horaires-par-jour-type-1er-sem.csv', sep=';')\n",
    "\n",
    "hp_2018s2 = pd.read_csv('../../datasets/validations-sur-le-reseau-ferre-profils-horaires-par-jour-type-2e-sem.csv', sep=';')"
   ]
  },
  {
   "cell_type": "markdown",
   "metadata": {},
   "source": [
    "### 3.B.a. Rename columns <a name=\"3Ba\"></a>"
   ]
  },
  {
   "cell_type": "code",
   "execution_count": 223,
   "metadata": {},
   "outputs": [
    {
     "data": {
      "text/plain": [
       "array([ True,  True,  True,  True,  True,  True,  True,  True])"
      ]
     },
     "execution_count": 223,
     "metadata": {},
     "output_type": "execute_result"
    }
   ],
   "source": [
    "# Make sure that column names are the same\n",
    "\n",
    "hp_2018s1.columns == hp_2018s2.columns"
   ]
  },
  {
   "cell_type": "code",
   "execution_count": 224,
   "metadata": {},
   "outputs": [],
   "source": [
    "cols = {'LIBELLE_ARRET': 'STOP_NAME', 'CAT_JOUR': 'CAT_DAY', 'TRNC_HORR_60': 'HOUR', 'pourc_validations': 'PCT_CHECKINS'}\n",
    "\n",
    "hp_2018s1.rename(cols, axis=1, inplace=True)\n",
    "hp_2018s2.rename(cols, axis=1, inplace=True)"
   ]
  },
  {
   "cell_type": "code",
   "execution_count": 225,
   "metadata": {},
   "outputs": [
    {
     "data": {
      "text/plain": [
       "Index(['CODE_STIF_TRNS', 'CODE_STIF_RES', 'CODE_STIF_ARRET', 'STOP_NAME',\n",
       "       'ID_REFA_LDA', 'CAT_DAY', 'HOUR', 'PCT_CHECKINS'],\n",
       "      dtype='object')"
      ]
     },
     "execution_count": 225,
     "metadata": {},
     "output_type": "execute_result"
    }
   ],
   "source": [
    "hp_2018s1.columns"
   ]
  },
  {
   "cell_type": "markdown",
   "metadata": {},
   "source": [
    "### 3.B.b. Type conversion <a name=\"3Bb\"></a>\n",
    "\n",
    "#### Cast the ID_REFA_LDA column of pct_2018s2 to numeric"
   ]
  },
  {
   "cell_type": "code",
   "execution_count": 226,
   "metadata": {},
   "outputs": [
    {
     "data": {
      "text/plain": [
       "array(['?', nan], dtype=object)"
      ]
     },
     "execution_count": 226,
     "metadata": {},
     "output_type": "execute_result"
    }
   ],
   "source": [
    "# Identify non numeric values \n",
    "\n",
    "non_num = hp_2018s2[~hp_2018s2['ID_REFA_LDA'].astype('str').str.isnumeric()]\n",
    "\n",
    "non_num.loc[:,'ID_REFA_LDA'].unique()"
   ]
  },
  {
   "cell_type": "markdown",
   "metadata": {},
   "source": [
    "There are '?' and NaNs in this column. This is problematic because this is the column we will be using to link this dataset to other datasets.\n",
    "\n",
    "Let's look into it."
   ]
  },
  {
   "cell_type": "code",
   "execution_count": 227,
   "metadata": {},
   "outputs": [
    {
     "data": {
      "text/plain": [
       "?      1070\n",
       "NaN     118\n",
       "Name: ID_REFA_LDA, dtype: int64"
      ]
     },
     "execution_count": 227,
     "metadata": {},
     "output_type": "execute_result"
    }
   ],
   "source": [
    "non_num['ID_REFA_LDA'].value_counts(dropna=False)"
   ]
  },
  {
   "cell_type": "markdown",
   "metadata": {},
   "source": [
    "These missing values account for 1.4% of all values in pct_2018s2."
   ]
  },
  {
   "cell_type": "code",
   "execution_count": 228,
   "metadata": {},
   "outputs": [
    {
     "data": {
      "text/html": [
       "<div>\n",
       "<style scoped>\n",
       "    .dataframe tbody tr th:only-of-type {\n",
       "        vertical-align: middle;\n",
       "    }\n",
       "\n",
       "    .dataframe tbody tr th {\n",
       "        vertical-align: top;\n",
       "    }\n",
       "\n",
       "    .dataframe thead th {\n",
       "        text-align: right;\n",
       "    }\n",
       "</style>\n",
       "<table border=\"1\" class=\"dataframe\">\n",
       "  <thead>\n",
       "    <tr style=\"text-align: right;\">\n",
       "      <th></th>\n",
       "      <th>CODE_STIF_TRNS</th>\n",
       "      <th>CODE_STIF_RES</th>\n",
       "      <th>CODE_STIF_ARRET</th>\n",
       "      <th>STOP_NAME</th>\n",
       "      <th>ID_REFA_LDA</th>\n",
       "      <th>CAT_DAY</th>\n",
       "      <th>HOUR</th>\n",
       "      <th>PCT_CHECKINS</th>\n",
       "    </tr>\n",
       "  </thead>\n",
       "  <tbody>\n",
       "    <tr>\n",
       "      <th>2698</th>\n",
       "      <td>800</td>\n",
       "      <td>800</td>\n",
       "      <td>1206</td>\n",
       "      <td>DUGNY COURNEU</td>\n",
       "      <td>?</td>\n",
       "      <td>SAVS</td>\n",
       "      <td>6H-7H</td>\n",
       "      <td>4.39</td>\n",
       "    </tr>\n",
       "    <tr>\n",
       "      <th>2699</th>\n",
       "      <td>800</td>\n",
       "      <td>800</td>\n",
       "      <td>1206</td>\n",
       "      <td>DUGNY COURNEU</td>\n",
       "      <td>?</td>\n",
       "      <td>SAVS</td>\n",
       "      <td>7H-8H</td>\n",
       "      <td>6.33</td>\n",
       "    </tr>\n",
       "    <tr>\n",
       "      <th>2761</th>\n",
       "      <td>100</td>\n",
       "      <td>ND</td>\n",
       "      <td>ND</td>\n",
       "      <td>Inconnu</td>\n",
       "      <td>?</td>\n",
       "      <td>DIJFP</td>\n",
       "      <td>13H-14H</td>\n",
       "      <td>6.29</td>\n",
       "    </tr>\n",
       "    <tr>\n",
       "      <th>2762</th>\n",
       "      <td>100</td>\n",
       "      <td>ND</td>\n",
       "      <td>ND</td>\n",
       "      <td>Inconnu</td>\n",
       "      <td>?</td>\n",
       "      <td>DIJFP</td>\n",
       "      <td>16H-17H</td>\n",
       "      <td>9.82</td>\n",
       "    </tr>\n",
       "    <tr>\n",
       "      <th>2763</th>\n",
       "      <td>100</td>\n",
       "      <td>ND</td>\n",
       "      <td>ND</td>\n",
       "      <td>Inconnu</td>\n",
       "      <td>?</td>\n",
       "      <td>DIJFP</td>\n",
       "      <td>20H-21H</td>\n",
       "      <td>5.44</td>\n",
       "    </tr>\n",
       "  </tbody>\n",
       "</table>\n",
       "</div>"
      ],
      "text/plain": [
       "      CODE_STIF_TRNS CODE_STIF_RES CODE_STIF_ARRET      STOP_NAME ID_REFA_LDA  \\\n",
       "2698             800           800            1206  DUGNY COURNEU           ?   \n",
       "2699             800           800            1206  DUGNY COURNEU           ?   \n",
       "2761             100            ND              ND        Inconnu           ?   \n",
       "2762             100            ND              ND        Inconnu           ?   \n",
       "2763             100            ND              ND        Inconnu           ?   \n",
       "\n",
       "     CAT_DAY     HOUR  PCT_CHECKINS  \n",
       "2698    SAVS    6H-7H          4.39  \n",
       "2699    SAVS    7H-8H          6.33  \n",
       "2761   DIJFP  13H-14H          6.29  \n",
       "2762   DIJFP  16H-17H          9.82  \n",
       "2763   DIJFP  20H-21H          5.44  "
      ]
     },
     "execution_count": 228,
     "metadata": {},
     "output_type": "execute_result"
    }
   ],
   "source": [
    "non_num.head()"
   ]
  },
  {
   "cell_type": "markdown",
   "metadata": {},
   "source": [
    "We see that some of the '?' are on the same rows as 'Inconnu' stop names. Just like we did for nb_checkins, we will drop the rows that have an 'Inconnu' stop name as we filter on CODE_STIF_RES. So let's ignore those for now and look at the other STOP_NAMEs."
   ]
  },
  {
   "cell_type": "code",
   "execution_count": 229,
   "metadata": {},
   "outputs": [
    {
     "data": {
      "text/plain": [
       "EPINAY VIL T11     120\n",
       "ROSA PARKS         120\n",
       "BOURGET T11        120\n",
       "STAINS CERISAIE    120\n",
       "EPINAY SEIN T11    120\n",
       "VILLETANEUSE UN    120\n",
       "PIERREFITTE T11    119\n",
       "PORTE DAUPHINE     118\n",
       "DUGNY COURNEU      117\n",
       "Inconnu            114\n",
       "Name: STOP_NAME, dtype: int64"
      ]
     },
     "execution_count": 229,
     "metadata": {},
     "output_type": "execute_result"
    }
   ],
   "source": [
    "non_num.loc[:, 'STOP_NAME'].value_counts()"
   ]
  },
  {
   "cell_type": "markdown",
   "metadata": {},
   "source": [
    "Considering there are 24h per day and 5 types of days (5\\*24=120), we can conclude that ID_REFA_LDA is missing for all the rows of these stops."
   ]
  },
  {
   "cell_type": "code",
   "execution_count": 230,
   "metadata": {},
   "outputs": [
    {
     "data": {
      "text/plain": [
       "['DUGNY COURNEU',\n",
       " 'EPINAY SEIN T11',\n",
       " 'BOURGET T11',\n",
       " 'EPINAY VIL T11',\n",
       " 'VILLETANEUSE UN',\n",
       " 'PIERREFITTE T11',\n",
       " 'STAINS CERISAIE',\n",
       " 'ROSA PARKS',\n",
       " 'PORTE DAUPHINE']"
      ]
     },
     "execution_count": 230,
     "metadata": {},
     "output_type": "execute_result"
    }
   ],
   "source": [
    "missing_lda = non_num.loc[non_num['STOP_NAME']!='Inconnu', 'STOP_NAME'].unique().tolist()\n",
    "\n",
    "missing_lda"
   ]
  },
  {
   "cell_type": "markdown",
   "metadata": {},
   "source": [
    "Let's see if these names appear in the other dfs."
   ]
  },
  {
   "cell_type": "code",
   "execution_count": 231,
   "metadata": {},
   "outputs": [
    {
     "data": {
      "text/plain": [
       "array(['PORTE DAUPHINE'], dtype=object)"
      ]
     },
     "execution_count": 231,
     "metadata": {},
     "output_type": "execute_result"
    }
   ],
   "source": [
    "# Check if there are matches in metro_nb\n",
    "\n",
    "metro_nb.loc[metro_nb['STOP_NAME'].isin(missing_lda), 'STOP_NAME'].unique()"
   ]
  },
  {
   "cell_type": "code",
   "execution_count": 232,
   "metadata": {},
   "outputs": [
    {
     "data": {
      "text/plain": [
       "array(['PORTE DAUPHINE', 'ROSA PARKS'], dtype=object)"
      ]
     },
     "execution_count": 232,
     "metadata": {},
     "output_type": "execute_result"
    }
   ],
   "source": [
    "# Check if there are matches in ref_stops\n",
    "\n",
    "ref_stops.loc[ref_stops['LDA_NOM'].isin(missing_lda), 'LDA_NOM'].unique()"
   ]
  },
  {
   "cell_type": "markdown",
   "metadata": {},
   "source": [
    "We see that only PORTE DAUPHINE is a valid metro stop name. ROSA PARKS is also a valid station name, but it doesn't have a metro line, therefore it doesn't appear in metro_nb. See: https://en.wikipedia.org/wiki/Gare_Rosa-Parks\n",
    "\n",
    "The ID_REFA_LDA for PORTE DAUPHINE was also missing in metro_nb. We can fill it with the correct value.\n",
    "\n",
    "Let's check if all the other stop names have a valid CODE_STIF_RES and whether it is 110."
   ]
  },
  {
   "cell_type": "code",
   "execution_count": 233,
   "metadata": {},
   "outputs": [
    {
     "data": {
      "text/plain": [
       "Inconnu    114\n",
       "Name: STOP_NAME, dtype: int64"
      ]
     },
     "execution_count": 233,
     "metadata": {},
     "output_type": "execute_result"
    }
   ],
   "source": [
    "# Check that 'Inconnu' is the only STOP_NAME with a CODE_STIF_RES that is 'ND' and that other STOP_NAMEs have a valid CODE_STIF_RES\n",
    "\n",
    "non_num.loc[non_num['CODE_STIF_RES']== 'ND', 'STOP_NAME'].value_counts()"
   ]
  },
  {
   "cell_type": "code",
   "execution_count": 234,
   "metadata": {},
   "outputs": [
    {
     "data": {
      "text/plain": [
       "array(['PORTE DAUPHINE'], dtype=object)"
      ]
     },
     "execution_count": 234,
     "metadata": {},
     "output_type": "execute_result"
    }
   ],
   "source": [
    "# Check which STOP_NAMEs have a CODE_STIF_RES of 110\n",
    "\n",
    "non_num.loc[non_num['CODE_STIF_RES']== '110', 'STOP_NAME'].unique()"
   ]
  },
  {
   "cell_type": "markdown",
   "metadata": {},
   "source": [
    "PORTE DAUPHINE is the only STOP_NAME that we will want to keep in the final dataframe. We can drop all the other rows now to be able to cast the column to numeric."
   ]
  },
  {
   "cell_type": "code",
   "execution_count": 235,
   "metadata": {},
   "outputs": [],
   "source": [
    "# Replace ID_REFA_LDA for PORTE DAUPHINE in both dataframes\n",
    "\n",
    "hp_2018s1.loc[hp_2018s1['STOP_NAME'] == 'PORTE DAUPHINE', 'ID_REFA_LDA'] = pd_lda\n",
    "hp_2018s2.loc[hp_2018s2['STOP_NAME'] == 'PORTE DAUPHINE', 'ID_REFA_LDA'] = pd_lda"
   ]
  },
  {
   "cell_type": "code",
   "execution_count": 236,
   "metadata": {},
   "outputs": [],
   "source": [
    "# Drop rows that contain '?' in ID_REFA_LDA (including rows that have 'Inconnu' as STOP_NAME)\n",
    "\n",
    "hp_2018s2 = hp_2018s2.loc[hp_2018s2['ID_REFA_LDA'] != '?']"
   ]
  },
  {
   "cell_type": "code",
   "execution_count": 237,
   "metadata": {},
   "outputs": [],
   "source": [
    "# Cast ID_REFA_LDA to numeric\n",
    "\n",
    "hp_2018s2['ID_REFA_LDA'] = pd.to_numeric(hp_2018s2['ID_REFA_LDA'], errors = 'coerce')"
   ]
  },
  {
   "cell_type": "markdown",
   "metadata": {},
   "source": [
    "#### Cast the CODE_STIF_RES & CODE_STIF_ARRET to numeric for both dataframes"
   ]
  },
  {
   "cell_type": "code",
   "execution_count": 238,
   "metadata": {},
   "outputs": [],
   "source": [
    "# Identify non numeric values\n",
    "\n",
    "def check_num(df, col):\n",
    "    non_num = df.loc[~df[col].astype('str').str.isnumeric(), col].unique()\n",
    "    return non_num"
   ]
  },
  {
   "cell_type": "code",
   "execution_count": 239,
   "metadata": {},
   "outputs": [
    {
     "data": {
      "text/plain": [
       "array(['ND'], dtype=object)"
      ]
     },
     "execution_count": 239,
     "metadata": {},
     "output_type": "execute_result"
    }
   ],
   "source": [
    "check_num(hp_2018s1, 'CODE_STIF_RES')"
   ]
  },
  {
   "cell_type": "code",
   "execution_count": 240,
   "metadata": {},
   "outputs": [
    {
     "data": {
      "text/plain": [
       "array(['ND'], dtype=object)"
      ]
     },
     "execution_count": 240,
     "metadata": {},
     "output_type": "execute_result"
    }
   ],
   "source": [
    "check_num(hp_2018s1, 'CODE_STIF_ARRET')"
   ]
  },
  {
   "cell_type": "code",
   "execution_count": 241,
   "metadata": {},
   "outputs": [
    {
     "data": {
      "text/plain": [
       "array([], dtype=object)"
      ]
     },
     "execution_count": 241,
     "metadata": {},
     "output_type": "execute_result"
    }
   ],
   "source": [
    "check_num(hp_2018s2, 'CODE_STIF_RES')"
   ]
  },
  {
   "cell_type": "code",
   "execution_count": 242,
   "metadata": {},
   "outputs": [
    {
     "data": {
      "text/plain": [
       "array([], dtype=object)"
      ]
     },
     "execution_count": 242,
     "metadata": {},
     "output_type": "execute_result"
    }
   ],
   "source": [
    "check_num(hp_2018s2, 'CODE_STIF_ARRET')"
   ]
  },
  {
   "cell_type": "markdown",
   "metadata": {},
   "source": [
    "Since 'ND' indicates missing data as we saw before, we can simply convert the columns with pd.to_numeric and errors='coerce' to replace 'PD' by np.nan"
   ]
  },
  {
   "cell_type": "code",
   "execution_count": 243,
   "metadata": {},
   "outputs": [],
   "source": [
    "# Cast all these columns to numeric\n",
    "\n",
    "hp_2018s1['CODE_STIF_RES'] = pd.to_numeric(hp_2018s1['CODE_STIF_RES'], errors = 'coerce')\n",
    "\n",
    "hp_2018s1['CODE_STIF_ARRET'] = pd.to_numeric(hp_2018s1['CODE_STIF_ARRET'], errors = 'coerce')\n",
    "\n",
    "hp_2018s2['CODE_STIF_RES'] = pd.to_numeric(hp_2018s2['CODE_STIF_RES'], errors = 'coerce')\n",
    "\n",
    "hp_2018s2['CODE_STIF_ARRET'] = pd.to_numeric(hp_2018s2['CODE_STIF_ARRET'], errors = 'coerce')"
   ]
  },
  {
   "cell_type": "code",
   "execution_count": 244,
   "metadata": {},
   "outputs": [
    {
     "name": "stdout",
     "output_type": "stream",
     "text": [
      "<class 'pandas.core.frame.DataFrame'>\n",
      "RangeIndex: 82744 entries, 0 to 82743\n",
      "Data columns (total 8 columns):\n",
      "CODE_STIF_TRNS     82744 non-null int64\n",
      "CODE_STIF_RES      82629 non-null float64\n",
      "CODE_STIF_ARRET    82629 non-null float64\n",
      "STOP_NAME          82744 non-null object\n",
      "ID_REFA_LDA        81696 non-null float64\n",
      "CAT_DAY            82744 non-null object\n",
      "HOUR               82744 non-null object\n",
      "PCT_CHECKINS       82744 non-null float64\n",
      "dtypes: float64(4), int64(1), object(3)\n",
      "memory usage: 5.1+ MB\n"
     ]
    }
   ],
   "source": [
    "hp_2018s1.info()"
   ]
  },
  {
   "cell_type": "code",
   "execution_count": 245,
   "metadata": {},
   "outputs": [
    {
     "name": "stdout",
     "output_type": "stream",
     "text": [
      "<class 'pandas.core.frame.DataFrame'>\n",
      "Int64Index: 82462 entries, 0 to 83531\n",
      "Data columns (total 8 columns):\n",
      "CODE_STIF_TRNS     82462 non-null int64\n",
      "CODE_STIF_RES      82462 non-null int64\n",
      "CODE_STIF_ARRET    82462 non-null int64\n",
      "STOP_NAME          82462 non-null object\n",
      "ID_REFA_LDA        82462 non-null int64\n",
      "CAT_DAY            82462 non-null object\n",
      "HOUR               82462 non-null object\n",
      "PCT_CHECKINS       82462 non-null float64\n",
      "dtypes: float64(1), int64(4), object(3)\n",
      "memory usage: 5.7+ MB\n"
     ]
    }
   ],
   "source": [
    "hp_2018s2.info()"
   ]
  },
  {
   "cell_type": "markdown",
   "metadata": {},
   "source": [
    "We see that there are missing values in hp_2018s1 for the columns CODE_STIF_RES, CODE_STIF_ARRET and ID_REFA_LDA."
   ]
  },
  {
   "cell_type": "markdown",
   "metadata": {},
   "source": [
    "#### HOUR: Replace 'ND' by np.nan and cast to numeric"
   ]
  },
  {
   "cell_type": "markdown",
   "metadata": {},
   "source": [
    "To be able to work with hours more easily, we can change them to floats. For instance, 1H-2H would be 1.0. By doing so, we would not lose any information."
   ]
  },
  {
   "cell_type": "code",
   "execution_count": 246,
   "metadata": {},
   "outputs": [],
   "source": [
    "hp_2018s1['HOUR'].replace('ND', np.nan, inplace=True)\n",
    "hp_2018s2['HOUR'].replace('ND', np.nan, inplace=True)"
   ]
  },
  {
   "cell_type": "code",
   "execution_count": 247,
   "metadata": {},
   "outputs": [
    {
     "data": {
      "text/plain": [
       "array(['11H-12H', '13H-14H', '14H-15H', '15H-16H', '18H-19H', '1H-2H',\n",
       "       '21H-22H', '5H-6H', '6H-7H', '20H-21H', '2H-3H', '9H-10H',\n",
       "       '22H-23H', '23H-0H', '8H-9H', '0H-1H', '12H-13H', '16H-17H',\n",
       "       '3H-4H', '4H-5H', '7H-8H', '10H-11H', '19H-20H', '17H-18H', nan],\n",
       "      dtype=object)"
      ]
     },
     "execution_count": 247,
     "metadata": {},
     "output_type": "execute_result"
    }
   ],
   "source": [
    "hp_2018s1['HOUR'].unique()"
   ]
  },
  {
   "cell_type": "code",
   "execution_count": 248,
   "metadata": {},
   "outputs": [],
   "source": [
    "hp_2018s1['HOUR'] = hp_2018s1['HOUR'].str.extract('(\\d+)H', expand=True).astype(float)[0]\n",
    "hp_2018s2['HOUR'] = hp_2018s2['HOUR'].str.extract('(\\d+)H', expand=True).astype(float)[0]"
   ]
  },
  {
   "cell_type": "code",
   "execution_count": 249,
   "metadata": {},
   "outputs": [
    {
     "data": {
      "text/plain": [
       "array([11., 13., 14., 15., 18.,  1., 21.,  5.,  6., 20.,  2.,  9., 22.,\n",
       "       23.,  8.,  0., 12., 16.,  3.,  4.,  7., 10., 19., 17., nan])"
      ]
     },
     "execution_count": 249,
     "metadata": {},
     "output_type": "execute_result"
    }
   ],
   "source": [
    "hp_2018s1['HOUR'].unique()"
   ]
  },
  {
   "cell_type": "markdown",
   "metadata": {},
   "source": [
    "### 3.B.c. Filter <a name=\"3Bc\"></a>"
   ]
  },
  {
   "cell_type": "code",
   "execution_count": 250,
   "metadata": {},
   "outputs": [],
   "source": [
    "metro_hp_s1 = hp_2018s1.loc[hp_2018s1['CODE_STIF_RES'] == 110]"
   ]
  },
  {
   "cell_type": "code",
   "execution_count": 251,
   "metadata": {},
   "outputs": [],
   "source": [
    "metro_hp_s2 = hp_2018s2.loc[hp_2018s2['CODE_STIF_RES'] == 110]"
   ]
  },
  {
   "cell_type": "code",
   "execution_count": 252,
   "metadata": {},
   "outputs": [
    {
     "data": {
      "text/plain": [
       "True"
      ]
     },
     "execution_count": 252,
     "metadata": {},
     "output_type": "execute_result"
    }
   ],
   "source": [
    "metro_hp_s1['ID_REFA_LDA'].nunique() == metro_hp_s2['ID_REFA_LDA'].nunique()"
   ]
  },
  {
   "cell_type": "markdown",
   "metadata": {},
   "source": [
    "The fact that these 2 dfs have a different number of rows and yet have the exact same number of unique ID_REFA_LDA indicates that for some stops, some CAT_DAY or HOUR are missing."
   ]
  },
  {
   "cell_type": "code",
   "execution_count": 253,
   "metadata": {},
   "outputs": [
    {
     "data": {
      "text/plain": [
       "True"
      ]
     },
     "execution_count": 253,
     "metadata": {},
     "output_type": "execute_result"
    }
   ],
   "source": [
    "metro_hp_s1['CAT_DAY'].nunique() == metro_hp_s2['CAT_DAY'].nunique()"
   ]
  },
  {
   "cell_type": "code",
   "execution_count": 254,
   "metadata": {},
   "outputs": [
    {
     "data": {
      "text/plain": [
       "True"
      ]
     },
     "execution_count": 254,
     "metadata": {},
     "output_type": "execute_result"
    }
   ],
   "source": [
    "metro_hp_s1['HOUR'].nunique() == metro_hp_s2['HOUR'].nunique()"
   ]
  },
  {
   "cell_type": "code",
   "execution_count": 255,
   "metadata": {},
   "outputs": [
    {
     "name": "stderr",
     "output_type": "stream",
     "text": [
      "/Users/fannykassapian/anaconda3/lib/python3.6/site-packages/ipykernel_launcher.py:1: SettingWithCopyWarning: \n",
      "A value is trying to be set on a copy of a slice from a DataFrame.\n",
      "Try using .loc[row_indexer,col_indexer] = value instead\n",
      "\n",
      "See the caveats in the documentation: http://pandas.pydata.org/pandas-docs/stable/indexing.html#indexing-view-versus-copy\n",
      "  \"\"\"Entry point for launching an IPython kernel.\n",
      "/Users/fannykassapian/anaconda3/lib/python3.6/site-packages/ipykernel_launcher.py:2: SettingWithCopyWarning: \n",
      "A value is trying to be set on a copy of a slice from a DataFrame.\n",
      "Try using .loc[row_indexer,col_indexer] = value instead\n",
      "\n",
      "See the caveats in the documentation: http://pandas.pydata.org/pandas-docs/stable/indexing.html#indexing-view-versus-copy\n",
      "  \n",
      "/Users/fannykassapian/anaconda3/lib/python3.6/site-packages/ipykernel_launcher.py:3: SettingWithCopyWarning: \n",
      "A value is trying to be set on a copy of a slice from a DataFrame.\n",
      "Try using .loc[row_indexer,col_indexer] = value instead\n",
      "\n",
      "See the caveats in the documentation: http://pandas.pydata.org/pandas-docs/stable/indexing.html#indexing-view-versus-copy\n",
      "  This is separate from the ipykernel package so we can avoid doing imports until\n"
     ]
    }
   ],
   "source": [
    "metro_hp_s1['CODE_STIF_RES'] = metro_hp_s1['CODE_STIF_RES'].astype('int')\n",
    "metro_hp_s1['CODE_STIF_ARRET'] = metro_hp_s1['CODE_STIF_ARRET'].astype('int')\n",
    "metro_hp_s1['ID_REFA_LDA'] = metro_hp_s1['ID_REFA_LDA'].astype('int')"
   ]
  },
  {
   "cell_type": "code",
   "execution_count": 256,
   "metadata": {},
   "outputs": [
    {
     "name": "stdout",
     "output_type": "stream",
     "text": [
      "<class 'pandas.core.frame.DataFrame'>\n",
      "Int64Index: 35237 entries, 0 to 82733\n",
      "Data columns (total 8 columns):\n",
      "CODE_STIF_TRNS     35237 non-null int64\n",
      "CODE_STIF_RES      35237 non-null int64\n",
      "CODE_STIF_ARRET    35237 non-null int64\n",
      "STOP_NAME          35237 non-null object\n",
      "ID_REFA_LDA        35237 non-null int64\n",
      "CAT_DAY            35237 non-null object\n",
      "HOUR               35233 non-null float64\n",
      "PCT_CHECKINS       35237 non-null float64\n",
      "dtypes: float64(2), int64(4), object(2)\n",
      "memory usage: 2.4+ MB\n"
     ]
    }
   ],
   "source": [
    "metro_hp_s1.info()"
   ]
  },
  {
   "cell_type": "code",
   "execution_count": 257,
   "metadata": {},
   "outputs": [
    {
     "name": "stdout",
     "output_type": "stream",
     "text": [
      "<class 'pandas.core.frame.DataFrame'>\n",
      "Int64Index: 35175 entries, 0 to 82679\n",
      "Data columns (total 8 columns):\n",
      "CODE_STIF_TRNS     35175 non-null int64\n",
      "CODE_STIF_RES      35175 non-null int64\n",
      "CODE_STIF_ARRET    35175 non-null int64\n",
      "STOP_NAME          35175 non-null object\n",
      "ID_REFA_LDA        35175 non-null int64\n",
      "CAT_DAY            35175 non-null object\n",
      "HOUR               35168 non-null float64\n",
      "PCT_CHECKINS       35175 non-null float64\n",
      "dtypes: float64(2), int64(4), object(2)\n",
      "memory usage: 2.4+ MB\n"
     ]
    }
   ],
   "source": [
    "metro_hp_s2.info()"
   ]
  },
  {
   "cell_type": "markdown",
   "metadata": {},
   "source": [
    "### 3.B.d. Join <a name=\"3Bd\"></a>\n",
    "\n",
    "This time, we don't want to join those dataframes vertically, but horizontally. \n",
    "\n",
    "For each ID_REFA_LDA, CAT_DAY, and HOUR, we want the PCT_CHECKINS for s1 and the PCT_CHECKINS for s2.\n",
    "\n",
    "In order to merge these dataframes, we need a unique ID for each line, that is a combination of ID_REFA_LDA, CAT_DAY, and HOUR."
   ]
  },
  {
   "cell_type": "code",
   "execution_count": 258,
   "metadata": {},
   "outputs": [
    {
     "name": "stderr",
     "output_type": "stream",
     "text": [
      "/Users/fannykassapian/anaconda3/lib/python3.6/site-packages/ipykernel_launcher.py:1: SettingWithCopyWarning: \n",
      "A value is trying to be set on a copy of a slice from a DataFrame.\n",
      "Try using .loc[row_indexer,col_indexer] = value instead\n",
      "\n",
      "See the caveats in the documentation: http://pandas.pydata.org/pandas-docs/stable/indexing.html#indexing-view-versus-copy\n",
      "  \"\"\"Entry point for launching an IPython kernel.\n"
     ]
    }
   ],
   "source": [
    "metro_hp_s1['ID'] = metro_hp_s1['ID_REFA_LDA'].astype(str) + metro_hp_s1['CAT_DAY'] + metro_hp_s1['HOUR'].astype(str)"
   ]
  },
  {
   "cell_type": "code",
   "execution_count": 259,
   "metadata": {},
   "outputs": [
    {
     "data": {
      "text/plain": [
       "0    71597DIJFP11.0\n",
       "1    71597DIJFP13.0\n",
       "2    71597DIJFP14.0\n",
       "3    71597DIJFP15.0\n",
       "4    71597DIJFP18.0\n",
       "Name: ID, dtype: object"
      ]
     },
     "execution_count": 259,
     "metadata": {},
     "output_type": "execute_result"
    }
   ],
   "source": [
    "metro_hp_s1['ID'].head()"
   ]
  },
  {
   "cell_type": "code",
   "execution_count": 260,
   "metadata": {},
   "outputs": [
    {
     "name": "stderr",
     "output_type": "stream",
     "text": [
      "/Users/fannykassapian/anaconda3/lib/python3.6/site-packages/ipykernel_launcher.py:1: SettingWithCopyWarning: \n",
      "A value is trying to be set on a copy of a slice from a DataFrame.\n",
      "Try using .loc[row_indexer,col_indexer] = value instead\n",
      "\n",
      "See the caveats in the documentation: http://pandas.pydata.org/pandas-docs/stable/indexing.html#indexing-view-versus-copy\n",
      "  \"\"\"Entry point for launching an IPython kernel.\n"
     ]
    }
   ],
   "source": [
    "metro_hp_s2['ID'] = metro_hp_s2['ID_REFA_LDA'].astype(str) + metro_hp_s2['CAT_DAY'] + metro_hp_s2['HOUR'].astype(str)"
   ]
  },
  {
   "cell_type": "code",
   "execution_count": 261,
   "metadata": {},
   "outputs": [
    {
     "data": {
      "text/plain": [
       "0     72240SAVS17.0\n",
       "1     72240SAVS23.0\n",
       "2      72240SAVS7.0\n",
       "3    72286DIJFP11.0\n",
       "4    72286DIJFP12.0\n",
       "Name: ID, dtype: object"
      ]
     },
     "execution_count": 261,
     "metadata": {},
     "output_type": "execute_result"
    }
   ],
   "source": [
    "metro_hp_s2['ID'].head()"
   ]
  },
  {
   "cell_type": "code",
   "execution_count": 262,
   "metadata": {},
   "outputs": [],
   "source": [
    "metro_hp = pd.merge(left = metro_hp_s1, right = metro_hp_s2, how = 'outer', on = 'ID', suffixes = ('_s1', '_s2'))"
   ]
  },
  {
   "cell_type": "code",
   "execution_count": 263,
   "metadata": {},
   "outputs": [
    {
     "data": {
      "text/html": [
       "<div>\n",
       "<style scoped>\n",
       "    .dataframe tbody tr th:only-of-type {\n",
       "        vertical-align: middle;\n",
       "    }\n",
       "\n",
       "    .dataframe tbody tr th {\n",
       "        vertical-align: top;\n",
       "    }\n",
       "\n",
       "    .dataframe thead th {\n",
       "        text-align: right;\n",
       "    }\n",
       "</style>\n",
       "<table border=\"1\" class=\"dataframe\">\n",
       "  <thead>\n",
       "    <tr style=\"text-align: right;\">\n",
       "      <th></th>\n",
       "      <th>CODE_STIF_TRNS_s1</th>\n",
       "      <th>CODE_STIF_RES_s1</th>\n",
       "      <th>CODE_STIF_ARRET_s1</th>\n",
       "      <th>STOP_NAME_s1</th>\n",
       "      <th>ID_REFA_LDA_s1</th>\n",
       "      <th>CAT_DAY_s1</th>\n",
       "      <th>HOUR_s1</th>\n",
       "      <th>PCT_CHECKINS_s1</th>\n",
       "      <th>ID</th>\n",
       "      <th>CODE_STIF_TRNS_s2</th>\n",
       "      <th>CODE_STIF_RES_s2</th>\n",
       "      <th>CODE_STIF_ARRET_s2</th>\n",
       "      <th>STOP_NAME_s2</th>\n",
       "      <th>ID_REFA_LDA_s2</th>\n",
       "      <th>CAT_DAY_s2</th>\n",
       "      <th>HOUR_s2</th>\n",
       "      <th>PCT_CHECKINS_s2</th>\n",
       "    </tr>\n",
       "  </thead>\n",
       "  <tbody>\n",
       "    <tr>\n",
       "      <th>0</th>\n",
       "      <td>100.0</td>\n",
       "      <td>110.0</td>\n",
       "      <td>717.0</td>\n",
       "      <td>QUAI DE LA GARE</td>\n",
       "      <td>71597.0</td>\n",
       "      <td>DIJFP</td>\n",
       "      <td>11.0</td>\n",
       "      <td>3.83</td>\n",
       "      <td>71597DIJFP11.0</td>\n",
       "      <td>100.0</td>\n",
       "      <td>110.0</td>\n",
       "      <td>717.0</td>\n",
       "      <td>QUAI DE LA GARE</td>\n",
       "      <td>71597.0</td>\n",
       "      <td>DIJFP</td>\n",
       "      <td>11.0</td>\n",
       "      <td>3.87</td>\n",
       "    </tr>\n",
       "    <tr>\n",
       "      <th>1</th>\n",
       "      <td>100.0</td>\n",
       "      <td>110.0</td>\n",
       "      <td>717.0</td>\n",
       "      <td>QUAI DE LA GARE</td>\n",
       "      <td>71597.0</td>\n",
       "      <td>DIJFP</td>\n",
       "      <td>13.0</td>\n",
       "      <td>5.33</td>\n",
       "      <td>71597DIJFP13.0</td>\n",
       "      <td>100.0</td>\n",
       "      <td>110.0</td>\n",
       "      <td>717.0</td>\n",
       "      <td>QUAI DE LA GARE</td>\n",
       "      <td>71597.0</td>\n",
       "      <td>DIJFP</td>\n",
       "      <td>13.0</td>\n",
       "      <td>5.38</td>\n",
       "    </tr>\n",
       "    <tr>\n",
       "      <th>2</th>\n",
       "      <td>100.0</td>\n",
       "      <td>110.0</td>\n",
       "      <td>717.0</td>\n",
       "      <td>QUAI DE LA GARE</td>\n",
       "      <td>71597.0</td>\n",
       "      <td>DIJFP</td>\n",
       "      <td>14.0</td>\n",
       "      <td>6.44</td>\n",
       "      <td>71597DIJFP14.0</td>\n",
       "      <td>100.0</td>\n",
       "      <td>110.0</td>\n",
       "      <td>717.0</td>\n",
       "      <td>QUAI DE LA GARE</td>\n",
       "      <td>71597.0</td>\n",
       "      <td>DIJFP</td>\n",
       "      <td>14.0</td>\n",
       "      <td>6.59</td>\n",
       "    </tr>\n",
       "    <tr>\n",
       "      <th>3</th>\n",
       "      <td>100.0</td>\n",
       "      <td>110.0</td>\n",
       "      <td>717.0</td>\n",
       "      <td>QUAI DE LA GARE</td>\n",
       "      <td>71597.0</td>\n",
       "      <td>DIJFP</td>\n",
       "      <td>15.0</td>\n",
       "      <td>7.90</td>\n",
       "      <td>71597DIJFP15.0</td>\n",
       "      <td>100.0</td>\n",
       "      <td>110.0</td>\n",
       "      <td>717.0</td>\n",
       "      <td>QUAI DE LA GARE</td>\n",
       "      <td>71597.0</td>\n",
       "      <td>DIJFP</td>\n",
       "      <td>15.0</td>\n",
       "      <td>7.74</td>\n",
       "    </tr>\n",
       "    <tr>\n",
       "      <th>4</th>\n",
       "      <td>100.0</td>\n",
       "      <td>110.0</td>\n",
       "      <td>717.0</td>\n",
       "      <td>QUAI DE LA GARE</td>\n",
       "      <td>71597.0</td>\n",
       "      <td>DIJFP</td>\n",
       "      <td>18.0</td>\n",
       "      <td>11.28</td>\n",
       "      <td>71597DIJFP18.0</td>\n",
       "      <td>100.0</td>\n",
       "      <td>110.0</td>\n",
       "      <td>717.0</td>\n",
       "      <td>QUAI DE LA GARE</td>\n",
       "      <td>71597.0</td>\n",
       "      <td>DIJFP</td>\n",
       "      <td>18.0</td>\n",
       "      <td>9.68</td>\n",
       "    </tr>\n",
       "  </tbody>\n",
       "</table>\n",
       "</div>"
      ],
      "text/plain": [
       "   CODE_STIF_TRNS_s1  CODE_STIF_RES_s1  CODE_STIF_ARRET_s1     STOP_NAME_s1  \\\n",
       "0              100.0             110.0               717.0  QUAI DE LA GARE   \n",
       "1              100.0             110.0               717.0  QUAI DE LA GARE   \n",
       "2              100.0             110.0               717.0  QUAI DE LA GARE   \n",
       "3              100.0             110.0               717.0  QUAI DE LA GARE   \n",
       "4              100.0             110.0               717.0  QUAI DE LA GARE   \n",
       "\n",
       "   ID_REFA_LDA_s1 CAT_DAY_s1  HOUR_s1  PCT_CHECKINS_s1              ID  \\\n",
       "0         71597.0      DIJFP     11.0             3.83  71597DIJFP11.0   \n",
       "1         71597.0      DIJFP     13.0             5.33  71597DIJFP13.0   \n",
       "2         71597.0      DIJFP     14.0             6.44  71597DIJFP14.0   \n",
       "3         71597.0      DIJFP     15.0             7.90  71597DIJFP15.0   \n",
       "4         71597.0      DIJFP     18.0            11.28  71597DIJFP18.0   \n",
       "\n",
       "   CODE_STIF_TRNS_s2  CODE_STIF_RES_s2  CODE_STIF_ARRET_s2     STOP_NAME_s2  \\\n",
       "0              100.0             110.0               717.0  QUAI DE LA GARE   \n",
       "1              100.0             110.0               717.0  QUAI DE LA GARE   \n",
       "2              100.0             110.0               717.0  QUAI DE LA GARE   \n",
       "3              100.0             110.0               717.0  QUAI DE LA GARE   \n",
       "4              100.0             110.0               717.0  QUAI DE LA GARE   \n",
       "\n",
       "   ID_REFA_LDA_s2 CAT_DAY_s2  HOUR_s2  PCT_CHECKINS_s2  \n",
       "0         71597.0      DIJFP     11.0             3.87  \n",
       "1         71597.0      DIJFP     13.0             5.38  \n",
       "2         71597.0      DIJFP     14.0             6.59  \n",
       "3         71597.0      DIJFP     15.0             7.74  \n",
       "4         71597.0      DIJFP     18.0             9.68  "
      ]
     },
     "execution_count": 263,
     "metadata": {},
     "output_type": "execute_result"
    }
   ],
   "source": [
    "metro_hp.head()"
   ]
  },
  {
   "cell_type": "code",
   "execution_count": 264,
   "metadata": {},
   "outputs": [
    {
     "data": {
      "text/plain": [
       "366"
      ]
     },
     "execution_count": 264,
     "metadata": {},
     "output_type": "execute_result"
    }
   ],
   "source": [
    "metro_hp['CODE_STIF_TRNS_s1'].isnull().sum()"
   ]
  },
  {
   "cell_type": "code",
   "execution_count": 265,
   "metadata": {},
   "outputs": [],
   "source": [
    "cols_tofill=['CODE_STIF_TRNS_s1',\n",
    "              'CODE_STIF_RES_s1',\n",
    "              'CODE_STIF_ARRET_s1',\n",
    "              'STOP_NAME_s1',\n",
    "              'ID_REFA_LDA_s1',\n",
    "              'CAT_DAY_s1',\n",
    "              'HOUR_s1']\n",
    "\n",
    "cols_data = ['CODE_STIF_TRNS_s2',\n",
    "              'CODE_STIF_RES_s2',\n",
    "              'CODE_STIF_ARRET_s2',\n",
    "              'STOP_NAME_s2',\n",
    "              'ID_REFA_LDA_s2',\n",
    "              'CAT_DAY_s2',\n",
    "              'HOUR_s2']\n",
    "\n",
    "for i in range(7):\n",
    "    metro_hp[cols_tofill[i]] = metro_hp[cols_tofill[i]].fillna(metro_hp[cols_data[i]])"
   ]
  },
  {
   "cell_type": "code",
   "execution_count": 266,
   "metadata": {},
   "outputs": [
    {
     "data": {
      "text/plain": [
       "0"
      ]
     },
     "execution_count": 266,
     "metadata": {},
     "output_type": "execute_result"
    }
   ],
   "source": [
    "metro_hp['CODE_STIF_TRNS_s1'].isnull().sum()"
   ]
  },
  {
   "cell_type": "code",
   "execution_count": 267,
   "metadata": {},
   "outputs": [],
   "source": [
    "cols_todrop = ['CODE_STIF_TRNS_s2',\n",
    "              'CODE_STIF_RES_s2',\n",
    "              'CODE_STIF_ARRET_s2',\n",
    "              'STOP_NAME_s2',\n",
    "              'ID_REFA_LDA_s2',\n",
    "              'CAT_DAY_s2',\n",
    "              'HOUR_s2']\n",
    "\n",
    "metro_hp = metro_hp.drop(cols_todrop, axis=1)"
   ]
  },
  {
   "cell_type": "code",
   "execution_count": 268,
   "metadata": {},
   "outputs": [
    {
     "data": {
      "text/html": [
       "<div>\n",
       "<style scoped>\n",
       "    .dataframe tbody tr th:only-of-type {\n",
       "        vertical-align: middle;\n",
       "    }\n",
       "\n",
       "    .dataframe tbody tr th {\n",
       "        vertical-align: top;\n",
       "    }\n",
       "\n",
       "    .dataframe thead th {\n",
       "        text-align: right;\n",
       "    }\n",
       "</style>\n",
       "<table border=\"1\" class=\"dataframe\">\n",
       "  <thead>\n",
       "    <tr style=\"text-align: right;\">\n",
       "      <th></th>\n",
       "      <th>CODE_STIF_TRNS_s1</th>\n",
       "      <th>CODE_STIF_RES_s1</th>\n",
       "      <th>CODE_STIF_ARRET_s1</th>\n",
       "      <th>STOP_NAME_s1</th>\n",
       "      <th>ID_REFA_LDA_s1</th>\n",
       "      <th>CAT_DAY_s1</th>\n",
       "      <th>HOUR_s1</th>\n",
       "      <th>PCT_CHECKINS_s1</th>\n",
       "      <th>ID</th>\n",
       "      <th>PCT_CHECKINS_s2</th>\n",
       "    </tr>\n",
       "  </thead>\n",
       "  <tbody>\n",
       "    <tr>\n",
       "      <th>0</th>\n",
       "      <td>100.0</td>\n",
       "      <td>110.0</td>\n",
       "      <td>717.0</td>\n",
       "      <td>QUAI DE LA GARE</td>\n",
       "      <td>71597.0</td>\n",
       "      <td>DIJFP</td>\n",
       "      <td>11.0</td>\n",
       "      <td>3.83</td>\n",
       "      <td>71597DIJFP11.0</td>\n",
       "      <td>3.87</td>\n",
       "    </tr>\n",
       "    <tr>\n",
       "      <th>1</th>\n",
       "      <td>100.0</td>\n",
       "      <td>110.0</td>\n",
       "      <td>717.0</td>\n",
       "      <td>QUAI DE LA GARE</td>\n",
       "      <td>71597.0</td>\n",
       "      <td>DIJFP</td>\n",
       "      <td>13.0</td>\n",
       "      <td>5.33</td>\n",
       "      <td>71597DIJFP13.0</td>\n",
       "      <td>5.38</td>\n",
       "    </tr>\n",
       "    <tr>\n",
       "      <th>2</th>\n",
       "      <td>100.0</td>\n",
       "      <td>110.0</td>\n",
       "      <td>717.0</td>\n",
       "      <td>QUAI DE LA GARE</td>\n",
       "      <td>71597.0</td>\n",
       "      <td>DIJFP</td>\n",
       "      <td>14.0</td>\n",
       "      <td>6.44</td>\n",
       "      <td>71597DIJFP14.0</td>\n",
       "      <td>6.59</td>\n",
       "    </tr>\n",
       "    <tr>\n",
       "      <th>3</th>\n",
       "      <td>100.0</td>\n",
       "      <td>110.0</td>\n",
       "      <td>717.0</td>\n",
       "      <td>QUAI DE LA GARE</td>\n",
       "      <td>71597.0</td>\n",
       "      <td>DIJFP</td>\n",
       "      <td>15.0</td>\n",
       "      <td>7.90</td>\n",
       "      <td>71597DIJFP15.0</td>\n",
       "      <td>7.74</td>\n",
       "    </tr>\n",
       "    <tr>\n",
       "      <th>4</th>\n",
       "      <td>100.0</td>\n",
       "      <td>110.0</td>\n",
       "      <td>717.0</td>\n",
       "      <td>QUAI DE LA GARE</td>\n",
       "      <td>71597.0</td>\n",
       "      <td>DIJFP</td>\n",
       "      <td>18.0</td>\n",
       "      <td>11.28</td>\n",
       "      <td>71597DIJFP18.0</td>\n",
       "      <td>9.68</td>\n",
       "    </tr>\n",
       "  </tbody>\n",
       "</table>\n",
       "</div>"
      ],
      "text/plain": [
       "   CODE_STIF_TRNS_s1  CODE_STIF_RES_s1  CODE_STIF_ARRET_s1     STOP_NAME_s1  \\\n",
       "0              100.0             110.0               717.0  QUAI DE LA GARE   \n",
       "1              100.0             110.0               717.0  QUAI DE LA GARE   \n",
       "2              100.0             110.0               717.0  QUAI DE LA GARE   \n",
       "3              100.0             110.0               717.0  QUAI DE LA GARE   \n",
       "4              100.0             110.0               717.0  QUAI DE LA GARE   \n",
       "\n",
       "   ID_REFA_LDA_s1 CAT_DAY_s1  HOUR_s1  PCT_CHECKINS_s1              ID  \\\n",
       "0         71597.0      DIJFP     11.0             3.83  71597DIJFP11.0   \n",
       "1         71597.0      DIJFP     13.0             5.33  71597DIJFP13.0   \n",
       "2         71597.0      DIJFP     14.0             6.44  71597DIJFP14.0   \n",
       "3         71597.0      DIJFP     15.0             7.90  71597DIJFP15.0   \n",
       "4         71597.0      DIJFP     18.0            11.28  71597DIJFP18.0   \n",
       "\n",
       "   PCT_CHECKINS_s2  \n",
       "0             3.87  \n",
       "1             5.38  \n",
       "2             6.59  \n",
       "3             7.74  \n",
       "4             9.68  "
      ]
     },
     "execution_count": 268,
     "metadata": {},
     "output_type": "execute_result"
    }
   ],
   "source": [
    "metro_hp.head()"
   ]
  },
  {
   "cell_type": "code",
   "execution_count": 269,
   "metadata": {},
   "outputs": [],
   "source": [
    "cols_rename = {'CODE_STIF_TRNS_s1':'CODE_STIF_TRNS',\n",
    "              'CODE_STIF_RES_s1': 'CODE_STIF_RES',\n",
    "              'CODE_STIF_ARRET_s1': 'CODE_STIF_ARRET',\n",
    "              'STOP_NAME_s1': 'STOP_NAME',\n",
    "              'ID_REFA_LDA_s1': 'ID_REFA_LDA',\n",
    "              'CAT_DAY_s1': 'CAT_DAY',\n",
    "              'HOUR_s1': 'HOUR',\n",
    "              'ID':'ID_ROW'}\n",
    "\n",
    "metro_hp = metro_hp.rename(cols_rename, axis=1)"
   ]
  },
  {
   "cell_type": "code",
   "execution_count": 270,
   "metadata": {},
   "outputs": [
    {
     "data": {
      "text/html": [
       "<div>\n",
       "<style scoped>\n",
       "    .dataframe tbody tr th:only-of-type {\n",
       "        vertical-align: middle;\n",
       "    }\n",
       "\n",
       "    .dataframe tbody tr th {\n",
       "        vertical-align: top;\n",
       "    }\n",
       "\n",
       "    .dataframe thead th {\n",
       "        text-align: right;\n",
       "    }\n",
       "</style>\n",
       "<table border=\"1\" class=\"dataframe\">\n",
       "  <thead>\n",
       "    <tr style=\"text-align: right;\">\n",
       "      <th></th>\n",
       "      <th>CODE_STIF_TRNS</th>\n",
       "      <th>CODE_STIF_RES</th>\n",
       "      <th>CODE_STIF_ARRET</th>\n",
       "      <th>STOP_NAME</th>\n",
       "      <th>ID_REFA_LDA</th>\n",
       "      <th>CAT_DAY</th>\n",
       "      <th>HOUR</th>\n",
       "      <th>PCT_CHECKINS_s1</th>\n",
       "      <th>ID_ROW</th>\n",
       "      <th>PCT_CHECKINS_s2</th>\n",
       "    </tr>\n",
       "  </thead>\n",
       "  <tbody>\n",
       "    <tr>\n",
       "      <th>0</th>\n",
       "      <td>100.0</td>\n",
       "      <td>110.0</td>\n",
       "      <td>717.0</td>\n",
       "      <td>QUAI DE LA GARE</td>\n",
       "      <td>71597.0</td>\n",
       "      <td>DIJFP</td>\n",
       "      <td>11.0</td>\n",
       "      <td>3.83</td>\n",
       "      <td>71597DIJFP11.0</td>\n",
       "      <td>3.87</td>\n",
       "    </tr>\n",
       "    <tr>\n",
       "      <th>1</th>\n",
       "      <td>100.0</td>\n",
       "      <td>110.0</td>\n",
       "      <td>717.0</td>\n",
       "      <td>QUAI DE LA GARE</td>\n",
       "      <td>71597.0</td>\n",
       "      <td>DIJFP</td>\n",
       "      <td>13.0</td>\n",
       "      <td>5.33</td>\n",
       "      <td>71597DIJFP13.0</td>\n",
       "      <td>5.38</td>\n",
       "    </tr>\n",
       "    <tr>\n",
       "      <th>2</th>\n",
       "      <td>100.0</td>\n",
       "      <td>110.0</td>\n",
       "      <td>717.0</td>\n",
       "      <td>QUAI DE LA GARE</td>\n",
       "      <td>71597.0</td>\n",
       "      <td>DIJFP</td>\n",
       "      <td>14.0</td>\n",
       "      <td>6.44</td>\n",
       "      <td>71597DIJFP14.0</td>\n",
       "      <td>6.59</td>\n",
       "    </tr>\n",
       "    <tr>\n",
       "      <th>3</th>\n",
       "      <td>100.0</td>\n",
       "      <td>110.0</td>\n",
       "      <td>717.0</td>\n",
       "      <td>QUAI DE LA GARE</td>\n",
       "      <td>71597.0</td>\n",
       "      <td>DIJFP</td>\n",
       "      <td>15.0</td>\n",
       "      <td>7.90</td>\n",
       "      <td>71597DIJFP15.0</td>\n",
       "      <td>7.74</td>\n",
       "    </tr>\n",
       "    <tr>\n",
       "      <th>4</th>\n",
       "      <td>100.0</td>\n",
       "      <td>110.0</td>\n",
       "      <td>717.0</td>\n",
       "      <td>QUAI DE LA GARE</td>\n",
       "      <td>71597.0</td>\n",
       "      <td>DIJFP</td>\n",
       "      <td>18.0</td>\n",
       "      <td>11.28</td>\n",
       "      <td>71597DIJFP18.0</td>\n",
       "      <td>9.68</td>\n",
       "    </tr>\n",
       "  </tbody>\n",
       "</table>\n",
       "</div>"
      ],
      "text/plain": [
       "   CODE_STIF_TRNS  CODE_STIF_RES  CODE_STIF_ARRET        STOP_NAME  \\\n",
       "0           100.0          110.0            717.0  QUAI DE LA GARE   \n",
       "1           100.0          110.0            717.0  QUAI DE LA GARE   \n",
       "2           100.0          110.0            717.0  QUAI DE LA GARE   \n",
       "3           100.0          110.0            717.0  QUAI DE LA GARE   \n",
       "4           100.0          110.0            717.0  QUAI DE LA GARE   \n",
       "\n",
       "   ID_REFA_LDA CAT_DAY  HOUR  PCT_CHECKINS_s1          ID_ROW  PCT_CHECKINS_s2  \n",
       "0      71597.0   DIJFP  11.0             3.83  71597DIJFP11.0             3.87  \n",
       "1      71597.0   DIJFP  13.0             5.33  71597DIJFP13.0             5.38  \n",
       "2      71597.0   DIJFP  14.0             6.44  71597DIJFP14.0             6.59  \n",
       "3      71597.0   DIJFP  15.0             7.90  71597DIJFP15.0             7.74  \n",
       "4      71597.0   DIJFP  18.0            11.28  71597DIJFP18.0             9.68  "
      ]
     },
     "execution_count": 270,
     "metadata": {},
     "output_type": "execute_result"
    }
   ],
   "source": [
    "metro_hp.head()"
   ]
  },
  {
   "cell_type": "code",
   "execution_count": 271,
   "metadata": {},
   "outputs": [],
   "source": [
    "cols_order = ['ID_ROW',\n",
    "              'CODE_STIF_TRNS',\n",
    "              'CODE_STIF_RES',\n",
    "              'CODE_STIF_ARRET',\n",
    "              'STOP_NAME',\n",
    "              'ID_REFA_LDA',\n",
    "              'CAT_DAY',\n",
    "              'HOUR',\n",
    "              'PCT_CHECKINS_s1',\n",
    "              'PCT_CHECKINS_s2']\n",
    "\n",
    "metro_hp = metro_hp[cols_order]"
   ]
  },
  {
   "cell_type": "code",
   "execution_count": 272,
   "metadata": {},
   "outputs": [
    {
     "data": {
      "text/html": [
       "<div>\n",
       "<style scoped>\n",
       "    .dataframe tbody tr th:only-of-type {\n",
       "        vertical-align: middle;\n",
       "    }\n",
       "\n",
       "    .dataframe tbody tr th {\n",
       "        vertical-align: top;\n",
       "    }\n",
       "\n",
       "    .dataframe thead th {\n",
       "        text-align: right;\n",
       "    }\n",
       "</style>\n",
       "<table border=\"1\" class=\"dataframe\">\n",
       "  <thead>\n",
       "    <tr style=\"text-align: right;\">\n",
       "      <th></th>\n",
       "      <th>ID_ROW</th>\n",
       "      <th>CODE_STIF_TRNS</th>\n",
       "      <th>CODE_STIF_RES</th>\n",
       "      <th>CODE_STIF_ARRET</th>\n",
       "      <th>STOP_NAME</th>\n",
       "      <th>ID_REFA_LDA</th>\n",
       "      <th>CAT_DAY</th>\n",
       "      <th>HOUR</th>\n",
       "      <th>PCT_CHECKINS_s1</th>\n",
       "      <th>PCT_CHECKINS_s2</th>\n",
       "    </tr>\n",
       "  </thead>\n",
       "  <tbody>\n",
       "    <tr>\n",
       "      <th>0</th>\n",
       "      <td>71597DIJFP11.0</td>\n",
       "      <td>100.0</td>\n",
       "      <td>110.0</td>\n",
       "      <td>717.0</td>\n",
       "      <td>QUAI DE LA GARE</td>\n",
       "      <td>71597.0</td>\n",
       "      <td>DIJFP</td>\n",
       "      <td>11.0</td>\n",
       "      <td>3.83</td>\n",
       "      <td>3.87</td>\n",
       "    </tr>\n",
       "    <tr>\n",
       "      <th>1</th>\n",
       "      <td>71597DIJFP13.0</td>\n",
       "      <td>100.0</td>\n",
       "      <td>110.0</td>\n",
       "      <td>717.0</td>\n",
       "      <td>QUAI DE LA GARE</td>\n",
       "      <td>71597.0</td>\n",
       "      <td>DIJFP</td>\n",
       "      <td>13.0</td>\n",
       "      <td>5.33</td>\n",
       "      <td>5.38</td>\n",
       "    </tr>\n",
       "    <tr>\n",
       "      <th>2</th>\n",
       "      <td>71597DIJFP14.0</td>\n",
       "      <td>100.0</td>\n",
       "      <td>110.0</td>\n",
       "      <td>717.0</td>\n",
       "      <td>QUAI DE LA GARE</td>\n",
       "      <td>71597.0</td>\n",
       "      <td>DIJFP</td>\n",
       "      <td>14.0</td>\n",
       "      <td>6.44</td>\n",
       "      <td>6.59</td>\n",
       "    </tr>\n",
       "    <tr>\n",
       "      <th>3</th>\n",
       "      <td>71597DIJFP15.0</td>\n",
       "      <td>100.0</td>\n",
       "      <td>110.0</td>\n",
       "      <td>717.0</td>\n",
       "      <td>QUAI DE LA GARE</td>\n",
       "      <td>71597.0</td>\n",
       "      <td>DIJFP</td>\n",
       "      <td>15.0</td>\n",
       "      <td>7.90</td>\n",
       "      <td>7.74</td>\n",
       "    </tr>\n",
       "    <tr>\n",
       "      <th>4</th>\n",
       "      <td>71597DIJFP18.0</td>\n",
       "      <td>100.0</td>\n",
       "      <td>110.0</td>\n",
       "      <td>717.0</td>\n",
       "      <td>QUAI DE LA GARE</td>\n",
       "      <td>71597.0</td>\n",
       "      <td>DIJFP</td>\n",
       "      <td>18.0</td>\n",
       "      <td>11.28</td>\n",
       "      <td>9.68</td>\n",
       "    </tr>\n",
       "  </tbody>\n",
       "</table>\n",
       "</div>"
      ],
      "text/plain": [
       "           ID_ROW  CODE_STIF_TRNS  CODE_STIF_RES  CODE_STIF_ARRET  \\\n",
       "0  71597DIJFP11.0           100.0          110.0            717.0   \n",
       "1  71597DIJFP13.0           100.0          110.0            717.0   \n",
       "2  71597DIJFP14.0           100.0          110.0            717.0   \n",
       "3  71597DIJFP15.0           100.0          110.0            717.0   \n",
       "4  71597DIJFP18.0           100.0          110.0            717.0   \n",
       "\n",
       "         STOP_NAME  ID_REFA_LDA CAT_DAY  HOUR  PCT_CHECKINS_s1  \\\n",
       "0  QUAI DE LA GARE      71597.0   DIJFP  11.0             3.83   \n",
       "1  QUAI DE LA GARE      71597.0   DIJFP  13.0             5.33   \n",
       "2  QUAI DE LA GARE      71597.0   DIJFP  14.0             6.44   \n",
       "3  QUAI DE LA GARE      71597.0   DIJFP  15.0             7.90   \n",
       "4  QUAI DE LA GARE      71597.0   DIJFP  18.0            11.28   \n",
       "\n",
       "   PCT_CHECKINS_s2  \n",
       "0             3.87  \n",
       "1             5.38  \n",
       "2             6.59  \n",
       "3             7.74  \n",
       "4             9.68  "
      ]
     },
     "execution_count": 272,
     "metadata": {},
     "output_type": "execute_result"
    }
   ],
   "source": [
    "metro_hp.head()"
   ]
  },
  {
   "cell_type": "code",
   "execution_count": 273,
   "metadata": {},
   "outputs": [
    {
     "name": "stdout",
     "output_type": "stream",
     "text": [
      "<class 'pandas.core.frame.DataFrame'>\n",
      "Int64Index: 35603 entries, 0 to 35602\n",
      "Data columns (total 10 columns):\n",
      "ID_ROW             35603 non-null object\n",
      "CODE_STIF_TRNS     35603 non-null float64\n",
      "CODE_STIF_RES      35603 non-null float64\n",
      "CODE_STIF_ARRET    35603 non-null float64\n",
      "STOP_NAME          35603 non-null object\n",
      "ID_REFA_LDA        35603 non-null float64\n",
      "CAT_DAY            35603 non-null object\n",
      "HOUR               35592 non-null float64\n",
      "PCT_CHECKINS_s1    35237 non-null float64\n",
      "PCT_CHECKINS_s2    35175 non-null float64\n",
      "dtypes: float64(7), object(3)\n",
      "memory usage: 3.0+ MB\n"
     ]
    }
   ],
   "source": [
    "metro_hp.info()"
   ]
  },
  {
   "cell_type": "code",
   "execution_count": 274,
   "metadata": {},
   "outputs": [
    {
     "data": {
      "text/plain": [
       "ID_ROW               0\n",
       "CODE_STIF_TRNS       0\n",
       "CODE_STIF_RES        0\n",
       "CODE_STIF_ARRET      0\n",
       "STOP_NAME            0\n",
       "ID_REFA_LDA          0\n",
       "CAT_DAY              0\n",
       "HOUR                11\n",
       "PCT_CHECKINS_s1    366\n",
       "PCT_CHECKINS_s2    428\n",
       "dtype: int64"
      ]
     },
     "execution_count": 274,
     "metadata": {},
     "output_type": "execute_result"
    }
   ],
   "source": [
    "metro_hp.isnull().sum()"
   ]
  },
  {
   "cell_type": "code",
   "execution_count": 275,
   "metadata": {},
   "outputs": [
    {
     "name": "stdout",
     "output_type": "stream",
     "text": [
      "<class 'pandas.core.frame.DataFrame'>\n",
      "Int64Index: 35603 entries, 0 to 35602\n",
      "Data columns (total 10 columns):\n",
      "ID_ROW             35603 non-null object\n",
      "CODE_STIF_TRNS     35603 non-null float64\n",
      "CODE_STIF_RES      35603 non-null float64\n",
      "CODE_STIF_ARRET    35603 non-null float64\n",
      "STOP_NAME          35603 non-null object\n",
      "ID_REFA_LDA        35603 non-null float64\n",
      "CAT_DAY            35603 non-null object\n",
      "HOUR               35592 non-null float64\n",
      "PCT_CHECKINS_s1    35237 non-null float64\n",
      "PCT_CHECKINS_s2    35175 non-null float64\n",
      "dtypes: float64(7), object(3)\n",
      "memory usage: 3.0+ MB\n"
     ]
    }
   ],
   "source": [
    "metro_hp.info()"
   ]
  },
  {
   "cell_type": "markdown",
   "metadata": {},
   "source": [
    "It is normal that there remain missing values for PCT_CHECKINS_s1 and s2 due to the merge."
   ]
  },
  {
   "cell_type": "code",
   "execution_count": 276,
   "metadata": {},
   "outputs": [
    {
     "data": {
      "text/plain": [
       "ID_ROW             35603\n",
       "CODE_STIF_TRNS         1\n",
       "CODE_STIF_RES          1\n",
       "CODE_STIF_ARRET      301\n",
       "STOP_NAME            301\n",
       "ID_REFA_LDA          301\n",
       "CAT_DAY                5\n",
       "HOUR                  24\n",
       "PCT_CHECKINS_s1     1613\n",
       "PCT_CHECKINS_s2     1601\n",
       "dtype: int64"
      ]
     },
     "execution_count": 276,
     "metadata": {},
     "output_type": "execute_result"
    }
   ],
   "source": [
    "metro_hp.nunique()"
   ]
  },
  {
   "cell_type": "markdown",
   "metadata": {},
   "source": [
    "### 3.B.e. Compute mean hourly profile of 1st & 1nd semesters <a name=\"3Be\"></a>\n",
    "\n",
    "Add a column with the mean of PCT_CHECKINS_s1 and PCT_CHECKINS_s2 "
   ]
  },
  {
   "cell_type": "code",
   "execution_count": 277,
   "metadata": {},
   "outputs": [],
   "source": [
    "metro_hp['PCT_CHECKINS_mean'] = (metro_hp['PCT_CHECKINS_s1']+metro_hp['PCT_CHECKINS_s2'])/2"
   ]
  },
  {
   "cell_type": "code",
   "execution_count": 278,
   "metadata": {},
   "outputs": [],
   "source": [
    "metro_hp['PCT_CHECKINS_mean'] = metro_hp['PCT_CHECKINS_mean'].fillna(metro_hp['PCT_CHECKINS_s1'])\n",
    "metro_hp['PCT_CHECKINS_mean'] = metro_hp['PCT_CHECKINS_mean'].fillna(metro_hp['PCT_CHECKINS_s2'])"
   ]
  },
  {
   "cell_type": "code",
   "execution_count": 279,
   "metadata": {},
   "outputs": [
    {
     "name": "stdout",
     "output_type": "stream",
     "text": [
      "<class 'pandas.core.frame.DataFrame'>\n",
      "Int64Index: 35603 entries, 0 to 35602\n",
      "Data columns (total 11 columns):\n",
      "ID_ROW               35603 non-null object\n",
      "CODE_STIF_TRNS       35603 non-null float64\n",
      "CODE_STIF_RES        35603 non-null float64\n",
      "CODE_STIF_ARRET      35603 non-null float64\n",
      "STOP_NAME            35603 non-null object\n",
      "ID_REFA_LDA          35603 non-null float64\n",
      "CAT_DAY              35603 non-null object\n",
      "HOUR                 35592 non-null float64\n",
      "PCT_CHECKINS_s1      35237 non-null float64\n",
      "PCT_CHECKINS_s2      35175 non-null float64\n",
      "PCT_CHECKINS_mean    35603 non-null float64\n",
      "dtypes: float64(8), object(3)\n",
      "memory usage: 3.3+ MB\n"
     ]
    }
   ],
   "source": [
    "metro_hp.info()"
   ]
  },
  {
   "cell_type": "markdown",
   "metadata": {},
   "source": [
    "### 3.B.f Check data completeness <a name=\"3Bf\"></a>\n",
    "\n",
    "Check that both metro_nb and metro_hp have the same ID_REFA_LDA and STOP_NAME values"
   ]
  },
  {
   "cell_type": "code",
   "execution_count": 280,
   "metadata": {},
   "outputs": [],
   "source": [
    "metro_hp_lda = np.sort(metro_hp['ID_REFA_LDA'].unique())\n",
    "metro_nb_lda = np.sort(metro_nb['ID_REFA_LDA'].unique())"
   ]
  },
  {
   "cell_type": "code",
   "execution_count": 281,
   "metadata": {},
   "outputs": [
    {
     "data": {
      "text/plain": [
       "True"
      ]
     },
     "execution_count": 281,
     "metadata": {},
     "output_type": "execute_result"
    }
   ],
   "source": [
    "(metro_hp_lda == metro_nb_lda).all()"
   ]
  },
  {
   "cell_type": "code",
   "execution_count": 282,
   "metadata": {},
   "outputs": [],
   "source": [
    "metro_hp_name = np.sort(metro_hp['STOP_NAME'].unique())\n",
    "metro_nb_name = np.sort(metro_nb['STOP_NAME'].unique())"
   ]
  },
  {
   "cell_type": "code",
   "execution_count": 283,
   "metadata": {},
   "outputs": [
    {
     "data": {
      "text/plain": [
       "True"
      ]
     },
     "execution_count": 283,
     "metadata": {},
     "output_type": "execute_result"
    }
   ],
   "source": [
    "(metro_hp_name == metro_nb_name).all()"
   ]
  },
  {
   "cell_type": "markdown",
   "metadata": {},
   "source": [
    "The ID_REFA_LDA and STOP_NAME columns of both dataframes match perfectly."
   ]
  },
  {
   "cell_type": "markdown",
   "metadata": {},
   "source": [
    "### 3.B.g. Filter columns <a name=\"3Bg\"></a>"
   ]
  },
  {
   "cell_type": "code",
   "execution_count": 284,
   "metadata": {},
   "outputs": [],
   "source": [
    "# List of columns to drop\n",
    "col_todrop = ['ID_ROW', 'CODE_STIF_TRNS', 'CODE_STIF_RES', 'CODE_STIF_ARRET']\n",
    "\n",
    "# Drop columns\n",
    "metro_hp.drop(columns=col_todrop, inplace=True)"
   ]
  },
  {
   "cell_type": "markdown",
   "metadata": {},
   "source": [
    "## 3.C. Export to .csv <a name=\"3C\"></a>"
   ]
  },
  {
   "cell_type": "code",
   "execution_count": 285,
   "metadata": {},
   "outputs": [],
   "source": [
    "metro_hp.to_csv('../../datasets/metro_hp.csv', index=None)"
   ]
  }
 ],
 "metadata": {
  "kernelspec": {
   "display_name": "Python 3",
   "language": "python",
   "name": "python3"
  },
  "language_info": {
   "codemirror_mode": {
    "name": "ipython",
    "version": 3
   },
   "file_extension": ".py",
   "mimetype": "text/x-python",
   "name": "python",
   "nbconvert_exporter": "python",
   "pygments_lexer": "ipython3",
   "version": "3.6.4"
  }
 },
 "nbformat": 4,
 "nbformat_minor": 2
}
