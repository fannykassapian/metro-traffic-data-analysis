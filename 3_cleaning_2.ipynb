{
 "cells": [
  {
   "cell_type": "markdown",
   "metadata": {},
   "source": [
    "# Notebook 3/4: Data cleaning (Repository and geographical coordinates)\n",
    "***"
   ]
  },
  {
   "cell_type": "markdown",
   "metadata": {},
   "source": [
    "# Table of contents\n",
    "1. [Purpose of this notebook](#1)\n",
    "2. [Repository of all LDAs, ZDLs and ZDEs](#2)\n",
    "    1. [Presentation](#2A)\n",
    "    1. [Exploration](#2B)\n",
    "    2. [Conclusion](#2C)  \n",
    "3. [Positions of all rail stations, by ZDL](#3)\n",
    "    1. [Presentation](#3A)\n",
    "    2. [Exploration](#3B)\n",
    "    3. [Cleaning](#3C)\n",
    "        1. [Filter metro stations](#3Ca)\n",
    "        2. [Match station names with other dataframes](#3Cb)\n",
    "        3. [Rename & filter columns](#3Cd)\n",
    "        4. [Create LAT (latitude) and LONG (longitude) columns](#3Ce)\n",
    "    4. [Export to csv](#3D)   \n",
    "4. [Map of Paris metro network](#4)"
   ]
  },
  {
   "cell_type": "markdown",
   "metadata": {},
   "source": [
    "# 1. Purpose of this notebook <a name=\"1\"></a>\n",
    "\n",
    "This notebook follows the exploration of the number of checkins and hourly profiles per metro station for the year 2018 (see notebook 2/4). For more general information about the data, please refer to notebook 1/4.\n",
    "\n",
    "In order to enrich our understanding of the data at hand and to produce maps as part of our future analysis, this notebook will look into the following datasets:\n",
    "- Repository of all LDAs, ZDLs and ZDEs\n",
    "- Geographical data of all rail stations, by ZDL"
   ]
  },
  {
   "cell_type": "code",
   "execution_count": 51,
   "metadata": {},
   "outputs": [],
   "source": [
    "# Import libraries\n",
    "\n",
    "import numpy as np\n",
    "import pandas as pd"
   ]
  },
  {
   "cell_type": "markdown",
   "metadata": {},
   "source": [
    "# 2. Repository of all LDAs, ZDLs and ZDEs <a name=\"2\"></a>"
   ]
  },
  {
   "cell_type": "markdown",
   "metadata": {},
   "source": [
    "## 2.A. Presentation <a name=\"2A\"></a>\n",
    "\n",
    "The STIF provides numerous datasets with data about lines and stops.\n",
    "\n",
    "[This dataset](https://opendata.stif.info/explore/dataset/referentiel-arret-tc-idf/information/) gives all the IDs for LDAs, ZDLs and ZDEs, by ZDE.\n",
    "\n",
    "This page also includes documentation about this repository.\n",
    "\n",
    "Note that the STIF provides a similar repository of all transport lines.\n",
    "\n",
    "The datasets containing the number of checkins and hourly profiles for 2018 only include the LDA IDs and their related commercial name. This dataset can be useful to check if a STOP_NAME is valid, or to fill missing values in the ID_REFA_LDA column, by matching the names in the STOP_NAME column with those of the LDA_NOM column. It may also allow us to cross analyze datasets which do not include the same IDs.\n",
    "\n",
    "#### Identification codes (see notebook 1/4):\n",
    "\n",
    "The STIF assigns 3 levels of identification to each stop:\n",
    "\n",
    "- LDA (Lieu D'Arrêt): Designates a place where vehicules from different lines can stop.\n",
    "- ZDL (Zone De Lieu): Designates an area within an LDA that regroups several ZDEs with the same operating name.\n",
    "- ZDE (Zone D'Embarquement): Designates a precise spot where people can get in and out of a vehicule (ex: metro platform).\n",
    "\n",
    "The STIF also allocates internal codes to identify carriers (CODE_STIF_TRNS), network types (CODE_STIF_RES), and stops (CODE_STIF_ARRET).\n",
    "\n",
    "Although I could not find the exhaustive list of codes and their meanings, I've identified that the CODE_STIF_RES 110 corresponds to the metro network in Paris. Our analysis focuses on Parisian metro stations."
   ]
  },
  {
   "cell_type": "markdown",
   "metadata": {},
   "source": [
    "## 2.B. Exploration <a name=\"2B\"></a>"
   ]
  },
  {
   "cell_type": "code",
   "execution_count": 52,
   "metadata": {},
   "outputs": [],
   "source": [
    "# Import libraries\n",
    "\n",
    "import numpy as np\n",
    "import pandas as pd"
   ]
  },
  {
   "cell_type": "code",
   "execution_count": 53,
   "metadata": {},
   "outputs": [],
   "source": [
    "# Read file\n",
    "\n",
    "ref_stops = pd.read_csv('../../datasets/referentiel-arret-tc-idf.csv', sep=';')"
   ]
  },
  {
   "cell_type": "code",
   "execution_count": 54,
   "metadata": {},
   "outputs": [
    {
     "data": {
      "text/html": [
       "<div>\n",
       "<style scoped>\n",
       "    .dataframe tbody tr th:only-of-type {\n",
       "        vertical-align: middle;\n",
       "    }\n",
       "\n",
       "    .dataframe tbody tr th {\n",
       "        vertical-align: top;\n",
       "    }\n",
       "\n",
       "    .dataframe thead th {\n",
       "        text-align: right;\n",
       "    }\n",
       "</style>\n",
       "<table border=\"1\" class=\"dataframe\">\n",
       "  <thead>\n",
       "    <tr style=\"text-align: right;\">\n",
       "      <th></th>\n",
       "      <th>ZDEr_ID_REF_A</th>\n",
       "      <th>ZDEr_NOM</th>\n",
       "      <th>ZDEr_ID_TYPE_ARRET</th>\n",
       "      <th>ZDEr_LIBELLE_TYPE_ARRET</th>\n",
       "      <th>ZDEr_X_Y</th>\n",
       "      <th>ZDLr_ID_REF_A</th>\n",
       "      <th>ZDLr_NOM</th>\n",
       "      <th>ZDLr_ID_TYPE_ARRET</th>\n",
       "      <th>ZDLr_LIBELLE_TYPE_ARRET</th>\n",
       "      <th>LDA_ID_REF_A</th>\n",
       "      <th>LDA_NOM</th>\n",
       "      <th>LDA_ID_TYPE_ARRET</th>\n",
       "      <th>LDA_LIBELLE_TYPE_ARRET</th>\n",
       "    </tr>\n",
       "  </thead>\n",
       "  <tbody>\n",
       "    <tr>\n",
       "      <th>0</th>\n",
       "      <td>36757</td>\n",
       "      <td>Saint-Exupéry</td>\n",
       "      <td>5</td>\n",
       "      <td>Arrêt de bus</td>\n",
       "      <td>640837,6863829</td>\n",
       "      <td>50507</td>\n",
       "      <td>Saint-Exupéry</td>\n",
       "      <td>5</td>\n",
       "      <td>Arrêt de bus</td>\n",
       "      <td>70831</td>\n",
       "      <td>Saint-Exupéry</td>\n",
       "      <td>5</td>\n",
       "      <td>Arrêt de bus</td>\n",
       "    </tr>\n",
       "    <tr>\n",
       "      <th>1</th>\n",
       "      <td>39355</td>\n",
       "      <td>La Paix</td>\n",
       "      <td>5</td>\n",
       "      <td>Arrêt de bus</td>\n",
       "      <td>641034,6863697</td>\n",
       "      <td>50508</td>\n",
       "      <td>La Paix</td>\n",
       "      <td>5</td>\n",
       "      <td>Arrêt de bus</td>\n",
       "      <td>70820</td>\n",
       "      <td>La Paix</td>\n",
       "      <td>5</td>\n",
       "      <td>Arrêt de bus</td>\n",
       "    </tr>\n",
       "    <tr>\n",
       "      <th>2</th>\n",
       "      <td>39358</td>\n",
       "      <td>Victorien Sardou</td>\n",
       "      <td>5</td>\n",
       "      <td>Arrêt de bus</td>\n",
       "      <td>641128,6863107</td>\n",
       "      <td>50510</td>\n",
       "      <td>Victorien Sardou</td>\n",
       "      <td>5</td>\n",
       "      <td>Arrêt de bus</td>\n",
       "      <td>70796</td>\n",
       "      <td>Victorien Sardou</td>\n",
       "      <td>5</td>\n",
       "      <td>Arrêt de bus</td>\n",
       "    </tr>\n",
       "    <tr>\n",
       "      <th>3</th>\n",
       "      <td>27653</td>\n",
       "      <td>Aristide Briand</td>\n",
       "      <td>5</td>\n",
       "      <td>Arrêt de bus</td>\n",
       "      <td>658849,6869841</td>\n",
       "      <td>50518</td>\n",
       "      <td>Aristide Briand / Centre Culturel</td>\n",
       "      <td>5</td>\n",
       "      <td>Arrêt de bus</td>\n",
       "      <td>72619</td>\n",
       "      <td>Aristide Briand / Centre Culturel</td>\n",
       "      <td>5</td>\n",
       "      <td>Arrêt de bus</td>\n",
       "    </tr>\n",
       "    <tr>\n",
       "      <th>4</th>\n",
       "      <td>19289</td>\n",
       "      <td>Bois d'Amour</td>\n",
       "      <td>5</td>\n",
       "      <td>Arrêt de bus</td>\n",
       "      <td>660488.75,6868398.5</td>\n",
       "      <td>50520</td>\n",
       "      <td>Jean Jaurès / Bois d'Amour</td>\n",
       "      <td>5</td>\n",
       "      <td>Arrêt de bus</td>\n",
       "      <td>72527</td>\n",
       "      <td>Jean Jaurès / Bois d'Amour</td>\n",
       "      <td>5</td>\n",
       "      <td>Arrêt de bus</td>\n",
       "    </tr>\n",
       "  </tbody>\n",
       "</table>\n",
       "</div>"
      ],
      "text/plain": [
       "   ZDEr_ID_REF_A          ZDEr_NOM  ZDEr_ID_TYPE_ARRET  \\\n",
       "0          36757     Saint-Exupéry                   5   \n",
       "1          39355           La Paix                   5   \n",
       "2          39358  Victorien Sardou                   5   \n",
       "3          27653   Aristide Briand                   5   \n",
       "4          19289      Bois d'Amour                   5   \n",
       "\n",
       "  ZDEr_LIBELLE_TYPE_ARRET             ZDEr_X_Y  ZDLr_ID_REF_A  \\\n",
       "0            Arrêt de bus       640837,6863829          50507   \n",
       "1            Arrêt de bus       641034,6863697          50508   \n",
       "2            Arrêt de bus       641128,6863107          50510   \n",
       "3            Arrêt de bus       658849,6869841          50518   \n",
       "4            Arrêt de bus  660488.75,6868398.5          50520   \n",
       "\n",
       "                            ZDLr_NOM  ZDLr_ID_TYPE_ARRET  \\\n",
       "0                      Saint-Exupéry                   5   \n",
       "1                            La Paix                   5   \n",
       "2                   Victorien Sardou                   5   \n",
       "3  Aristide Briand / Centre Culturel                   5   \n",
       "4         Jean Jaurès / Bois d'Amour                   5   \n",
       "\n",
       "  ZDLr_LIBELLE_TYPE_ARRET  LDA_ID_REF_A                            LDA_NOM  \\\n",
       "0            Arrêt de bus         70831                      Saint-Exupéry   \n",
       "1            Arrêt de bus         70820                            La Paix   \n",
       "2            Arrêt de bus         70796                   Victorien Sardou   \n",
       "3            Arrêt de bus         72619  Aristide Briand / Centre Culturel   \n",
       "4            Arrêt de bus         72527         Jean Jaurès / Bois d'Amour   \n",
       "\n",
       "   LDA_ID_TYPE_ARRET LDA_LIBELLE_TYPE_ARRET  \n",
       "0                  5           Arrêt de bus  \n",
       "1                  5           Arrêt de bus  \n",
       "2                  5           Arrêt de bus  \n",
       "3                  5           Arrêt de bus  \n",
       "4                  5           Arrêt de bus  "
      ]
     },
     "execution_count": 54,
     "metadata": {},
     "output_type": "execute_result"
    }
   ],
   "source": [
    "# Explore dataframe\n",
    "\n",
    "ref_stops.head()"
   ]
  },
  {
   "cell_type": "markdown",
   "metadata": {},
   "source": [
    "This dataset does not include geographical data. The ZDEr_X_Y column looks like it contains coordinates, but these values do not correspond to the latitude and longitude of this region. This dataset does not contain the CODE_STIF_RES either, which we use in the other datasets to filter Parisian metro stations."
   ]
  },
  {
   "cell_type": "code",
   "execution_count": 55,
   "metadata": {},
   "outputs": [
    {
     "name": "stdout",
     "output_type": "stream",
     "text": [
      "<class 'pandas.core.frame.DataFrame'>\n",
      "RangeIndex: 39925 entries, 0 to 39924\n",
      "Data columns (total 13 columns):\n",
      "ZDEr_ID_REF_A              39925 non-null int64\n",
      "ZDEr_NOM                   39925 non-null object\n",
      "ZDEr_ID_TYPE_ARRET         39925 non-null int64\n",
      "ZDEr_LIBELLE_TYPE_ARRET    39925 non-null object\n",
      "ZDEr_X_Y                   39925 non-null object\n",
      "ZDLr_ID_REF_A              39925 non-null int64\n",
      "ZDLr_NOM                   39925 non-null object\n",
      "ZDLr_ID_TYPE_ARRET         39925 non-null int64\n",
      "ZDLr_LIBELLE_TYPE_ARRET    39925 non-null object\n",
      "LDA_ID_REF_A               39925 non-null int64\n",
      "LDA_NOM                    39925 non-null object\n",
      "LDA_ID_TYPE_ARRET          39925 non-null int64\n",
      "LDA_LIBELLE_TYPE_ARRET     39925 non-null object\n",
      "dtypes: int64(6), object(7)\n",
      "memory usage: 4.0+ MB\n"
     ]
    }
   ],
   "source": [
    "ref_stops.info()"
   ]
  },
  {
   "cell_type": "code",
   "execution_count": 56,
   "metadata": {},
   "outputs": [
    {
     "data": {
      "text/plain": [
       "ZDEr_ID_REF_A              39925\n",
       "ZDEr_NOM                   14500\n",
       "ZDEr_ID_TYPE_ARRET             4\n",
       "ZDEr_LIBELLE_TYPE_ARRET        4\n",
       "ZDEr_X_Y                   39763\n",
       "ZDLr_ID_REF_A              18412\n",
       "ZDLr_NOM                   13001\n",
       "ZDLr_ID_TYPE_ARRET             4\n",
       "ZDLr_LIBELLE_TYPE_ARRET        4\n",
       "LDA_ID_REF_A               15361\n",
       "LDA_NOM                    11379\n",
       "LDA_ID_TYPE_ARRET              4\n",
       "LDA_LIBELLE_TYPE_ARRET         4\n",
       "dtype: int64"
      ]
     },
     "execution_count": 56,
     "metadata": {},
     "output_type": "execute_result"
    }
   ],
   "source": [
    "ref_stops.nunique()"
   ]
  },
  {
   "cell_type": "markdown",
   "metadata": {},
   "source": [
    "Each row corresponds to a unique ZDE ID, but several ZDE IDs can share the same commercial name. There are no missing values.\n",
    "\n",
    "Data types are consistent. There appears to be no need to clean this dataset, but rather to explore it a little bit further.\n",
    "\n",
    "There seem to be 4 types of stops, whether accross ZDEs, ZDLs or LDAs. Let's look into it."
   ]
  },
  {
   "cell_type": "code",
   "execution_count": 57,
   "metadata": {},
   "outputs": [
    {
     "data": {
      "text/plain": [
       "5    36695\n",
       "1     2049\n",
       "2      768\n",
       "6      413\n",
       "Name: ZDEr_ID_TYPE_ARRET, dtype: int64"
      ]
     },
     "execution_count": 57,
     "metadata": {},
     "output_type": "execute_result"
    }
   ],
   "source": [
    "ref_stops['ZDEr_ID_TYPE_ARRET'].value_counts()"
   ]
  },
  {
   "cell_type": "code",
   "execution_count": 58,
   "metadata": {},
   "outputs": [
    {
     "data": {
      "text/plain": [
       "Arrêt de bus            36695\n",
       "Station ferrée / Val     2049\n",
       "Station de métro          768\n",
       "Arrêt de tram             413\n",
       "Name: ZDEr_LIBELLE_TYPE_ARRET, dtype: int64"
      ]
     },
     "execution_count": 58,
     "metadata": {},
     "output_type": "execute_result"
    }
   ],
   "source": [
    "ref_stops['ZDEr_LIBELLE_TYPE_ARRET'].value_counts()"
   ]
  },
  {
   "cell_type": "markdown",
   "metadata": {},
   "source": [
    "#### Stop types (see notebook 1/4)\n",
    "\n",
    "There are 4 types of stops:\n",
    "\n",
    "- 5: Arrêt de bus (=bus stop)\n",
    "- 1: Station ferrée / Val (=rail station)\n",
    "- 2: Station de métro (=metro station)\n",
    "- 6: Arrêt de tram (=tram stop)"
   ]
  },
  {
   "cell_type": "code",
   "execution_count": 59,
   "metadata": {},
   "outputs": [],
   "source": [
    "ZDE_val_counts = ref_stops['ZDEr_ID_TYPE_ARRET'].value_counts()\n",
    "ZDL_val_counts = ref_stops['ZDLr_ID_TYPE_ARRET'].value_counts()\n",
    "LDA_val_counts = ref_stops['LDA_ID_TYPE_ARRET'].value_counts()\n",
    "\n",
    "ZDE_counts = pd.DataFrame(data=ZDE_val_counts.values, index=ZDE_val_counts.index, columns = ['ZDE'])\n",
    "ZDL_counts = pd.DataFrame(data=ZDL_val_counts.values, index=ZDL_val_counts.index, columns = ['ZDL'])\n",
    "LDA_counts = pd.DataFrame(data=LDA_val_counts.values, index=LDA_val_counts.index, columns = ['LDA'])"
   ]
  },
  {
   "cell_type": "code",
   "execution_count": 60,
   "metadata": {
    "scrolled": true
   },
   "outputs": [
    {
     "data": {
      "text/plain": [
       "array([31819,  5065,  2208,   833])"
      ]
     },
     "execution_count": 60,
     "metadata": {},
     "output_type": "execute_result"
    }
   ],
   "source": [
    "ref_stops['LDA_ID_TYPE_ARRET'].value_counts().values"
   ]
  },
  {
   "cell_type": "code",
   "execution_count": 61,
   "metadata": {},
   "outputs": [
    {
     "data": {
      "text/html": [
       "<div>\n",
       "<style scoped>\n",
       "    .dataframe tbody tr th:only-of-type {\n",
       "        vertical-align: middle;\n",
       "    }\n",
       "\n",
       "    .dataframe tbody tr th {\n",
       "        vertical-align: top;\n",
       "    }\n",
       "\n",
       "    .dataframe thead th {\n",
       "        text-align: right;\n",
       "    }\n",
       "</style>\n",
       "<table border=\"1\" class=\"dataframe\">\n",
       "  <thead>\n",
       "    <tr style=\"text-align: right;\">\n",
       "      <th></th>\n",
       "      <th>ZDE</th>\n",
       "    </tr>\n",
       "  </thead>\n",
       "  <tbody>\n",
       "    <tr>\n",
       "      <th>5</th>\n",
       "      <td>36695</td>\n",
       "    </tr>\n",
       "    <tr>\n",
       "      <th>1</th>\n",
       "      <td>2049</td>\n",
       "    </tr>\n",
       "    <tr>\n",
       "      <th>2</th>\n",
       "      <td>768</td>\n",
       "    </tr>\n",
       "    <tr>\n",
       "      <th>6</th>\n",
       "      <td>413</td>\n",
       "    </tr>\n",
       "  </tbody>\n",
       "</table>\n",
       "</div>"
      ],
      "text/plain": [
       "     ZDE\n",
       "5  36695\n",
       "1   2049\n",
       "2    768\n",
       "6    413"
      ]
     },
     "execution_count": 61,
     "metadata": {},
     "output_type": "execute_result"
    }
   ],
   "source": [
    "ZDE_counts"
   ]
  },
  {
   "cell_type": "code",
   "execution_count": 62,
   "metadata": {},
   "outputs": [
    {
     "data": {
      "text/html": [
       "<div>\n",
       "<style scoped>\n",
       "    .dataframe tbody tr th:only-of-type {\n",
       "        vertical-align: middle;\n",
       "    }\n",
       "\n",
       "    .dataframe tbody tr th {\n",
       "        vertical-align: top;\n",
       "    }\n",
       "\n",
       "    .dataframe thead th {\n",
       "        text-align: right;\n",
       "    }\n",
       "</style>\n",
       "<table border=\"1\" class=\"dataframe\">\n",
       "  <thead>\n",
       "    <tr style=\"text-align: right;\">\n",
       "      <th></th>\n",
       "      <th>ZDE</th>\n",
       "      <th>ZDL</th>\n",
       "      <th>LDA</th>\n",
       "    </tr>\n",
       "  </thead>\n",
       "  <tbody>\n",
       "    <tr>\n",
       "      <th>5</th>\n",
       "      <td>36695</td>\n",
       "      <td>36691</td>\n",
       "      <td>31819</td>\n",
       "    </tr>\n",
       "    <tr>\n",
       "      <th>1</th>\n",
       "      <td>2049</td>\n",
       "      <td>2059</td>\n",
       "      <td>5065</td>\n",
       "    </tr>\n",
       "    <tr>\n",
       "      <th>2</th>\n",
       "      <td>768</td>\n",
       "      <td>762</td>\n",
       "      <td>2208</td>\n",
       "    </tr>\n",
       "    <tr>\n",
       "      <th>6</th>\n",
       "      <td>413</td>\n",
       "      <td>413</td>\n",
       "      <td>833</td>\n",
       "    </tr>\n",
       "  </tbody>\n",
       "</table>\n",
       "</div>"
      ],
      "text/plain": [
       "     ZDE    ZDL    LDA\n",
       "5  36695  36691  31819\n",
       "1   2049   2059   5065\n",
       "2    768    762   2208\n",
       "6    413    413    833"
      ]
     },
     "execution_count": 62,
     "metadata": {},
     "output_type": "execute_result"
    }
   ],
   "source": [
    "ids_counts = pd.concat([ZDE_counts, ZDL_counts, LDA_counts], axis=1)\n",
    "\n",
    "ids_counts "
   ]
  },
  {
   "cell_type": "markdown",
   "metadata": {},
   "source": [
    "The number of value counts per type of stops is not the same accross all of the ID columns."
   ]
  },
  {
   "cell_type": "code",
   "execution_count": 63,
   "metadata": {},
   "outputs": [],
   "source": [
    "gbo_ids = ref_stops.groupby(['LDA_ID_TYPE_ARRET', 'ZDLr_ID_TYPE_ARRET', 'ZDEr_ID_TYPE_ARRET'])"
   ]
  },
  {
   "cell_type": "code",
   "execution_count": 64,
   "metadata": {},
   "outputs": [
    {
     "data": {
      "text/html": [
       "<div>\n",
       "<style scoped>\n",
       "    .dataframe tbody tr th:only-of-type {\n",
       "        vertical-align: middle;\n",
       "    }\n",
       "\n",
       "    .dataframe tbody tr th {\n",
       "        vertical-align: top;\n",
       "    }\n",
       "\n",
       "    .dataframe thead th {\n",
       "        text-align: right;\n",
       "    }\n",
       "</style>\n",
       "<table border=\"1\" class=\"dataframe\">\n",
       "  <thead>\n",
       "    <tr style=\"text-align: right;\">\n",
       "      <th></th>\n",
       "      <th></th>\n",
       "      <th></th>\n",
       "      <th>LDA_ID_REF_A</th>\n",
       "    </tr>\n",
       "    <tr>\n",
       "      <th>LDA_ID_TYPE_ARRET</th>\n",
       "      <th>ZDLr_ID_TYPE_ARRET</th>\n",
       "      <th>ZDEr_ID_TYPE_ARRET</th>\n",
       "      <th></th>\n",
       "    </tr>\n",
       "  </thead>\n",
       "  <tbody>\n",
       "    <tr>\n",
       "      <th rowspan=\"6\" valign=\"top\">1</th>\n",
       "      <th rowspan=\"3\" valign=\"top\">1</th>\n",
       "      <th>1</th>\n",
       "      <td>2049</td>\n",
       "    </tr>\n",
       "    <tr>\n",
       "      <th>2</th>\n",
       "      <td>6</td>\n",
       "    </tr>\n",
       "    <tr>\n",
       "      <th>5</th>\n",
       "      <td>4</td>\n",
       "    </tr>\n",
       "    <tr>\n",
       "      <th>2</th>\n",
       "      <th>2</th>\n",
       "      <td>78</td>\n",
       "    </tr>\n",
       "    <tr>\n",
       "      <th>5</th>\n",
       "      <th>5</th>\n",
       "      <td>2884</td>\n",
       "    </tr>\n",
       "    <tr>\n",
       "      <th>6</th>\n",
       "      <th>6</th>\n",
       "      <td>44</td>\n",
       "    </tr>\n",
       "    <tr>\n",
       "      <th rowspan=\"3\" valign=\"top\">2</th>\n",
       "      <th>2</th>\n",
       "      <th>2</th>\n",
       "      <td>684</td>\n",
       "    </tr>\n",
       "    <tr>\n",
       "      <th>5</th>\n",
       "      <th>5</th>\n",
       "      <td>1471</td>\n",
       "    </tr>\n",
       "    <tr>\n",
       "      <th>6</th>\n",
       "      <th>6</th>\n",
       "      <td>53</td>\n",
       "    </tr>\n",
       "    <tr>\n",
       "      <th>5</th>\n",
       "      <th>5</th>\n",
       "      <th>5</th>\n",
       "      <td>31819</td>\n",
       "    </tr>\n",
       "    <tr>\n",
       "      <th rowspan=\"2\" valign=\"top\">6</th>\n",
       "      <th>5</th>\n",
       "      <th>5</th>\n",
       "      <td>517</td>\n",
       "    </tr>\n",
       "    <tr>\n",
       "      <th>6</th>\n",
       "      <th>6</th>\n",
       "      <td>316</td>\n",
       "    </tr>\n",
       "  </tbody>\n",
       "</table>\n",
       "</div>"
      ],
      "text/plain": [
       "                                                         LDA_ID_REF_A\n",
       "LDA_ID_TYPE_ARRET ZDLr_ID_TYPE_ARRET ZDEr_ID_TYPE_ARRET              \n",
       "1                 1                  1                           2049\n",
       "                                     2                              6\n",
       "                                     5                              4\n",
       "                  2                  2                             78\n",
       "                  5                  5                           2884\n",
       "                  6                  6                             44\n",
       "2                 2                  2                            684\n",
       "                  5                  5                           1471\n",
       "                  6                  6                             53\n",
       "5                 5                  5                          31819\n",
       "6                 5                  5                            517\n",
       "                  6                  6                            316"
      ]
     },
     "execution_count": 64,
     "metadata": {},
     "output_type": "execute_result"
    }
   ],
   "source": [
    "gp_ids_counts = pd.DataFrame(gbo_ids.count()['LDA_ID_REF_A'])\n",
    "\n",
    "gp_ids_counts"
   ]
  },
  {
   "cell_type": "markdown",
   "metadata": {},
   "source": [
    "A single LDA which is categorised as train station, for instance, might include several ZDLs among which some are train stations, others are metro stations, and so on (see gp_ids_counts dataframe). This explains why the number of value counts per type of stops is not the same accross all of the ID columns."
   ]
  },
  {
   "cell_type": "markdown",
   "metadata": {},
   "source": [
    "## 2.C. Conclusion <a name=\"2C\"></a>\n",
    "\n",
    "This dataset does not need to be cleaned since we will use it in a fairly superficial way. \n",
    "\n",
    "There are 3 identification levels: LDA, ZDL and ZDE. Each LDA can contain several ZDLS that themselves contain a number of ZDEs. Each of these IDs has 4 stop types: metro, rail, bus and tram."
   ]
  },
  {
   "cell_type": "markdown",
   "metadata": {},
   "source": [
    " # 3. Positions of all rail stations, by ZDL <a name=\"3\"></a>"
   ]
  },
  {
   "cell_type": "markdown",
   "metadata": {},
   "source": [
    "## 3.A. Presentation <a name=\"3A\"></a>\n",
    "\n",
    "This dataset provides geographic information about all rail, metro, tram and funicular stops in Ile de France:\n",
    "- https://opendata.stif.info/explore/dataset/emplacement-des-gares-idf-data-generalisee/information/\n",
    "\n",
    "Note that the STIF provides similar data grouped by transport line.\n",
    "\n",
    "This dataset should be particularly useful in order to produce maps.\n",
    "\n",
    "As a reminder, here are the steps we identified in order to clean it:\n",
    "\n",
    "> Filter metro stations\n",
    "\n",
    "> Match station names of geo_stops with that of other dataframes\n",
    "\n",
    "> Update column names and drop useless columns\n",
    "\n",
    "> Create latitude and longitude columns\n",
    " \n",
    "> Export to .csv"
   ]
  },
  {
   "cell_type": "code",
   "execution_count": 65,
   "metadata": {},
   "outputs": [],
   "source": [
    "# Read file\n",
    "\n",
    "geo_stops = pd.read_csv('../../datasets/emplacement-des-gares-idf-data-generalisee.csv', sep=';')"
   ]
  },
  {
   "cell_type": "markdown",
   "metadata": {},
   "source": [
    "## 3.B. Exploration <a name=\"3B\"></a>"
   ]
  },
  {
   "cell_type": "code",
   "execution_count": 66,
   "metadata": {},
   "outputs": [
    {
     "data": {
      "text/html": [
       "<div>\n",
       "<style scoped>\n",
       "    .dataframe tbody tr th:only-of-type {\n",
       "        vertical-align: middle;\n",
       "    }\n",
       "\n",
       "    .dataframe tbody tr th {\n",
       "        vertical-align: top;\n",
       "    }\n",
       "\n",
       "    .dataframe thead th {\n",
       "        text-align: right;\n",
       "    }\n",
       "</style>\n",
       "<table border=\"1\" class=\"dataframe\">\n",
       "  <thead>\n",
       "    <tr style=\"text-align: right;\">\n",
       "      <th></th>\n",
       "      <th>Geo Point</th>\n",
       "      <th>Geo Shape</th>\n",
       "      <th>id_ref_zdl</th>\n",
       "      <th>nom_long</th>\n",
       "      <th>label</th>\n",
       "      <th>idrefliga</th>\n",
       "      <th>idrefligc</th>\n",
       "      <th>res_com</th>\n",
       "      <th>mode_</th>\n",
       "      <th>fer</th>\n",
       "      <th>...</th>\n",
       "      <th>terrer</th>\n",
       "      <th>termetro</th>\n",
       "      <th>tertram</th>\n",
       "      <th>ternavette</th>\n",
       "      <th>terval</th>\n",
       "      <th>exploitant</th>\n",
       "      <th>principal</th>\n",
       "      <th>idf</th>\n",
       "      <th>x</th>\n",
       "      <th>y</th>\n",
       "    </tr>\n",
       "  </thead>\n",
       "  <tbody>\n",
       "    <tr>\n",
       "      <th>0</th>\n",
       "      <td>48.8463569889, 2.41947990037</td>\n",
       "      <td>{\"type\": \"Point\", \"coordinates\": [2.4194799003...</td>\n",
       "      <td>47247</td>\n",
       "      <td>SAINT-MANDE</td>\n",
       "      <td>Saint-Mandé</td>\n",
       "      <td>A01534</td>\n",
       "      <td>C01371</td>\n",
       "      <td>M1</td>\n",
       "      <td>Metro</td>\n",
       "      <td>0</td>\n",
       "      <td>...</td>\n",
       "      <td>0</td>\n",
       "      <td>0</td>\n",
       "      <td>0</td>\n",
       "      <td>0</td>\n",
       "      <td>0</td>\n",
       "      <td>RATP</td>\n",
       "      <td>0</td>\n",
       "      <td>1</td>\n",
       "      <td>657397.0779</td>\n",
       "      <td>6.860858e+06</td>\n",
       "    </tr>\n",
       "    <tr>\n",
       "      <th>1</th>\n",
       "      <td>48.8662858046, 2.32294341224</td>\n",
       "      <td>{\"type\": \"Point\", \"coordinates\": [2.3229434122...</td>\n",
       "      <td>45676</td>\n",
       "      <td>CONCORDE</td>\n",
       "      <td>Concorde</td>\n",
       "      <td>A01534 / A01541 / A01545</td>\n",
       "      <td>C01371 / C01378 / C01382</td>\n",
       "      <td>M1 / M8 / M12</td>\n",
       "      <td>Metro</td>\n",
       "      <td>0</td>\n",
       "      <td>...</td>\n",
       "      <td>0</td>\n",
       "      <td>0</td>\n",
       "      <td>0</td>\n",
       "      <td>0</td>\n",
       "      <td>0</td>\n",
       "      <td>RATP</td>\n",
       "      <td>0</td>\n",
       "      <td>1</td>\n",
       "      <td>650331.6676</td>\n",
       "      <td>6.863130e+06</td>\n",
       "    </tr>\n",
       "    <tr>\n",
       "      <th>2</th>\n",
       "      <td>48.8828686476, 2.34413063372</td>\n",
       "      <td>{\"type\": \"Point\", \"coordinates\": [2.3441306337...</td>\n",
       "      <td>42210</td>\n",
       "      <td>ANVERS</td>\n",
       "      <td>Anvers</td>\n",
       "      <td>A01535</td>\n",
       "      <td>C01372</td>\n",
       "      <td>M2</td>\n",
       "      <td>Metro</td>\n",
       "      <td>0</td>\n",
       "      <td>...</td>\n",
       "      <td>0</td>\n",
       "      <td>0</td>\n",
       "      <td>0</td>\n",
       "      <td>0</td>\n",
       "      <td>0</td>\n",
       "      <td>RATP</td>\n",
       "      <td>0</td>\n",
       "      <td>1</td>\n",
       "      <td>651901.2249</td>\n",
       "      <td>6.864961e+06</td>\n",
       "    </tr>\n",
       "    <tr>\n",
       "      <th>3</th>\n",
       "      <td>48.9078125468, 2.45435282652</td>\n",
       "      <td>{\"type\": \"Point\", \"coordinates\": [2.4543528265...</td>\n",
       "      <td>47334</td>\n",
       "      <td>JEAN ROSTAND</td>\n",
       "      <td>Jean Rostand</td>\n",
       "      <td>A01191</td>\n",
       "      <td>C01389</td>\n",
       "      <td>T1</td>\n",
       "      <td>Tramway</td>\n",
       "      <td>0</td>\n",
       "      <td>...</td>\n",
       "      <td>0</td>\n",
       "      <td>0</td>\n",
       "      <td>0</td>\n",
       "      <td>0</td>\n",
       "      <td>0</td>\n",
       "      <td>RATP</td>\n",
       "      <td>0</td>\n",
       "      <td>1</td>\n",
       "      <td>660003.4947</td>\n",
       "      <td>6.867673e+06</td>\n",
       "    </tr>\n",
       "    <tr>\n",
       "      <th>4</th>\n",
       "      <td>48.8930946286, 2.48791098763</td>\n",
       "      <td>{\"type\": \"Point\", \"coordinates\": [2.4879109876...</td>\n",
       "      <td>44603</td>\n",
       "      <td>LA REMISE A JORELLE</td>\n",
       "      <td>La Remise à Jorelle</td>\n",
       "      <td>A01761</td>\n",
       "      <td>C01843</td>\n",
       "      <td>T4</td>\n",
       "      <td>Tramway</td>\n",
       "      <td>0</td>\n",
       "      <td>...</td>\n",
       "      <td>0</td>\n",
       "      <td>0</td>\n",
       "      <td>0</td>\n",
       "      <td>0</td>\n",
       "      <td>0</td>\n",
       "      <td>SNCF</td>\n",
       "      <td>0</td>\n",
       "      <td>1</td>\n",
       "      <td>662452.6934</td>\n",
       "      <td>6.866020e+06</td>\n",
       "    </tr>\n",
       "  </tbody>\n",
       "</table>\n",
       "<p>5 rows × 28 columns</p>\n",
       "</div>"
      ],
      "text/plain": [
       "                      Geo Point  \\\n",
       "0  48.8463569889, 2.41947990037   \n",
       "1  48.8662858046, 2.32294341224   \n",
       "2  48.8828686476, 2.34413063372   \n",
       "3  48.9078125468, 2.45435282652   \n",
       "4  48.8930946286, 2.48791098763   \n",
       "\n",
       "                                           Geo Shape  id_ref_zdl  \\\n",
       "0  {\"type\": \"Point\", \"coordinates\": [2.4194799003...       47247   \n",
       "1  {\"type\": \"Point\", \"coordinates\": [2.3229434122...       45676   \n",
       "2  {\"type\": \"Point\", \"coordinates\": [2.3441306337...       42210   \n",
       "3  {\"type\": \"Point\", \"coordinates\": [2.4543528265...       47334   \n",
       "4  {\"type\": \"Point\", \"coordinates\": [2.4879109876...       44603   \n",
       "\n",
       "              nom_long                label                 idrefliga  \\\n",
       "0          SAINT-MANDE          Saint-Mandé                    A01534   \n",
       "1             CONCORDE             Concorde  A01534 / A01541 / A01545   \n",
       "2               ANVERS               Anvers                    A01535   \n",
       "3         JEAN ROSTAND         Jean Rostand                    A01191   \n",
       "4  LA REMISE A JORELLE  La Remise à Jorelle                    A01761   \n",
       "\n",
       "                  idrefligc        res_com    mode_  fer      ...       \\\n",
       "0                    C01371             M1    Metro    0      ...        \n",
       "1  C01371 / C01378 / C01382  M1 / M8 / M12    Metro    0      ...        \n",
       "2                    C01372             M2    Metro    0      ...        \n",
       "3                    C01389             T1  Tramway    0      ...        \n",
       "4                    C01843             T4  Tramway    0      ...        \n",
       "\n",
       "   terrer  termetro  tertram  ternavette  terval  exploitant principal idf  \\\n",
       "0       0         0        0           0       0        RATP         0   1   \n",
       "1       0         0        0           0       0        RATP         0   1   \n",
       "2       0         0        0           0       0        RATP         0   1   \n",
       "3       0         0        0           0       0        RATP         0   1   \n",
       "4       0         0        0           0       0        SNCF         0   1   \n",
       "\n",
       "             x             y  \n",
       "0  657397.0779  6.860858e+06  \n",
       "1  650331.6676  6.863130e+06  \n",
       "2  651901.2249  6.864961e+06  \n",
       "3  660003.4947  6.867673e+06  \n",
       "4  662452.6934  6.866020e+06  \n",
       "\n",
       "[5 rows x 28 columns]"
      ]
     },
     "execution_count": 66,
     "metadata": {},
     "output_type": "execute_result"
    }
   ],
   "source": [
    "# Explore dataframe\n",
    "\n",
    "geo_stops.head()"
   ]
  },
  {
   "cell_type": "code",
   "execution_count": 67,
   "metadata": {},
   "outputs": [
    {
     "name": "stdout",
     "output_type": "stream",
     "text": [
      "<class 'pandas.core.frame.DataFrame'>\n",
      "RangeIndex: 923 entries, 0 to 922\n",
      "Data columns (total 28 columns):\n",
      "Geo Point     923 non-null object\n",
      "Geo Shape     923 non-null object\n",
      "id_ref_zdl    923 non-null int64\n",
      "nom_long      923 non-null object\n",
      "label         923 non-null object\n",
      "idrefliga     890 non-null object\n",
      "idrefligc     847 non-null object\n",
      "res_com       923 non-null object\n",
      "mode_         923 non-null object\n",
      "fer           923 non-null int64\n",
      "train         923 non-null int64\n",
      "rer           923 non-null int64\n",
      "metro         923 non-null int64\n",
      "tramway       923 non-null int64\n",
      "navette       923 non-null int64\n",
      "val           923 non-null int64\n",
      "terfer        923 non-null object\n",
      "tertrain      923 non-null object\n",
      "terrer        923 non-null object\n",
      "termetro      923 non-null object\n",
      "tertram       923 non-null object\n",
      "ternavette    923 non-null object\n",
      "terval        923 non-null object\n",
      "exploitant    923 non-null object\n",
      "principal     923 non-null int64\n",
      "idf           923 non-null int64\n",
      "x             923 non-null float64\n",
      "y             923 non-null float64\n",
      "dtypes: float64(2), int64(10), object(16)\n",
      "memory usage: 202.0+ KB\n"
     ]
    }
   ],
   "source": [
    "geo_stops.info()"
   ]
  },
  {
   "cell_type": "code",
   "execution_count": 68,
   "metadata": {
    "scrolled": true
   },
   "outputs": [
    {
     "data": {
      "text/plain": [
       "923"
      ]
     },
     "execution_count": 68,
     "metadata": {},
     "output_type": "execute_result"
    }
   ],
   "source": [
    "geo_stops['id_ref_zdl'].nunique()"
   ]
  },
  {
   "cell_type": "markdown",
   "metadata": {},
   "source": [
    "This dataset contains the geo coordinates of all stations of the rail network in Ile de France, by ZDL. It contains 923 unique ZDLs (corresponding to the total number of rows). As we saw earlier, there are multiple ZDLs for one LDA.\n",
    "\n",
    "The datasets we are analyzing (metro_nb and metro_hp) only contain LDAs (301 unique values).\n",
    "\n",
    "In order to match the data from metro_nb and metro_hp and that of geo_stops, we need to filter geo_stops by metro stations and to make sure that we can match their LDAs."
   ]
  },
  {
   "cell_type": "markdown",
   "metadata": {},
   "source": [
    "## 3.C. Cleaning <a name=\"3C\"></a>"
   ]
  },
  {
   "cell_type": "markdown",
   "metadata": {},
   "source": [
    "### 3.C.a. Filter metro stations <a name=\"3Ca\"></a>"
   ]
  },
  {
   "cell_type": "code",
   "execution_count": 69,
   "metadata": {},
   "outputs": [
    {
     "data": {
      "text/plain": [
       "array(['Metro', 'Tramway', 'Train', 'Navette', 'RER', 'Metro / Tramway',\n",
       "       'Train / Tramway', 'Train / RER', 'RER / Tramway', 'RER / Metro',\n",
       "       'Train / Metro', 'RER / Navette', 'Train / RER / Tramway',\n",
       "       'Train / RER / Metro', 'Navette / Tramway',\n",
       "       'Train / RER / Metro / Tramway', 'RER / Metro / Tramway'],\n",
       "      dtype=object)"
      ]
     },
     "execution_count": 69,
     "metadata": {},
     "output_type": "execute_result"
    }
   ],
   "source": [
    "# Array of all the mode types\n",
    "\n",
    "geo_stops['mode_'].unique()"
   ]
  },
  {
   "cell_type": "code",
   "execution_count": 70,
   "metadata": {},
   "outputs": [
    {
     "data": {
      "text/plain": [
       "['Metro',\n",
       " 'Metro / Tramway',\n",
       " 'RER / Metro',\n",
       " 'Train / Metro',\n",
       " 'Train / RER / Metro',\n",
       " 'Train / RER / Metro / Tramway',\n",
       " 'RER / Metro / Tramway']"
      ]
     },
     "execution_count": 70,
     "metadata": {},
     "output_type": "execute_result"
    }
   ],
   "source": [
    "# List of mode types containing the word metro\n",
    "\n",
    "metro = geo_stops.loc[geo_stops['mode_'].str.contains('Metro'),'mode_'].unique().tolist()\n",
    "\n",
    "metro"
   ]
  },
  {
   "cell_type": "code",
   "execution_count": 71,
   "metadata": {},
   "outputs": [],
   "source": [
    "# geo_stops filtered by metro (mode_ contains the word 'metro')\n",
    "\n",
    "geo_metro = geo_stops.loc[geo_stops['mode_'].isin(metro)].copy()"
   ]
  },
  {
   "cell_type": "code",
   "execution_count": 72,
   "metadata": {},
   "outputs": [
    {
     "data": {
      "text/plain": [
       "302"
      ]
     },
     "execution_count": 72,
     "metadata": {},
     "output_type": "execute_result"
    }
   ],
   "source": [
    "# Number of ZDL IDs (rows) in geo_metro\n",
    "\n",
    "len(geo_metro['id_ref_zdl'])"
   ]
  },
  {
   "cell_type": "code",
   "execution_count": 73,
   "metadata": {},
   "outputs": [
    {
     "data": {
      "text/plain": [
       "806"
      ]
     },
     "execution_count": 73,
     "metadata": {},
     "output_type": "execute_result"
    }
   ],
   "source": [
    "# List of ZDL IDs for metro stations\n",
    "\n",
    "zdl_metro = geo_metro['id_ref_zdl'].unique().tolist()\n",
    "\n",
    "# Number of ZDEs (rows of ref_stops) matching zdl_metro\n",
    "\n",
    "len(ref_stops[ref_stops['ZDLr_ID_REF_A'].isin(zdl_metro)])"
   ]
  },
  {
   "cell_type": "markdown",
   "metadata": {},
   "source": [
    "This is good news, when we filtered geo_stops, we obtained a dataframe that has 302 rows, which is very close to the unique number of ID_REFA_LDA in metro_nb and metro_hp (301). \n",
    "\n",
    "Let's find the extra value in geo_metro, and see if the names ('nom_long') in geo_metro match those of metro_nb ('STOP_NAME')"
   ]
  },
  {
   "cell_type": "markdown",
   "metadata": {},
   "source": [
    "### 3.C.b Match station names in geo_metro with names in metro_nb and metro_hp <a name=\"3Cb\"></a>"
   ]
  },
  {
   "cell_type": "code",
   "execution_count": 74,
   "metadata": {},
   "outputs": [],
   "source": [
    "metro_nb = pd.read_csv('../../datasets/metro_nb.csv')"
   ]
  },
  {
   "cell_type": "code",
   "execution_count": 75,
   "metadata": {},
   "outputs": [],
   "source": [
    "sorted_metro_nb_names = np.sort(metro_nb['STOP_NAME'].unique())"
   ]
  },
  {
   "cell_type": "code",
   "execution_count": 76,
   "metadata": {},
   "outputs": [],
   "source": [
    "sorted_geo_names = np.sort(geo_metro['nom_long'].unique())"
   ]
  },
  {
   "cell_type": "code",
   "execution_count": 77,
   "metadata": {},
   "outputs": [
    {
     "name": "stdout",
     "output_type": "stream",
     "text": [
      "CLUNY-LA-SORBONNE\n",
      "CRETEIL-POINTE DU LAC\n",
      "FRONT POPULAIRE\n",
      "LES COURTILLES-ASNIERES-GENNEVILLIERS\n",
      "MAIRIE DE MONTROUGE\n",
      "MALAKOFF-RUE ÉTIENNE DOLET\n",
      "SAINT-MANDE\n"
     ]
    }
   ],
   "source": [
    "# Names in geo_metro that are not in metro_nb (& metro_hp)\n",
    "\n",
    "for name in sorted_geo_names:\n",
    "    if name in sorted_metro_nb_names:\n",
    "        continue\n",
    "    else:\n",
    "        print(name)"
   ]
  },
  {
   "cell_type": "code",
   "execution_count": 78,
   "metadata": {},
   "outputs": [
    {
     "name": "stdout",
     "output_type": "stream",
     "text": [
      "CRETEIL-P. LAC\n",
      "FR. POPULAIRE\n",
      "LES COURTILLES\n",
      "M. MONTROUGE\n",
      "MALAKOFF-RUE ETIENNE DOLET\n",
      "SAINT-MANDE-TOURELLE\n"
     ]
    }
   ],
   "source": [
    "# Names in metro_nb (& metro_hp) that are not in geo_metro\n",
    "\n",
    "for name in sorted_metro_nb_names:\n",
    "    if name in sorted_geo_names:\n",
    "        continue\n",
    "    else:\n",
    "        print(name)"
   ]
  },
  {
   "cell_type": "markdown",
   "metadata": {},
   "source": [
    "We see that the extra row in geo_metro corresponds to CLUNY-LA-SORBONNE. After checking the original data of metro_nb and metro_hp, it looks like CLUNY-LA-SORBONNE is missing, no record of the number of checkins for that metro station was provided. We will have to do without it.\n",
    "\n",
    "Some other names do not match, but we can replace them so that they match."
   ]
  },
  {
   "cell_type": "code",
   "execution_count": 79,
   "metadata": {},
   "outputs": [],
   "source": [
    "# Dictionary of names to update:\n",
    "\n",
    "names = {'CRETEIL-POINTE DU LAC':'CRETEIL-P. LAC',\n",
    "         'FRONT POPULAIRE':'FR. POPULAIRE',\n",
    "         'LES COURTILLES-ASNIERES-GENNEVILLIERS':'LES COURTILLES',\n",
    "         'MAIRIE DE MONTROUGE':'M. MONTROUGE',\n",
    "         'MALAKOFF-RUE ÉTIENNE DOLET':'MALAKOFF-RUE ETIENNE DOLET',\n",
    "         'SAINT-MANDE':'SAINT-MANDE-TOURELLE'}"
   ]
  },
  {
   "cell_type": "code",
   "execution_count": 80,
   "metadata": {},
   "outputs": [],
   "source": [
    "# Replace names in geo_metro\n",
    "\n",
    "geo_metro['nom_long'] = geo_metro['nom_long'].replace(names)"
   ]
  },
  {
   "cell_type": "code",
   "execution_count": 81,
   "metadata": {},
   "outputs": [
    {
     "data": {
      "text/plain": [
       "Index(['Geo Point', 'Geo Shape', 'id_ref_zdl', 'nom_long', 'label',\n",
       "       'idrefliga', 'idrefligc', 'res_com', 'mode_', 'fer', 'train', 'rer',\n",
       "       'metro', 'tramway', 'navette', 'val', 'terfer', 'tertrain', 'terrer',\n",
       "       'termetro', 'tertram', 'ternavette', 'terval', 'exploitant',\n",
       "       'principal', 'idf', 'x', 'y'],\n",
       "      dtype='object')"
      ]
     },
     "execution_count": 81,
     "metadata": {},
     "output_type": "execute_result"
    }
   ],
   "source": [
    "geo_metro.columns"
   ]
  },
  {
   "cell_type": "markdown",
   "metadata": {},
   "source": [
    "### 3.C.c. Rename & filter columns <a name=\"3Cc\"></a>"
   ]
  },
  {
   "cell_type": "code",
   "execution_count": 82,
   "metadata": {},
   "outputs": [],
   "source": [
    "# Dictionary with old names (keys) and new names (values)\n",
    "col_names = {'Geo Point':'LAT_LONG', \n",
    "             'id_ref_zdl':'ID_ZDL', \n",
    "             'nom_long':'STOP_NAME', \n",
    "             'res_com':'LINES'}\n",
    "\n",
    "# Rename columns\n",
    "geo_metro.rename(columns=col_names, inplace=True)\n",
    "\n",
    "# List of columns to drop\n",
    "col_todrop = ['Geo Shape', 'label', 'idrefliga', 'idrefligc', 'mode_', 'fer', 'train', 'rer',\n",
    "              'metro', 'tramway', 'navette', 'val', 'terfer', 'tertrain', 'terrer',\n",
    "              'termetro', 'tertram', 'ternavette', 'terval', 'exploitant','principal', 'idf', 'x', 'y']\n",
    "\n",
    "# Drop columns\n",
    "geo_metro.drop(columns=col_todrop, inplace=True)"
   ]
  },
  {
   "cell_type": "code",
   "execution_count": 83,
   "metadata": {},
   "outputs": [
    {
     "data": {
      "text/html": [
       "<div>\n",
       "<style scoped>\n",
       "    .dataframe tbody tr th:only-of-type {\n",
       "        vertical-align: middle;\n",
       "    }\n",
       "\n",
       "    .dataframe tbody tr th {\n",
       "        vertical-align: top;\n",
       "    }\n",
       "\n",
       "    .dataframe thead th {\n",
       "        text-align: right;\n",
       "    }\n",
       "</style>\n",
       "<table border=\"1\" class=\"dataframe\">\n",
       "  <thead>\n",
       "    <tr style=\"text-align: right;\">\n",
       "      <th></th>\n",
       "      <th>LAT_LONG</th>\n",
       "      <th>ID_ZDL</th>\n",
       "      <th>STOP_NAME</th>\n",
       "      <th>LINES</th>\n",
       "    </tr>\n",
       "  </thead>\n",
       "  <tbody>\n",
       "    <tr>\n",
       "      <th>0</th>\n",
       "      <td>48.8463569889, 2.41947990037</td>\n",
       "      <td>47247</td>\n",
       "      <td>SAINT-MANDE-TOURELLE</td>\n",
       "      <td>M1</td>\n",
       "    </tr>\n",
       "    <tr>\n",
       "      <th>1</th>\n",
       "      <td>48.8662858046, 2.32294341224</td>\n",
       "      <td>45676</td>\n",
       "      <td>CONCORDE</td>\n",
       "      <td>M1 / M8 / M12</td>\n",
       "    </tr>\n",
       "    <tr>\n",
       "      <th>2</th>\n",
       "      <td>48.8828686476, 2.34413063372</td>\n",
       "      <td>42210</td>\n",
       "      <td>ANVERS</td>\n",
       "      <td>M2</td>\n",
       "    </tr>\n",
       "    <tr>\n",
       "      <th>11</th>\n",
       "      <td>48.8822269008, 2.32127492677</td>\n",
       "      <td>44662</td>\n",
       "      <td>ROME</td>\n",
       "      <td>M2</td>\n",
       "    </tr>\n",
       "    <tr>\n",
       "      <th>12</th>\n",
       "      <td>48.8804494561, 2.30945116799</td>\n",
       "      <td>44146</td>\n",
       "      <td>MONCEAU</td>\n",
       "      <td>M2</td>\n",
       "    </tr>\n",
       "  </tbody>\n",
       "</table>\n",
       "</div>"
      ],
      "text/plain": [
       "                        LAT_LONG  ID_ZDL             STOP_NAME          LINES\n",
       "0   48.8463569889, 2.41947990037   47247  SAINT-MANDE-TOURELLE             M1\n",
       "1   48.8662858046, 2.32294341224   45676              CONCORDE  M1 / M8 / M12\n",
       "2   48.8828686476, 2.34413063372   42210                ANVERS             M2\n",
       "11  48.8822269008, 2.32127492677   44662                  ROME             M2\n",
       "12  48.8804494561, 2.30945116799   44146               MONCEAU             M2"
      ]
     },
     "execution_count": 83,
     "metadata": {},
     "output_type": "execute_result"
    }
   ],
   "source": [
    "geo_metro.head()"
   ]
  },
  {
   "cell_type": "code",
   "execution_count": 84,
   "metadata": {},
   "outputs": [
    {
     "name": "stdout",
     "output_type": "stream",
     "text": [
      "<class 'pandas.core.frame.DataFrame'>\n",
      "Int64Index: 302 entries, 0 to 891\n",
      "Data columns (total 4 columns):\n",
      "LAT_LONG     302 non-null object\n",
      "ID_ZDL       302 non-null int64\n",
      "STOP_NAME    302 non-null object\n",
      "LINES        302 non-null object\n",
      "dtypes: int64(1), object(3)\n",
      "memory usage: 11.8+ KB\n"
     ]
    }
   ],
   "source": [
    "geo_metro.info()"
   ]
  },
  {
   "cell_type": "markdown",
   "metadata": {},
   "source": [
    "###  3.C.d. Create LAT (latitude) and LONG (longitude) columns <a name=\"3Cd\"></a>"
   ]
  },
  {
   "cell_type": "code",
   "execution_count": 85,
   "metadata": {},
   "outputs": [],
   "source": [
    "geo_metro[\"LAT\"] = geo_metro[\"LAT_LONG\"].str.split(\",\").str.get(0)\n",
    "geo_metro[\"LONG\"] = geo_metro[\"LAT_LONG\"].str.split(\",\").str.get(1)"
   ]
  },
  {
   "cell_type": "code",
   "execution_count": 86,
   "metadata": {},
   "outputs": [
    {
     "data": {
      "text/html": [
       "<div>\n",
       "<style scoped>\n",
       "    .dataframe tbody tr th:only-of-type {\n",
       "        vertical-align: middle;\n",
       "    }\n",
       "\n",
       "    .dataframe tbody tr th {\n",
       "        vertical-align: top;\n",
       "    }\n",
       "\n",
       "    .dataframe thead th {\n",
       "        text-align: right;\n",
       "    }\n",
       "</style>\n",
       "<table border=\"1\" class=\"dataframe\">\n",
       "  <thead>\n",
       "    <tr style=\"text-align: right;\">\n",
       "      <th></th>\n",
       "      <th>LAT_LONG</th>\n",
       "      <th>ID_ZDL</th>\n",
       "      <th>STOP_NAME</th>\n",
       "      <th>LINES</th>\n",
       "      <th>LAT</th>\n",
       "      <th>LONG</th>\n",
       "    </tr>\n",
       "  </thead>\n",
       "  <tbody>\n",
       "    <tr>\n",
       "      <th>0</th>\n",
       "      <td>48.8463569889, 2.41947990037</td>\n",
       "      <td>47247</td>\n",
       "      <td>SAINT-MANDE-TOURELLE</td>\n",
       "      <td>M1</td>\n",
       "      <td>48.8463569889</td>\n",
       "      <td>2.41947990037</td>\n",
       "    </tr>\n",
       "    <tr>\n",
       "      <th>1</th>\n",
       "      <td>48.8662858046, 2.32294341224</td>\n",
       "      <td>45676</td>\n",
       "      <td>CONCORDE</td>\n",
       "      <td>M1 / M8 / M12</td>\n",
       "      <td>48.8662858046</td>\n",
       "      <td>2.32294341224</td>\n",
       "    </tr>\n",
       "    <tr>\n",
       "      <th>2</th>\n",
       "      <td>48.8828686476, 2.34413063372</td>\n",
       "      <td>42210</td>\n",
       "      <td>ANVERS</td>\n",
       "      <td>M2</td>\n",
       "      <td>48.8828686476</td>\n",
       "      <td>2.34413063372</td>\n",
       "    </tr>\n",
       "    <tr>\n",
       "      <th>11</th>\n",
       "      <td>48.8822269008, 2.32127492677</td>\n",
       "      <td>44662</td>\n",
       "      <td>ROME</td>\n",
       "      <td>M2</td>\n",
       "      <td>48.8822269008</td>\n",
       "      <td>2.32127492677</td>\n",
       "    </tr>\n",
       "    <tr>\n",
       "      <th>12</th>\n",
       "      <td>48.8804494561, 2.30945116799</td>\n",
       "      <td>44146</td>\n",
       "      <td>MONCEAU</td>\n",
       "      <td>M2</td>\n",
       "      <td>48.8804494561</td>\n",
       "      <td>2.30945116799</td>\n",
       "    </tr>\n",
       "  </tbody>\n",
       "</table>\n",
       "</div>"
      ],
      "text/plain": [
       "                        LAT_LONG  ID_ZDL             STOP_NAME          LINES  \\\n",
       "0   48.8463569889, 2.41947990037   47247  SAINT-MANDE-TOURELLE             M1   \n",
       "1   48.8662858046, 2.32294341224   45676              CONCORDE  M1 / M8 / M12   \n",
       "2   48.8828686476, 2.34413063372   42210                ANVERS             M2   \n",
       "11  48.8822269008, 2.32127492677   44662                  ROME             M2   \n",
       "12  48.8804494561, 2.30945116799   44146               MONCEAU             M2   \n",
       "\n",
       "              LAT            LONG  \n",
       "0   48.8463569889   2.41947990037  \n",
       "1   48.8662858046   2.32294341224  \n",
       "2   48.8828686476   2.34413063372  \n",
       "11  48.8822269008   2.32127492677  \n",
       "12  48.8804494561   2.30945116799  "
      ]
     },
     "execution_count": 86,
     "metadata": {},
     "output_type": "execute_result"
    }
   ],
   "source": [
    "geo_metro.head()"
   ]
  },
  {
   "cell_type": "markdown",
   "metadata": {},
   "source": [
    "## 3.D. Export to .csv <a name=\"3D\"></a>"
   ]
  },
  {
   "cell_type": "code",
   "execution_count": 87,
   "metadata": {},
   "outputs": [],
   "source": [
    "geo_metro.to_csv('../../datasets/geo_metro.csv', index=None)"
   ]
  },
  {
   "cell_type": "markdown",
   "metadata": {},
   "source": [
    "# 4. Map of Paris metro network <a name=\"4\"></a>"
   ]
  },
  {
   "cell_type": "code",
   "execution_count": 88,
   "metadata": {},
   "outputs": [],
   "source": [
    "from ipywidgets import HTML\n",
    "from ipyleaflet import Map, basemaps, basemap_to_tiles, CircleMarker, Icon, Popup, Heatmap"
   ]
  },
  {
   "cell_type": "code",
   "execution_count": 89,
   "metadata": {},
   "outputs": [
    {
     "data": {
      "application/vnd.jupyter.widget-view+json": {
       "model_id": "d10a2ac83e3d4be7a4effb59e745e5b5",
       "version_major": 2,
       "version_minor": 0
      },
      "text/html": [
       "<p>Failed to display Jupyter Widget of type <code>Map</code>.</p>\n",
       "<p>\n",
       "  If you're reading this message in the Jupyter Notebook or JupyterLab Notebook, it may mean\n",
       "  that the widgets JavaScript is still loading. If this message persists, it\n",
       "  likely means that the widgets JavaScript library is either not installed or\n",
       "  not enabled. See the <a href=\"https://ipywidgets.readthedocs.io/en/stable/user_install.html\">Jupyter\n",
       "  Widgets Documentation</a> for setup instructions.\n",
       "</p>\n",
       "<p>\n",
       "  If you're reading this message in another frontend (for example, a static\n",
       "  rendering on GitHub or <a href=\"https://nbviewer.jupyter.org/\">NBViewer</a>),\n",
       "  it may mean that your frontend doesn't currently support widgets.\n",
       "</p>\n"
      ],
      "text/plain": [
       "Map(basemap={'url': 'https://{s}.tile.openstreetmap.org/{z}/{x}/{y}.png', 'max_zoom': 19, 'attribution': 'Map data (c) <a href=\"https://openstreetmap.org\">OpenStreetMap</a> contributors'}, center=[48.855115, 2.352448], layers=(TileLayer(base=True, max_zoom=19, min_zoom=1, options=['attribution', 'detect_retina', 'max_zoom', 'min_zoom', 'tile_size']), CircleMarker(color='#000951', fill_color='#000951', fill_opacity=0.7, location=['48.8463569889', ' 2.41947990037'], opacity=0.7, options=['class_name', 'color', 'dash_array', 'fill', 'fill_color', 'fill_opacity', 'line_cap', 'line_join', 'opacity', 'pointer_events', 'radius', 'stroke', 'weight'], popup=HTML(value='SAINT-MANDE-TOURELLE'), radius=6, stroke=False), CircleMarker(color='#000951', fill_color='#000951', fill_opacity=0.7, location=['48.8662858046', ' 2.32294341224'], opacity=0.7, options=['class_name', 'color', 'dash_array', 'fill', 'fill_color', 'fill_opacity', 'line_cap', 'line_join', 'opacity', 'pointer_events', 'radius', 'stroke', 'weight'], popup=HTML(value='CONCORDE'), radius=6, stroke=False), CircleMarker(color='#000951', fill_color='#000951', fill_opacity=0.7, location=['48.8828686476', ' 2.34413063372'], opacity=0.7, options=['class_name', 'color', 'dash_array', 'fill', 'fill_color', 'fill_opacity', 'line_cap', 'line_join', 'opacity', 'pointer_events', 'radius', 'stroke', 'weight'], popup=HTML(value='ANVERS'), radius=6, stroke=False), CircleMarker(color='#000951', fill_color='#000951', fill_opacity=0.7, location=['48.8822269008', ' 2.32127492677'], opacity=0.7, options=['class_name', 'color', 'dash_array', 'fill', 'fill_color', 'fill_opacity', 'line_cap', 'line_join', 'opacity', 'pointer_events', 'radius', 'stroke', 'weight'], popup=HTML(value='ROME'), radius=6, stroke=False), CircleMarker(color='#000951', fill_color='#000951', fill_opacity=0.7, location=['48.8804494561', ' 2.30945116799'], opacity=0.7, options=['class_name', 'color', 'dash_array', 'fill', 'fill_color', 'fill_opacity', 'line_cap', 'line_join', 'opacity', 'pointer_events', 'radius', 'stroke', 'weight'], popup=HTML(value='MONCEAU'), radius=6, stroke=False), CircleMarker(color='#000951', fill_color='#000951', fill_opacity=0.7, location=['48.862949833', ' 2.387434951'], opacity=0.7, options=['class_name', 'color', 'dash_array', 'fill', 'fill_color', 'fill_opacity', 'line_cap', 'line_join', 'opacity', 'pointer_events', 'radius', 'stroke', 'weight'], popup=HTML(value='PERE LACHAISE'), radius=6, stroke=False), CircleMarker(color='#000951', fill_color='#000951', fill_opacity=0.7, location=['48.8738067339', ' 2.32699985888'], opacity=0.7, options=['class_name', 'color', 'dash_array', 'fill', 'fill_color', 'fill_opacity', 'line_cap', 'line_join', 'opacity', 'pointer_events', 'radius', 'stroke', 'weight'], popup=HTML(value='HAVRE-CAUMARTIN'), radius=6, stroke=False), CircleMarker(color='#000951', fill_color='#000951', fill_opacity=0.7, location=['48.8828919175', ' 2.30905226455'], opacity=0.7, options=['class_name', 'color', 'dash_array', 'fill', 'fill_color', 'fill_opacity', 'line_cap', 'line_join', 'opacity', 'pointer_events', 'radius', 'stroke', 'weight'], popup=HTML(value='MALESHERBES'), radius=6, stroke=False), CircleMarker(color='#000951', fill_color='#000951', fill_opacity=0.7, location=['48.8887060198', ' 2.28808363305'], opacity=0.7, options=['class_name', 'color', 'dash_array', 'fill', 'fill_color', 'fill_opacity', 'line_cap', 'line_join', 'opacity', 'pointer_events', 'radius', 'stroke', 'weight'], popup=HTML(value='LOUISE MICHEL'), radius=6, stroke=False), CircleMarker(color='#000951', fill_color='#000951', fill_opacity=0.7, location=['48.8837344657', ' 2.34963614827'], opacity=0.7, options=['class_name', 'color', 'dash_array', 'fill', 'fill_color', 'fill_opacity', 'line_cap', 'line_join', 'opacity', 'pointer_events', 'radius', 'stroke', 'weight'], popup=HTML(value='BARBES-ROCHECHOUART'), radius=6, stroke=False), CircleMarker(color='#000951', fill_color='#000951', fill_opacity=0.7, location=['48.8623162796', ' 2.34567382821'], opacity=0.7, options=['class_name', 'color', 'dash_array', 'fill', 'fill_color', 'fill_opacity', 'line_cap', 'line_join', 'opacity', 'pointer_events', 'radius', 'stroke', 'weight'], popup=HTML(value='LES HALLES'), radius=6, stroke=False), CircleMarker(color='#000951', fill_color='#000951', fill_opacity=0.7, location=['48.853718934', ' 2.33377613822'], opacity=0.7, options=['class_name', 'color', 'dash_array', 'fill', 'fill_color', 'fill_opacity', 'line_cap', 'line_join', 'opacity', 'pointer_events', 'radius', 'stroke', 'weight'], popup=HTML(value='SAINT-GERMAIN-DES-PRES'), radius=6, stroke=False), CircleMarker(color='#000951', fill_color='#000951', fill_opacity=0.7, location=['48.8422184136', ' 2.32900892624'], opacity=0.7, options=['class_name', 'color', 'dash_array', 'fill', 'fill_color', 'fill_opacity', 'line_cap', 'line_join', 'opacity', 'pointer_events', 'radius', 'stroke', 'weight'], popup=HTML(value='VAVIN'), radius=6, stroke=False), CircleMarker(color='#000951', fill_color='#000951', fill_opacity=0.7, location=['48.8311126604', ' 2.32970501262'], opacity=0.7, options=['class_name', 'color', 'dash_array', 'fill', 'fill_color', 'fill_opacity', 'line_cap', 'line_join', 'opacity', 'pointer_events', 'radius', 'stroke', 'weight'], popup=HTML(value='MOUTON-DUVERNET'), radius=6, stroke=False), CircleMarker(color='#000951', fill_color='#000951', fill_opacity=0.7, location=['48.8554850495', ' 2.27010913895'], opacity=0.7, options=['class_name', 'color', 'dash_array', 'fill', 'fill_color', 'fill_opacity', 'line_cap', 'line_join', 'opacity', 'pointer_events', 'radius', 'stroke', 'weight'], popup=HTML(value='RANELAGH'), radius=6, stroke=False), CircleMarker(color='#000951', fill_color='#000951', fill_opacity=0.7, location=['48.8729681408', ' 2.33325709179'], opacity=0.7, options=['class_name', 'color', 'dash_array', 'fill', 'fill_color', 'fill_opacity', 'line_cap', 'line_join', 'opacity', 'pointer_events', 'radius', 'stroke', 'weight'], popup=HTML(value=\"CHAUSSEE D'ANTIN (LA FAYETTE)\"), radius=6, stroke=False), CircleMarker(color='#000951', fill_color='#000951', fill_opacity=0.7, location=['48.8610192599', ' 2.37473343128'], opacity=0.7, options=['class_name', 'color', 'dash_array', 'fill', 'fill_color', 'fill_opacity', 'line_cap', 'line_join', 'opacity', 'pointer_events', 'radius', 'stroke', 'weight'], popup=HTML(value='SAINT-AMBROISE'), radius=6, stroke=False), CircleMarker(color='#000951', fill_color='#000951', fill_opacity=0.7, location=['48.8527251193', ' 2.40608916324'], opacity=0.7, options=['class_name', 'color', 'dash_array', 'fill', 'fill_color', 'fill_opacity', 'line_cap', 'line_join', 'opacity', 'pointer_events', 'radius', 'stroke', 'weight'], popup=HTML(value='MARAICHERS'), radius=6, stroke=False), CircleMarker(color='#000951', fill_color='#000951', fill_opacity=0.7, location=['48.8420053473', ' 2.23888732852'], opacity=0.7, options=['class_name', 'color', 'dash_array', 'fill', 'fill_color', 'fill_opacity', 'line_cap', 'line_join', 'opacity', 'pointer_events', 'radius', 'stroke', 'weight'], popup=HTML(value='BOULOGNE-JEAN JAURES'), radius=6, stroke=False), CircleMarker(color='#000951', fill_color='#000951', fill_opacity=0.7, location=['48.8510502823', ' 2.34427334542'], opacity=0.7, options=['class_name', 'color', 'dash_array', 'fill', 'fill_color', 'fill_opacity', 'line_cap', 'line_join', 'opacity', 'pointer_events', 'radius', 'stroke', 'weight'], popup=HTML(value='CLUNY-LA-SORBONNE'), radius=6, stroke=False), CircleMarker(color='#000951', fill_color='#000951', fill_opacity=0.7, location=['48.8754744576', ' 2.39886759934'], opacity=0.7, options=['class_name', 'color', 'dash_array', 'fill', 'fill_color', 'fill_opacity', 'line_cap', 'line_join', 'opacity', 'pointer_events', 'radius', 'stroke', 'weight'], popup=HTML(value='TELEGRAPHE'), radius=6, stroke=False), CircleMarker(color='#000951', fill_color='#000951', fill_opacity=0.7, location=['48.8768063892', ' 2.39305609332'], opacity=0.7, options=['class_name', 'color', 'dash_array', 'fill', 'fill_color', 'fill_opacity', 'line_cap', 'line_join', 'opacity', 'pointer_events', 'radius', 'stroke', 'weight'], popup=HTML(value='PLACE DES FETES'), radius=6, stroke=False), CircleMarker(color='#000951', fill_color='#000951', fill_opacity=0.7, location=['48.875111816', ' 2.38941502932'], opacity=0.7, options=['class_name', 'color', 'dash_array', 'fill', 'fill_color', 'fill_opacity', 'line_cap', 'line_join', 'opacity', 'pointer_events', 'radius', 'stroke', 'weight'], popup=HTML(value='JOURDAIN'), radius=6, stroke=False), CircleMarker(color='#000951', fill_color='#000951', fill_opacity=0.7, location=['48.8241050307', ' 2.27304152378'], opacity=0.7, options=['class_name', 'color', 'dash_array', 'fill', 'fill_color', 'fill_opacity', 'line_cap', 'line_join', 'opacity', 'pointer_events', 'radius', 'stroke', 'weight'], popup=HTML(value=\"MAIRIE D'ISSY\"), radius=6, stroke=False), CircleMarker(color='#000951', fill_color='#000951', fill_opacity=0.7, location=['48.8763179623', ' 2.3325430273'], opacity=0.7, options=['class_name', 'color', 'dash_array', 'fill', 'fill_color', 'fill_opacity', 'line_cap', 'line_join', 'opacity', 'pointer_events', 'radius', 'stroke', 'weight'], popup=HTML(value=\"TRINITE-D'ESTIENNE D'ORVES\"), radius=6, stroke=False), CircleMarker(color='#000951', fill_color='#000951', fill_opacity=0.7, location=['48.8824426909', ' 2.3370851365'], opacity=0.7, options=['class_name', 'color', 'dash_array', 'fill', 'fill_color', 'fill_opacity', 'line_cap', 'line_join', 'opacity', 'pointer_events', 'radius', 'stroke', 'weight'], popup=HTML(value='PIGALLE'), radius=6, stroke=False), CircleMarker(color='#000951', fill_color='#000951', fill_opacity=0.7, location=['48.884594208', ' 2.33794977706'], opacity=0.7, options=['class_name', 'color', 'dash_array', 'fill', 'fill_color', 'fill_opacity', 'line_cap', 'line_join', 'opacity', 'pointer_events', 'radius', 'stroke', 'weight'], popup=HTML(value='ABBESSES'), radius=6, stroke=False), CircleMarker(color='#000951', fill_color='#000951', fill_opacity=0.7, location=['48.8924395905', ' 2.34465700413'], opacity=0.7, options=['class_name', 'color', 'dash_array', 'fill', 'fill_color', 'fill_opacity', 'line_cap', 'line_join', 'opacity', 'pointer_events', 'radius', 'stroke', 'weight'], popup=HTML(value='JULES JOFFRIN'), radius=6, stroke=False), CircleMarker(color='#000951', fill_color='#000951', fill_opacity=0.7, location=['48.8905871866', ' 2.32017475579'], opacity=0.7, options=['class_name', 'color', 'dash_array', 'fill', 'fill_color', 'fill_opacity', 'line_cap', 'line_join', 'opacity', 'pointer_events', 'radius', 'stroke', 'weight'], popup=HTML(value='BROCHANT'), radius=6, stroke=False), CircleMarker(color='#000951', fill_color='#000951', fill_opacity=0.7, location=['48.8468548549', ' 2.31663467111'], opacity=0.7, options=['class_name', 'color', 'dash_array', 'fill', 'fill_color', 'fill_opacity', 'line_cap', 'line_join', 'opacity', 'pointer_events', 'radius', 'stroke', 'weight'], popup=HTML(value='DUROC'), radius=6, stroke=False), CircleMarker(color='#000951', fill_color='#000951', fill_opacity=0.7, location=['48.8568713792', ' 2.31505663732'], opacity=0.7, options=['class_name', 'color', 'dash_array', 'fill', 'fill_color', 'fill_opacity', 'line_cap', 'line_join', 'opacity', 'pointer_events', 'radius', 'stroke', 'weight'], popup=HTML(value='VARENNE'), radius=6, stroke=False), CircleMarker(color='#000951', fill_color='#000951', fill_opacity=0.7, location=['48.8834300138', ' 2.32722833572'], opacity=0.7, options=['class_name', 'color', 'dash_array', 'fill', 'fill_color', 'fill_opacity', 'line_cap', 'line_join', 'opacity', 'pointer_events', 'radius', 'stroke', 'weight'], popup=HTML(value='PLACE DE CLICHY'), radius=6, stroke=False), CircleMarker(color='#000951', fill_color='#000951', fill_opacity=0.7, location=['48.8871839469', ' 2.32577967481'], opacity=0.7, options=['class_name', 'color', 'dash_array', 'fill', 'fill_color', 'fill_opacity', 'line_cap', 'line_join', 'opacity', 'pointer_events', 'radius', 'stroke', 'weight'], popup=HTML(value='LA FOURCHE'), radius=6, stroke=False), CircleMarker(color='#000951', fill_color='#000951', fill_opacity=0.7, location=['48.8721014421', ' 2.40451494238'], opacity=0.7, options=['class_name', 'color', 'dash_array', 'fill', 'fill_color', 'fill_opacity', 'line_cap', 'line_join', 'opacity', 'pointer_events', 'radius', 'stroke', 'weight'], popup=HTML(value='SAINT-FARGEAU'), radius=6, stroke=False), CircleMarker(color='#000951', fill_color='#000951', fill_opacity=0.7, location=['48.878514114', ' 2.38161451329'], opacity=0.7, options=['class_name', 'color', 'dash_array', 'fill', 'fill_color', 'fill_opacity', 'line_cap', 'line_join', 'opacity', 'pointer_events', 'radius', 'stroke', 'weight'], popup=HTML(value='BUTTES-CHAUMONT'), radius=6, stroke=False), CircleMarker(color='#000951', fill_color='#000951', fill_opacity=0.7, location=['48.8349477223', ' 2.36812632906'], opacity=0.7, options=['class_name', 'color', 'dash_array', 'fill', 'fill_color', 'fill_opacity', 'line_cap', 'line_join', 'opacity', 'pointer_events', 'radius', 'stroke', 'weight'], popup=HTML(value='CHEVALERET'), radius=6, stroke=False), CircleMarker(color='#000951', fill_color='#000951', fill_opacity=0.7, location=['48.8297905137', ' 2.35041487065'], opacity=0.7, options=['class_name', 'color', 'dash_array', 'fill', 'fill_color', 'fill_opacity', 'line_cap', 'line_join', 'opacity', 'pointer_events', 'radius', 'stroke', 'weight'], popup=HTML(value='CORVISART'), radius=6, stroke=False), CircleMarker(color='#000951', fill_color='#000951', fill_opacity=0.7, location=['48.8758906819', ' 2.34412603046'], opacity=0.7, options=['class_name', 'color', 'dash_array', 'fill', 'fill_color', 'fill_opacity', 'line_cap', 'line_join', 'opacity', 'pointer_events', 'radius', 'stroke', 'weight'], popup=HTML(value='CADET'), radius=6, stroke=False), CircleMarker(color='#000951', fill_color='#000951', fill_opacity=0.7, location=['48.8748743434', ' 2.34019988439'], opacity=0.7, options=['class_name', 'color', 'dash_array', 'fill', 'fill_color', 'fill_opacity', 'line_cap', 'line_join', 'opacity', 'pointer_events', 'radius', 'stroke', 'weight'], popup=HTML(value='LE PELETIER'), radius=6, stroke=False), CircleMarker(color='#000951', fill_color='#000951', fill_opacity=0.7, location=['48.8585538273', ' 2.34223275799'], opacity=0.7, options=['class_name', 'color', 'dash_array', 'fill', 'fill_color', 'fill_opacity', 'line_cap', 'line_join', 'opacity', 'pointer_events', 'radius', 'stroke', 'weight'], popup=HTML(value='PONT-NEUF (LA MONNAIE)'), radius=6, stroke=False), CircleMarker(color='#000951', fill_color='#000951', fill_opacity=0.7, location=['48.8535754734', ' 2.35716256888'], opacity=0.7, options=['class_name', 'color', 'dash_array', 'fill', 'fill_color', 'fill_opacity', 'line_cap', 'line_join', 'opacity', 'pointer_events', 'radius', 'stroke', 'weight'], popup=HTML(value='PONT-MARIE (CITE DES ARTS)'), radius=6, stroke=False), CircleMarker(color='#000951', fill_color='#000951', fill_opacity=0.7, location=['48.8428668307', ' 2.35222472818'], opacity=0.7, options=['class_name', 'color', 'dash_array', 'fill', 'fill_color', 'fill_opacity', 'line_cap', 'line_join', 'opacity', 'pointer_events', 'radius', 'stroke', 'weight'], popup=HTML(value='PLACE MONGE (JARDIN DES PLANTES)'), radius=6, stroke=False), CircleMarker(color='#000951', fill_color='#000951', fill_opacity=0.7, location=['48.8264260109', ' 2.35724565076'], opacity=0.7, options=['class_name', 'color', 'dash_array', 'fill', 'fill_color', 'fill_opacity', 'line_cap', 'line_join', 'opacity', 'pointer_events', 'radius', 'stroke', 'weight'], popup=HTML(value='TOLBIAC'), radius=6, stroke=False), CircleMarker(color='#000951', fill_color='#000951', fill_opacity=0.7, location=['48.8700997328', ' 2.32516410954'], opacity=0.7, options=['class_name', 'color', 'dash_array', 'fill', 'fill_color', 'fill_opacity', 'line_cap', 'line_join', 'opacity', 'pointer_events', 'radius', 'stroke', 'weight'], popup=HTML(value='MADELEINE'), radius=6, stroke=False), CircleMarker(color='#000951', fill_color='#000951', fill_opacity=0.7, location=['48.8706776818', ' 2.33235463926'], opacity=0.7, options=['class_name', 'color', 'dash_array', 'fill', 'fill_color', 'fill_opacity', 'line_cap', 'line_join', 'opacity', 'pointer_events', 'radius', 'stroke', 'weight'], popup=HTML(value='OPERA'), radius=6, stroke=False), CircleMarker(color='#000951', fill_color='#000951', fill_opacity=0.7, location=['48.8444086721', ' 2.39007511282'], opacity=0.7, options=['class_name', 'color', 'dash_array', 'fill', 'fill_color', 'fill_opacity', 'line_cap', 'line_join', 'opacity', 'pointer_events', 'radius', 'stroke', 'weight'], popup=HTML(value='MONTGALLET'), radius=6, stroke=False), CircleMarker(color='#000951', fill_color='#000951', fill_opacity=0.7, location=['48.837117007', ' 2.40233316592'], opacity=0.7, options=['class_name', 'color', 'dash_array', 'fill', 'fill_color', 'fill_opacity', 'line_cap', 'line_join', 'opacity', 'pointer_events', 'radius', 'stroke', 'weight'], popup=HTML(value='MICHEL BIZOT'), radius=6, stroke=False), CircleMarker(color='#000951', fill_color='#000951', fill_opacity=0.7, location=['48.8321105601', ' 2.23863934858'], opacity=0.7, options=['class_name', 'color', 'dash_array', 'fill', 'fill_color', 'fill_opacity', 'line_cap', 'line_join', 'opacity', 'pointer_events', 'radius', 'stroke', 'weight'], popup=HTML(value='BILLANCOURT'), radius=6, stroke=False), CircleMarker(color='#000951', fill_color='#000951', fill_opacity=0.7, location=['48.8608062913', ' 2.34110859163'], opacity=0.7, options=['class_name', 'color', 'dash_array', 'fill', 'fill_color', 'fill_opacity', 'line_cap', 'line_join', 'opacity', 'pointer_events', 'radius', 'stroke', 'weight'], popup=HTML(value='LOUVRE-RIVOLI'), radius=6, stroke=False), CircleMarker(color='#000951', fill_color='#000951', fill_opacity=0.7, location=['48.8720238095', ' 2.30056045125'], opacity=0.7, options=['class_name', 'color', 'dash_array', 'fill', 'fill_color', 'fill_opacity', 'line_cap', 'line_join', 'opacity', 'pointer_events', 'radius', 'stroke', 'weight'], popup=HTML(value='GEORGE V'), radius=6, stroke=False), CircleMarker(color='#000951', fill_color='#000951', fill_opacity=0.7, location=['48.8755940499', ' 2.28932258961'], opacity=0.7, options=['class_name', 'color', 'dash_array', 'fill', 'fill_color', 'fill_opacity', 'line_cap', 'line_join', 'opacity', 'pointer_events', 'radius', 'stroke', 'weight'], popup=HTML(value='ARGENTINE'), radius=6, stroke=False), CircleMarker(color='#000951', fill_color='#000951', fill_opacity=0.7, location=['48.8690911629', ' 2.38054258599'], opacity=0.7, options=['class_name', 'color', 'dash_array', 'fill', 'fill_color', 'fill_opacity', 'line_cap', 'line_join', 'opacity', 'pointer_events', 'radius', 'stroke', 'weight'], popup=HTML(value='COURONNES'), radius=6, stroke=False), CircleMarker(color='#000951', fill_color='#000951', fill_opacity=0.7, location=['48.8779727014', ' 2.29831037512'], opacity=0.7, options=['class_name', 'color', 'dash_array', 'fill', 'fill_color', 'fill_opacity', 'line_cap', 'line_join', 'opacity', 'pointer_events', 'radius', 'stroke', 'weight'], popup=HTML(value='TERNES'), radius=6, stroke=False), CircleMarker(color='#000951', fill_color='#000951', fill_opacity=0.7, location=['48.8697985565', ' 2.28533509469'], opacity=0.7, options=['class_name', 'color', 'dash_array', 'fill', 'fill_color', 'fill_opacity', 'line_cap', 'line_join', 'opacity', 'pointer_events', 'radius', 'stroke', 'weight'], popup=HTML(value='VICTOR HUGO'), radius=6, stroke=False), CircleMarker(color='#000951', fill_color='#000951', fill_opacity=0.7, location=['48.8649166851', ' 2.39898444025'], opacity=0.7, options=['class_name', 'color', 'dash_array', 'fill', 'fill_color', 'fill_opacity', 'line_cap', 'line_join', 'opacity', 'pointer_events', 'radius', 'stroke', 'weight'], popup=HTML(value='GAMBETTA'), radius=6, stroke=False), CircleMarker(color='#000951', fill_color='#000951', fill_opacity=0.7, location=['48.8652537861', ' 2.37458197'], opacity=0.7, options=['class_name', 'color', 'dash_array', 'fill', 'fill_color', 'fill_opacity', 'line_cap', 'line_join', 'opacity', 'pointer_events', 'radius', 'stroke', 'weight'], popup=HTML(value='PARMENTIER'), radius=6, stroke=False), CircleMarker(color='#000951', fill_color='#000951', fill_opacity=0.7, location=['48.8695852435', ' 2.33621884752'], opacity=0.7, options=['class_name', 'color', 'dash_array', 'fill', 'fill_color', 'fill_opacity', 'line_cap', 'line_join', 'opacity', 'pointer_events', 'radius', 'stroke', 'weight'], popup=HTML(value='QUATRE SEPTEMBRE'), radius=6, stroke=False), CircleMarker(color='#000951', fill_color='#000951', fill_opacity=0.7, location=['48.8787703685', ' 2.32226521312'], opacity=0.7, options=['class_name', 'color', 'dash_array', 'fill', 'fill_color', 'fill_opacity', 'line_cap', 'line_join', 'opacity', 'pointer_events', 'radius', 'stroke', 'weight'], popup=HTML(value='EUROPE'), radius=6, stroke=False), CircleMarker(color='#000951', fill_color='#000951', fill_opacity=0.7, location=['48.866235133', ' 2.3525493044'], opacity=0.7, options=['class_name', 'color', 'dash_array', 'fill', 'fill_color', 'fill_opacity', 'line_cap', 'line_join', 'opacity', 'pointer_events', 'radius', 'stroke', 'weight'], popup=HTML(value='REAUMUR-SEBASTOPOL'), radius=6, stroke=False), CircleMarker(color='#000951', fill_color='#000951', fill_opacity=0.7, location=['48.8521672611', ' 2.33964633593'], opacity=0.7, options=['class_name', 'color', 'dash_array', 'fill', 'fill_color', 'fill_opacity', 'line_cap', 'line_join', 'opacity', 'pointer_events', 'radius', 'stroke', 'weight'], popup=HTML(value='ODEON'), radius=6, stroke=False), CircleMarker(color='#000951', fill_color='#000951', fill_opacity=0.7, location=['48.8516722456', ' 2.33125629137'], opacity=0.7, options=['class_name', 'color', 'dash_array', 'fill', 'fill_color', 'fill_opacity', 'line_cap', 'line_join', 'opacity', 'pointer_events', 'radius', 'stroke', 'weight'], popup=HTML(value='SAINT-SULPICE'), radius=6, stroke=False), CircleMarker(color='#000951', fill_color='#000951', fill_opacity=0.7, location=['48.8839952205', ' 2.36891270331'], opacity=0.7, options=['class_name', 'color', 'dash_array', 'fill', 'fill_color', 'fill_opacity', 'line_cap', 'line_join', 'opacity', 'pointer_events', 'radius', 'stroke', 'weight'], popup=HTML(value='STALINGRAD'), radius=6, stroke=False), CircleMarker(color='#000951', fill_color='#000951', fill_opacity=0.7, location=['48.8708099836', ' 2.36102746278'], opacity=0.7, options=['class_name', 'color', 'dash_array', 'fill', 'fill_color', 'fill_opacity', 'line_cap', 'line_join', 'opacity', 'pointer_events', 'radius', 'stroke', 'weight'], popup=HTML(value='JACQUES BONSERGENT'), radius=6, stroke=False), CircleMarker(color='#000951', fill_color='#000951', fill_opacity=0.7, location=['48.8745583847', ' 2.3213619281'], opacity=0.7, options=['class_name', 'color', 'dash_array', 'fill', 'fill_color', 'fill_opacity', 'line_cap', 'line_join', 'opacity', 'pointer_events', 'radius', 'stroke', 'weight'], popup=HTML(value='SAINT-AUGUSTIN'), radius=6, stroke=False), CircleMarker(color='#000951', fill_color='#000951', fill_opacity=0.7, location=['48.8675034238', ' 2.36382614398'], opacity=0.7, options=['class_name', 'color', 'dash_array', 'fill', 'fill_color', 'fill_opacity', 'line_cap', 'line_join', 'opacity', 'pointer_events', 'radius', 'stroke', 'weight'], popup=HTML(value='REPUBLIQUE'), radius=6, stroke=False), CircleMarker(color='#000951', fill_color='#000951', fill_opacity=0.7, location=['48.8647276207', ' 2.36849638711'], opacity=0.7, options=['class_name', 'color', 'dash_array', 'fill', 'fill_color', 'fill_opacity', 'line_cap', 'line_join', 'opacity', 'pointer_events', 'radius', 'stroke', 'weight'], popup=HTML(value='OBERKAMPF'), radius=6, stroke=False), CircleMarker(color='#000951', fill_color='#000951', fill_opacity=0.7, location=['48.8545804991', ' 2.38556348082'], opacity=0.7, options=['class_name', 'color', 'dash_array', 'fill', 'fill_color', 'fill_opacity', 'line_cap', 'line_join', 'opacity', 'pointer_events', 'radius', 'stroke', 'weight'], popup=HTML(value='CHARONNE'), radius=6, stroke=False), CircleMarker(color='#000951', fill_color='#000951', fill_opacity=0.7, location=['48.8619369132', ' 2.4413109399'], opacity=0.7, options=['class_name', 'color', 'dash_array', 'fill', 'fill_color', 'fill_opacity', 'line_cap', 'line_join', 'opacity', 'pointer_events', 'radius', 'stroke', 'weight'], popup=HTML(value='MAIRIE DE MONTREUIL'), radius=6, stroke=False), CircleMarker(color='#000951', fill_color='#000951', fill_opacity=0.7, location=['48.8471310082', ' 2.27276375332'], opacity=0.7, options=['class_name', 'color', 'dash_array', 'fill', 'fill_color', 'fill_opacity', 'line_cap', 'line_join', 'opacity', 'pointer_events', 'radius', 'stroke', 'weight'], popup=HTML(value='MIRABEAU'), radius=6, stroke=False), CircleMarker(color='#000951', fill_color='#000951', fill_opacity=0.7, location=['48.8470661332', ' 2.30740224062'], opacity=0.7, options=['class_name', 'color', 'dash_array', 'fill', 'fill_color', 'fill_opacity', 'line_cap', 'line_join', 'opacity', 'pointer_events', 'radius', 'stroke', 'weight'], popup=HTML(value='SEGUR'), radius=6, stroke=False), CircleMarker(color='#000951', fill_color='#000951', fill_opacity=0.7, location=['48.8488163725', ' 2.32125786291'], opacity=0.7, options=['class_name', 'color', 'dash_array', 'fill', 'fill_color', 'fill_opacity', 'line_cap', 'line_join', 'opacity', 'pointer_events', 'radius', 'stroke', 'weight'], popup=HTML(value='VANEAU'), radius=6, stroke=False), CircleMarker(color='#000951', fill_color='#000951', fill_opacity=0.7, location=['48.8513788297', ' 2.32693524475'], opacity=0.7, options=['class_name', 'color', 'dash_array', 'fill', 'fill_color', 'fill_opacity', 'line_cap', 'line_join', 'opacity', 'pointer_events', 'radius', 'stroke', 'weight'], popup=HTML(value='SEVRES-BABYLONE'), radius=6, stroke=False), CircleMarker(color='#000951', fill_color='#000951', fill_opacity=0.7, location=['48.8501273229', ' 2.34805429322'], opacity=0.7, options=['class_name', 'color', 'dash_array', 'fill', 'fill_color', 'fill_opacity', 'line_cap', 'line_join', 'opacity', 'pointer_events', 'radius', 'stroke', 'weight'], popup=HTML(value='MAUBERT-MUTUALITE'), radius=6, stroke=False), CircleMarker(color='#000951', fill_color='#000951', fill_opacity=0.7, location=['48.8466568513', ' 2.35162325638'], opacity=0.7, options=['class_name', 'color', 'dash_array', 'fill', 'fill_color', 'fill_opacity', 'line_cap', 'line_join', 'opacity', 'pointer_events', 'radius', 'stroke', 'weight'], popup=HTML(value='CARDINAL-LEMOINE'), radius=6, stroke=False), CircleMarker(color='#000951', fill_color='#000951', fill_opacity=0.7, location=['48.8270854489', ' 2.27941168205'], opacity=0.7, options=['class_name', 'color', 'dash_array', 'fill', 'fill_color', 'fill_opacity', 'line_cap', 'line_join', 'opacity', 'pointer_events', 'radius', 'stroke', 'weight'], popup=HTML(value='CORENTIN-CELTON'), radius=6, stroke=False), CircleMarker(color='#000951', fill_color='#000951', fill_opacity=0.7, location=['48.8429206191', ' 2.31260704965'], opacity=0.7, options=['class_name', 'color', 'dash_array', 'fill', 'fill_color', 'fill_opacity', 'line_cap', 'line_join', 'opacity', 'pointer_events', 'radius', 'stroke', 'weight'], popup=HTML(value='PASTEUR'), radius=6, stroke=False), CircleMarker(color='#000951', fill_color='#000951', fill_opacity=0.7, location=['48.8607869626', ' 2.32099819197'], opacity=0.7, options=['class_name', 'color', 'dash_array', 'fill', 'fill_color', 'fill_opacity', 'line_cap', 'line_join', 'opacity', 'pointer_events', 'radius', 'stroke', 'weight'], popup=HTML(value='ASSEMBLEE NATIONALE'), radius=6, stroke=False), CircleMarker(color='#000951', fill_color='#000951', fill_opacity=0.7, location=['48.8760262116', ' 2.33788648907'], opacity=0.7, options=['class_name', 'color', 'dash_array', 'fill', 'fill_color', 'fill_opacity', 'line_cap', 'line_join', 'opacity', 'pointer_events', 'radius', 'stroke', 'weight'], popup=HTML(value='NOTRE-DAME-DE-LORETTE'), radius=6, stroke=False), CircleMarker(color='#000951', fill_color='#000951', fill_opacity=0.7, location=['48.8896740757', ' 2.33876065323'], opacity=0.7, options=['class_name', 'color', 'dash_array', 'fill', 'fill_color', 'fill_opacity', 'line_cap', 'line_join', 'opacity', 'pointer_events', 'radius', 'stroke', 'weight'], popup=HTML(value='LAMARCK-CAULAINCOURT'), radius=6, stroke=False), CircleMarker(color='#000951', fill_color='#000951', fill_opacity=0.7, location=['48.9033300946', ' 2.30592414987'], opacity=0.7, options=['class_name', 'color', 'dash_array', 'fill', 'fill_color', 'fill_opacity', 'line_cap', 'line_join', 'opacity', 'pointer_events', 'radius', 'stroke', 'weight'], popup=HTML(value='MAIRIE DE CLICHY'), radius=6, stroke=False), CircleMarker(color='#000951', fill_color='#000951', fill_opacity=0.7, location=['48.8736852106', ' 2.31446798957'], opacity=0.7, options=['class_name', 'color', 'dash_array', 'fill', 'fill_color', 'fill_opacity', 'line_cap', 'line_join', 'opacity', 'pointer_events', 'radius', 'stroke', 'weight'], popup=HTML(value='MIROMESNIL'), radius=6, stroke=False), CircleMarker(color='#000951', fill_color='#000951', fill_opacity=0.7, location=['48.8973747955', ' 2.32894281278'], opacity=0.7, options=['class_name', 'color', 'dash_array', 'fill', 'fill_color', 'fill_opacity', 'line_cap', 'line_join', 'opacity', 'pointer_events', 'radius', 'stroke', 'weight'], popup=HTML(value='PORTE DE SAINT-OUEN'), radius=6, stroke=False), CircleMarker(color='#000951', fill_color='#000951', fill_opacity=0.7, location=['48.9060940502', ' 2.33183083796'], opacity=0.7, options=['class_name', 'color', 'dash_array', 'fill', 'fill_color', 'fill_opacity', 'line_cap', 'line_join', 'opacity', 'pointer_events', 'radius', 'stroke', 'weight'], popup=HTML(value='GARIBALDI'), radius=6, stroke=False), CircleMarker(color='#000951', fill_color='#000951', fill_opacity=0.7, location=['48.8794817719', ' 2.38911580738'], opacity=0.7, options=['class_name', 'color', 'dash_array', 'fill', 'fill_color', 'fill_opacity', 'line_cap', 'line_join', 'opacity', 'pointer_events', 'radius', 'stroke', 'weight'], popup=HTML(value='BOTZARIS'), radius=6, stroke=False), CircleMarker(color='#000951', fill_color='#000951', fill_opacity=0.7, location=['48.8403020934', ' 2.37912177644'], opacity=0.7, options=['class_name', 'color', 'dash_array', 'fill', 'fill_color', 'fill_opacity', 'line_cap', 'line_join', 'opacity', 'pointer_events', 'radius', 'stroke', 'weight'], popup=HTML(value='BERCY'), radius=6, stroke=False), CircleMarker(color='#000951', fill_color='#000951', fill_opacity=0.7, location=['48.8332167197', ' 2.36285639952'], opacity=0.7, options=['class_name', 'color', 'dash_array', 'fill', 'fill_color', 'fill_opacity', 'line_cap', 'line_join', 'opacity', 'pointer_events', 'radius', 'stroke', 'weight'], popup=HTML(value='NATIONALE'), radius=6, stroke=False), CircleMarker(color='#000951', fill_color='#000951', fill_opacity=0.7, location=['48.831129548', ' 2.34351165775'], opacity=0.7, options=['class_name', 'color', 'dash_array', 'fill', 'fill_color', 'fill_opacity', 'line_cap', 'line_join', 'opacity', 'pointer_events', 'radius', 'stroke', 'weight'], popup=HTML(value='GLACIERE'), radius=6, stroke=False), CircleMarker(color='#000951', fill_color='#000951', fill_opacity=0.7, location=['48.8329008157', ' 2.33713519471'], opacity=0.7, options=['class_name', 'color', 'dash_array', 'fill', 'fill_color', 'fill_opacity', 'line_cap', 'line_join', 'opacity', 'pointer_events', 'radius', 'stroke', 'weight'], popup=HTML(value='SAINT-JACQUES'), radius=6, stroke=False), CircleMarker(color='#000951', fill_color='#000951', fill_opacity=0.7, location=['48.815930763', ' 2.37726720015'], opacity=0.7, options=['class_name', 'color', 'dash_array', 'fill', 'fill_color', 'fill_opacity', 'line_cap', 'line_join', 'opacity', 'pointer_events', 'radius', 'stroke', 'weight'], popup=HTML(value='PIERRE CURIE'), radius=6, stroke=False), CircleMarker(color='#000951', fill_color='#000951', fill_opacity=0.7, location=['48.7964830846', ' 2.36826954005'], opacity=0.7, options=['class_name', 'color', 'dash_array', 'fill', 'fill_color', 'fill_opacity', 'line_cap', 'line_join', 'opacity', 'pointer_events', 'radius', 'stroke', 'weight'], popup=HTML(value='VILLEJUIF-PAUL VAILLANT-COUTURIER'), radius=6, stroke=False), CircleMarker(color='#000951', fill_color='#000951', fill_opacity=0.7, location=['48.8720134638', ' 2.34005178574'], opacity=0.7, options=['class_name', 'color', 'dash_array', 'fill', 'fill_color', 'fill_opacity', 'line_cap', 'line_join', 'opacity', 'pointer_events', 'radius', 'stroke', 'weight'], popup=HTML(value='RICHELIEU-DROUOT'), radius=6, stroke=False), CircleMarker(color='#000951', fill_color='#000951', fill_opacity=0.7, location=['48.863257945', ' 2.36666109472'], opacity=0.7, options=['class_name', 'color', 'dash_array', 'fill', 'fill_color', 'fill_opacity', 'line_cap', 'line_join', 'opacity', 'pointer_events', 'radius', 'stroke', 'weight'], popup=HTML(value='FILLES DU CALVAIRE'), radius=6, stroke=False), CircleMarker(color='#000951', fill_color='#000951', fill_opacity=0.7, location=['48.8611688655', ' 2.36721086641'], opacity=0.7, options=['class_name', 'color', 'dash_array', 'fill', 'fill_color', 'fill_opacity', 'line_cap', 'line_join', 'opacity', 'pointer_events', 'radius', 'stroke', 'weight'], popup=HTML(value='SAINT-SEBASTIEN FROISSART'), radius=6, stroke=False), CircleMarker(color='#000951', fill_color='#000951', fill_opacity=0.7, location=['48.8501778619', ' 2.38409221007'], opacity=0.7, options=['class_name', 'color', 'dash_array', 'fill', 'fill_color', 'fill_opacity', 'line_cap', 'line_join', 'opacity', 'pointer_events', 'radius', 'stroke', 'weight'], popup=HTML(value='FAIDHERBE-CHALIGNY'), radius=6, stroke=False), CircleMarker(color='#000951', fill_color='#000951', fill_opacity=0.7, location=['48.8026376907', ' 2.44692748424'], opacity=0.7, options=['class_name', 'color', 'dash_array', 'fill', 'fill_color', 'fill_opacity', 'line_cap', 'line_join', 'opacity', 'pointer_events', 'radius', 'stroke', 'weight'], popup=HTML(value='MAISONS-ALFORT-LES JUILLIOTTES'), radius=6, stroke=False), CircleMarker(color='#000951', fill_color='#000951', fill_opacity=0.7, location=['48.7967407666', ' 2.44943317569'], opacity=0.7, options=['class_name', 'color', 'dash_array', 'fill', 'fill_color', 'fill_opacity', 'line_cap', 'line_join', 'opacity', 'pointer_events', 'radius', 'stroke', 'weight'], popup=HTML(value=\"CRETEIL-L'ECHAT (HOPITAL MONDOR)\"), radius=6, stroke=False), CircleMarker(color='#000951', fill_color='#000951', fill_opacity=0.7, location=['48.8444563946', ' 2.44043997806'], opacity=0.7, options=['class_name', 'color', 'dash_array', 'fill', 'fill_color', 'fill_opacity', 'line_cap', 'line_join', 'opacity', 'pointer_events', 'radius', 'stroke', 'weight'], popup=HTML(value='CHATEAU DE VINCENNES'), radius=6, stroke=False), CircleMarker(color='#000951', fill_color='#000951', fill_opacity=0.7, location=['48.8473545169', ' 2.38680844578'], opacity=0.7, options=['class_name', 'color', 'dash_array', 'fill', 'fill_color', 'fill_opacity', 'line_cap', 'line_join', 'opacity', 'pointer_events', 'radius', 'stroke', 'weight'], popup=HTML(value='REUILLY-DIDEROT'), radius=6, stroke=False), CircleMarker(color='#000951', fill_color='#000951', fill_opacity=0.7, location=['48.8811915206', ' 2.27168672105'], opacity=0.7, options=['class_name', 'color', 'dash_array', 'fill', 'fill_color', 'fill_opacity', 'line_cap', 'line_join', 'opacity', 'pointer_events', 'radius', 'stroke', 'weight'], popup=HTML(value=\"LES SABLONS (JARDIN D'ACCLIMATATION)\"), radius=6, stroke=False), CircleMarker(color='#000951', fill_color='#000951', fill_opacity=0.7, location=['48.8668000351', ' 2.38338325046'], opacity=0.7, options=['class_name', 'color', 'dash_array', 'fill', 'fill_color', 'fill_opacity', 'line_cap', 'line_join', 'opacity', 'pointer_events', 'radius', 'stroke', 'weight'], popup=HTML(value='MENILMONTANT'), radius=6, stroke=False), CircleMarker(color='#000951', fill_color='#000951', fill_opacity=0.7, location=['48.8843987952', ' 2.36049131853'], opacity=0.7, options=['class_name', 'color', 'dash_array', 'fill', 'fill_color', 'fill_opacity', 'line_cap', 'line_join', 'opacity', 'pointer_events', 'radius', 'stroke', 'weight'], popup=HTML(value='LA CHAPELLE'), radius=6, stroke=False), CircleMarker(color='#000951', fill_color='#000951', fill_opacity=0.7, location=['48.867309475', ' 2.34751621328'], opacity=0.7, options=['class_name', 'color', 'dash_array', 'fill', 'fill_color', 'fill_opacity', 'line_cap', 'line_join', 'opacity', 'pointer_events', 'radius', 'stroke', 'weight'], popup=HTML(value='SENTIER'), radius=6, stroke=False), CircleMarker(color='#000951', fill_color='#000951', fill_opacity=0.7, location=['48.8811500285', ' 2.31517662622'], opacity=0.7, options=['class_name', 'color', 'dash_array', 'fill', 'fill_color', 'fill_opacity', 'line_cap', 'line_join', 'opacity', 'pointer_events', 'radius', 'stroke', 'weight'], popup=HTML(value='VILLIERS'), radius=6, stroke=False), CircleMarker(color='#000951', fill_color='#000951', fill_opacity=0.7, location=['48.8873749079', ' 2.34969408224'], opacity=0.7, options=['class_name', 'color', 'dash_array', 'fill', 'fill_color', 'fill_opacity', 'line_cap', 'line_join', 'opacity', 'pointer_events', 'radius', 'stroke', 'weight'], popup=HTML(value='CHATEAU ROUGE'), radius=6, stroke=False), CircleMarker(color='#000951', fill_color='#000951', fill_opacity=0.7, location=['48.846878238', ' 2.32679278504'], opacity=0.7, options=['class_name', 'color', 'dash_array', 'fill', 'fill_color', 'fill_opacity', 'line_cap', 'line_join', 'opacity', 'pointer_events', 'radius', 'stroke', 'weight'], popup=HTML(value='SAINT-PLACIDE'), radius=6, stroke=False), CircleMarker(color='#000951', fill_color='#000951', fill_opacity=0.7, location=['48.8912285941', ' 2.40235214662'], opacity=0.7, options=['class_name', 'color', 'dash_array', 'fill', 'fill_color', 'fill_opacity', 'line_cap', 'line_join', 'opacity', 'pointer_events', 'radius', 'stroke', 'weight'], popup=HTML(value='HOCHE'), radius=6, stroke=False), CircleMarker(color='#000951', fill_color='#000951', fill_opacity=0.7, location=['48.856140713', ' 2.3702093411'], opacity=0.7, options=['class_name', 'color', 'dash_array', 'fill', 'fill_color', 'fill_opacity', 'line_cap', 'line_join', 'opacity', 'pointer_events', 'radius', 'stroke', 'weight'], popup=HTML(value='BREGUET-SABIN'), radius=6, stroke=False), CircleMarker(color='#000951', fill_color='#000951', fill_opacity=0.7, location=['48.8465154069', ' 2.36587346665'], opacity=0.7, options=['class_name', 'color', 'dash_array', 'fill', 'fill_color', 'fill_opacity', 'line_cap', 'line_join', 'opacity', 'pointer_events', 'radius', 'stroke', 'weight'], popup=HTML(value='QUAI DE LA RAPEE'), radius=6, stroke=False), CircleMarker(color='#000951', fill_color='#000951', fill_opacity=0.7, location=['48.851812133', ' 2.40102227052'], opacity=0.7, options=['class_name', 'color', 'dash_array', 'fill', 'fill_color', 'fill_opacity', 'line_cap', 'line_join', 'opacity', 'pointer_events', 'radius', 'stroke', 'weight'], popup=HTML(value='BUZENVAL'), radius=6, stroke=False), CircleMarker(color='#000951', fill_color='#000951', fill_opacity=0.7, location=['48.8470195819', ' 2.29542047803'], opacity=0.7, options=['class_name', 'color', 'dash_array', 'fill', 'fill_color', 'fill_opacity', 'line_cap', 'line_join', 'opacity', 'pointer_events', 'radius', 'stroke', 'weight'], popup=HTML(value='AVENUE EMILE ZOLA'), radius=6, stroke=False), CircleMarker(color='#000951', fill_color='#000951', fill_opacity=0.7, location=['48.853016767', ' 2.33550205038'], opacity=0.7, options=['class_name', 'color', 'dash_array', 'fill', 'fill_color', 'fill_opacity', 'line_cap', 'line_join', 'opacity', 'pointer_events', 'radius', 'stroke', 'weight'], popup=HTML(value='MABILLON'), radius=6, stroke=False), CircleMarker(color='#000951', fill_color='#000951', fill_opacity=0.7, location=['48.8461511231', ' 2.3549179837'], opacity=0.7, options=['class_name', 'color', 'dash_array', 'fill', 'fill_color', 'fill_opacity', 'line_cap', 'line_join', 'opacity', 'pointer_events', 'radius', 'stroke', 'weight'], popup=HTML(value='JUSSIEU'), radius=6, stroke=False), CircleMarker(color='#000951', fill_color='#000951', fill_opacity=0.7, location=['48.879761254', ' 2.41647964367'], opacity=0.7, options=['class_name', 'color', 'dash_array', 'fill', 'fill_color', 'fill_opacity', 'line_cap', 'line_join', 'opacity', 'pointer_events', 'radius', 'stroke', 'weight'], popup=HTML(value='MAIRIE DES LILAS'), radius=6, stroke=False), CircleMarker(color='#000951', fill_color='#000951', fill_opacity=0.7, location=['48.8738818542', ' 2.3853162151'], opacity=0.7, options=['class_name', 'color', 'dash_array', 'fill', 'fill_color', 'fill_opacity', 'line_cap', 'line_join', 'opacity', 'pointer_events', 'radius', 'stroke', 'weight'], popup=HTML(value='PYRENEES'), radius=6, stroke=False), CircleMarker(color='#000951', fill_color='#000951', fill_opacity=0.7, location=['48.8719936918', ' 2.3770297767'], opacity=0.7, options=['class_name', 'color', 'dash_array', 'fill', 'fill_color', 'fill_opacity', 'line_cap', 'line_join', 'opacity', 'pointer_events', 'radius', 'stroke', 'weight'], popup=HTML(value='BELLEVILLE'), radius=6, stroke=False), CircleMarker(color='#000951', fill_color='#000951', fill_opacity=0.7, location=['48.8580618623', ' 2.34762515572'], opacity=0.7, options=['class_name', 'color', 'dash_array', 'fill', 'fill_color', 'fill_opacity', 'line_cap', 'line_join', 'opacity', 'pointer_events', 'radius', 'stroke', 'weight'], popup=HTML(value='CHATELET'), radius=6, stroke=False), CircleMarker(color='#000951', fill_color='#000951', fill_opacity=0.7, location=['48.8373074919', ' 2.29663033782'], opacity=0.7, options=['class_name', 'color', 'dash_array', 'fill', 'fill_color', 'fill_opacity', 'line_cap', 'line_join', 'opacity', 'pointer_events', 'radius', 'stroke', 'weight'], popup=HTML(value='CONVENTION'), radius=6, stroke=False), CircleMarker(color='#000951', fill_color='#000951', fill_opacity=0.7, location=['48.8484578485', ' 2.32778212715'], opacity=0.7, options=['class_name', 'color', 'dash_array', 'fill', 'fill_color', 'fill_opacity', 'line_cap', 'line_join', 'opacity', 'pointer_events', 'radius', 'stroke', 'weight'], popup=HTML(value='RENNES'), radius=6, stroke=False), CircleMarker(color='#000951', fill_color='#000951', fill_opacity=0.7, location=['48.8784252594', ' 2.33759508007'], opacity=0.7, options=['class_name', 'color', 'dash_array', 'fill', 'fill_color', 'fill_opacity', 'line_cap', 'line_join', 'opacity', 'pointer_events', 'radius', 'stroke', 'weight'], popup=HTML(value='SAINT-GEORGES'), radius=6, stroke=False), CircleMarker(color='#000951', fill_color='#000951', fill_opacity=0.7, location=['48.8333385593', ' 2.38663240207'], opacity=0.7, options=['class_name', 'color', 'dash_array', 'fill', 'fill_color', 'fill_opacity', 'line_cap', 'line_join', 'opacity', 'pointer_events', 'radius', 'stroke', 'weight'], popup=HTML(value='COUR SAINT-EMILION'), radius=6, stroke=False), CircleMarker(color='#000951', fill_color='#000951', fill_opacity=0.7, location=['48.8153075321', ' 2.29707779696'], opacity=0.7, options=['class_name', 'color', 'dash_array', 'fill', 'fill_color', 'fill_opacity', 'line_cap', 'line_join', 'opacity', 'pointer_events', 'radius', 'stroke', 'weight'], popup=HTML(value='MALAKOFF-RUE ETIENNE DOLET'), radius=6, stroke=False), CircleMarker(color='#000951', fill_color='#000951', fill_opacity=0.7, location=['48.8796347607', ' 2.32702220089'], opacity=0.7, options=['class_name', 'color', 'dash_array', 'fill', 'fill_color', 'fill_opacity', 'line_cap', 'line_join', 'opacity', 'pointer_events', 'radius', 'stroke', 'weight'], popup=HTML(value='LIEGE'), radius=6, stroke=False), CircleMarker(color='#000951', fill_color='#000951', fill_opacity=0.7, location=['48.9119648979', ' 2.33392489048'], opacity=0.7, options=['class_name', 'color', 'dash_array', 'fill', 'fill_color', 'fill_opacity', 'line_cap', 'line_join', 'opacity', 'pointer_events', 'radius', 'stroke', 'weight'], popup=HTML(value='MAIRIE DE SAINT-OUEN'), radius=6, stroke=False), CircleMarker(color='#000951', fill_color='#000951', fill_opacity=0.7, location=['48.9195730722', ' 2.34330592781'], opacity=0.7, options=['class_name', 'color', 'dash_array', 'fill', 'fill_color', 'fill_opacity', 'line_cap', 'line_join', 'opacity', 'pointer_events', 'radius', 'stroke', 'weight'], popup=HTML(value='CARREFOUR PLEYEL'), radius=6, stroke=False), CircleMarker(color='#000951', fill_color='#000951', fill_opacity=0.7, location=['48.8309953013', ' 2.35583489797'], opacity=0.7, options=['class_name', 'color', 'dash_array', 'fill', 'fill_color', 'fill_opacity', 'line_cap', 'line_join', 'opacity', 'pointer_events', 'radius', 'stroke', 'weight'], popup=HTML(value=\"PLACE D'ITALIE\"), radius=6, stroke=False), CircleMarker(color='#000951', fill_color='#000951', fill_opacity=0.7, location=['48.8504345508', ' 2.29361243444'], opacity=0.7, options=['class_name', 'color', 'dash_array', 'fill', 'fill_color', 'fill_opacity', 'line_cap', 'line_join', 'opacity', 'pointer_events', 'radius', 'stroke', 'weight'], popup=HTML(value='DUPLEIX'), radius=6, stroke=False), CircleMarker(color='#000951', fill_color='#000951', fill_opacity=0.7, location=['48.857448691', ' 2.28581244413'], opacity=0.7, options=['class_name', 'color', 'dash_array', 'fill', 'fill_color', 'fill_opacity', 'line_cap', 'line_join', 'opacity', 'pointer_events', 'radius', 'stroke', 'weight'], popup=HTML(value='PASSY'), radius=6, stroke=False), CircleMarker(color='#000951', fill_color='#000951', fill_opacity=0.7, location=['48.8716497691', ' 2.29352429034'], opacity=0.7, options=['class_name', 'color', 'dash_array', 'fill', 'fill_color', 'fill_opacity', 'line_cap', 'line_join', 'opacity', 'pointer_events', 'radius', 'stroke', 'weight'], popup=HTML(value='KLEBER'), radius=6, stroke=False), CircleMarker(color='#000951', fill_color='#000951', fill_opacity=0.7, location=['48.9149497573', ' 2.40440908878'], opacity=0.7, options=['class_name', 'color', 'dash_array', 'fill', 'fill_color', 'fill_opacity', 'line_cap', 'line_join', 'opacity', 'pointer_events', 'radius', 'stroke', 'weight'], popup=HTML(value=\"FORT D'AUBERVILLIERS\"), radius=6, stroke=False), CircleMarker(color='#000951', fill_color='#000951', fill_opacity=0.7, location=['48.8785656258', ' 2.36216007056'], opacity=0.7, options=['class_name', 'color', 'dash_array', 'fill', 'fill_color', 'fill_opacity', 'line_cap', 'line_join', 'opacity', 'pointer_events', 'radius', 'stroke', 'weight'], popup=HTML(value='CHATEAU-LANDON'), radius=6, stroke=False), CircleMarker(color='#000951', fill_color='#000951', fill_opacity=0.7, location=['48.8772363191', ' 2.34929390111'], opacity=0.7, options=['class_name', 'color', 'dash_array', 'fill', 'fill_color', 'fill_opacity', 'line_cap', 'line_join', 'opacity', 'pointer_events', 'radius', 'stroke', 'weight'], popup=HTML(value='POISSONNIERE'), radius=6, stroke=False), CircleMarker(color='#000951', fill_color='#000951', fill_opacity=0.7, location=['48.8657611028', ' 2.33442748591'], opacity=0.7, options=['class_name', 'color', 'dash_array', 'fill', 'fill_color', 'fill_opacity', 'line_cap', 'line_join', 'opacity', 'pointer_events', 'radius', 'stroke', 'weight'], popup=HTML(value='PYRAMIDES'), radius=6, stroke=False), CircleMarker(color='#000951', fill_color='#000951', fill_opacity=0.7, location=['48.8404866526', ' 2.35173948717'], opacity=0.7, options=['class_name', 'color', 'dash_array', 'fill', 'fill_color', 'fill_opacity', 'line_cap', 'line_join', 'opacity', 'pointer_events', 'radius', 'stroke', 'weight'], popup=HTML(value='CENSIER-DAUBENTON'), radius=6, stroke=False), CircleMarker(color='#000951', fill_color='#000951', fill_opacity=0.7, location=['48.8224378319', ' 2.35847388389'], opacity=0.7, options=['class_name', 'color', 'dash_array', 'fill', 'fill_color', 'fill_opacity', 'line_cap', 'line_join', 'opacity', 'pointer_events', 'radius', 'stroke', 'weight'], popup=HTML(value='MAISON BLANCHE'), radius=6, stroke=False), CircleMarker(color='#000951', fill_color='#000951', fill_opacity=0.7, location=['48.8546821569', ' 2.3060974037'], opacity=0.7, options=['class_name', 'color', 'dash_array', 'fill', 'fill_color', 'fill_opacity', 'line_cap', 'line_join', 'opacity', 'pointer_events', 'radius', 'stroke', 'weight'], popup=HTML(value='ECOLE MILITAIRE'), radius=6, stroke=False), CircleMarker(color='#000951', fill_color='#000951', fill_opacity=0.7, location=['48.8577254129', ' 2.31056596095'], opacity=0.7, options=['class_name', 'color', 'dash_array', 'fill', 'fill_color', 'fill_opacity', 'line_cap', 'line_join', 'opacity', 'pointer_events', 'radius', 'stroke', 'weight'], popup=HTML(value='LA TOUR MAUBOURG'), radius=6, stroke=False), CircleMarker(color='#000951', fill_color='#000951', fill_opacity=0.7, location=['48.8714977394', ' 2.34315477308'], opacity=0.7, options=['class_name', 'color', 'dash_array', 'fill', 'fill_color', 'fill_opacity', 'line_cap', 'line_join', 'opacity', 'pointer_events', 'radius', 'stroke', 'weight'], popup=HTML(value='GRANDS BOULEVARDS (RUE MONTMARTRE)'), radius=6, stroke=False), CircleMarker(color='#000951', fill_color='#000951', fill_opacity=0.7, location=['48.8701642009', ' 2.35049797186'], opacity=0.7, options=['class_name', 'color', 'dash_array', 'fill', 'fill_color', 'fill_opacity', 'line_cap', 'line_join', 'opacity', 'pointer_events', 'radius', 'stroke', 'weight'], popup=HTML(value='BONNE NOUVELLE'), radius=6, stroke=False), CircleMarker(color='#000951', fill_color='#000951', fill_opacity=0.7, location=['48.8296748438', ' 2.23079959132'], opacity=0.7, options=['class_name', 'color', 'dash_array', 'fill', 'fill_color', 'fill_opacity', 'line_cap', 'line_join', 'opacity', 'pointer_events', 'radius', 'stroke', 'weight'], popup=HTML(value='PONT DE SEVRES'), radius=6, stroke=False), CircleMarker(color='#000951', fill_color='#000951', fill_opacity=0.7, location=['48.8575515533', ' 2.35129220933'], opacity=0.7, options=['class_name', 'color', 'dash_array', 'fill', 'fill_color', 'fill_opacity', 'line_cap', 'line_join', 'opacity', 'pointer_events', 'radius', 'stroke', 'weight'], popup=HTML(value='HOTEL DE VILLE'), radius=6, stroke=False), CircleMarker(color='#000951', fill_color='#000951', fill_opacity=0.7, location=['48.8847082013', ' 2.26051507789'], opacity=0.7, options=['class_name', 'color', 'dash_array', 'fill', 'fill_color', 'fill_opacity', 'line_cap', 'line_join', 'opacity', 'pointer_events', 'radius', 'stroke', 'weight'], popup=HTML(value='PONT DE NEUILLY (AVENUE DE MADRID)'), radius=6, stroke=False), CircleMarker(color='#000951', fill_color='#000951', fill_opacity=0.7, location=['48.8515102782', ' 2.39830234427'], opacity=0.7, options=['class_name', 'color', 'dash_array', 'fill', 'fill_color', 'fill_opacity', 'line_cap', 'line_join', 'opacity', 'pointer_events', 'radius', 'stroke', 'weight'], popup=HTML(value='AVRON'), radius=6, stroke=False), CircleMarker(color='#000951', fill_color='#000951', fill_opacity=0.7, location=['48.8839585726', ' 2.33192658953'], opacity=0.7, options=['class_name', 'color', 'dash_array', 'fill', 'fill_color', 'fill_opacity', 'line_cap', 'line_join', 'opacity', 'pointer_events', 'radius', 'stroke', 'weight'], popup=HTML(value='BLANCHE'), radius=6, stroke=False), CircleMarker(color='#000951', fill_color='#000951', fill_opacity=0.7, location=['48.8792141342', ' 2.30352872537'], opacity=0.7, options=['class_name', 'color', 'dash_array', 'fill', 'fill_color', 'fill_opacity', 'line_cap', 'line_join', 'opacity', 'pointer_events', 'radius', 'stroke', 'weight'], popup=HTML(value='COURCELLES'), radius=6, stroke=False), CircleMarker(color='#000951', fill_color='#000951', fill_opacity=0.7, location=['48.8653353173', ' 2.41669727286'], opacity=0.7, options=['class_name', 'color', 'dash_array', 'fill', 'fill_color', 'fill_opacity', 'line_cap', 'line_join', 'opacity', 'pointer_events', 'radius', 'stroke', 'weight'], popup=HTML(value='GALLIENI (PARC DE BAGNOLET)'), radius=6, stroke=False), CircleMarker(color='#000951', fill_color='#000951', fill_opacity=0.7, location=['48.8686959778', ' 2.34072072367'], opacity=0.7, options=['class_name', 'color', 'dash_array', 'fill', 'fill_color', 'fill_opacity', 'line_cap', 'line_join', 'opacity', 'pointer_events', 'radius', 'stroke', 'weight'], popup=HTML(value='BOURSE'), radius=6, stroke=False), CircleMarker(color='#000951', fill_color='#000951', fill_opacity=0.7, location=['48.8838092012', ' 2.30467444053'], opacity=0.7, options=['class_name', 'color', 'dash_array', 'fill', 'fill_color', 'fill_opacity', 'line_cap', 'line_join', 'opacity', 'pointer_events', 'radius', 'stroke', 'weight'], popup=HTML(value='WAGRAM'), radius=6, stroke=False), CircleMarker(color='#000951', fill_color='#000951', fill_opacity=0.7, location=['48.8857931052', ' 2.2925823141'], opacity=0.7, options=['class_name', 'color', 'dash_array', 'fill', 'fill_color', 'fill_opacity', 'line_cap', 'line_join', 'opacity', 'pointer_events', 'radius', 'stroke', 'weight'], popup=HTML(value='PORTE DE CHAMPERRET'), radius=6, stroke=False), CircleMarker(color='#000951', fill_color='#000951', fill_opacity=0.7, location=['48.892082786', ' 2.28500950275'], opacity=0.7, options=['class_name', 'color', 'dash_array', 'fill', 'fill_color', 'fill_opacity', 'line_cap', 'line_join', 'opacity', 'pointer_events', 'radius', 'stroke', 'weight'], popup=HTML(value='ANATOLE FRANCE'), radius=6, stroke=False), CircleMarker(color='#000951', fill_color='#000951', fill_opacity=0.7, location=['48.893941388', ' 2.34776550172'], opacity=0.7, options=['class_name', 'color', 'dash_array', 'fill', 'fill_color', 'fill_opacity', 'line_cap', 'line_join', 'opacity', 'pointer_events', 'radius', 'stroke', 'weight'], popup=HTML(value='SIMPLON'), radius=6, stroke=False), CircleMarker(color='#000951', fill_color='#000951', fill_opacity=0.7, location=['48.8724249127', ' 2.35604490769'], opacity=0.7, options=['class_name', 'color', 'dash_array', 'fill', 'fill_color', 'fill_opacity', 'line_cap', 'line_join', 'opacity', 'pointer_events', 'radius', 'stroke', 'weight'], popup=HTML(value=\"CHATEAU D'EAU\"), radius=6, stroke=False), CircleMarker(color='#000951', fill_color='#000951', fill_opacity=0.7, location=['48.8281884763', ' 2.32716464961'], opacity=0.7, options=['class_name', 'color', 'dash_array', 'fill', 'fill_color', 'fill_opacity', 'line_cap', 'line_join', 'opacity', 'pointer_events', 'radius', 'stroke', 'weight'], popup=HTML(value='ALESIA'), radius=6, stroke=False), CircleMarker(color='#000951', fill_color='#000951', fill_opacity=0.7, location=['48.8954546731', ' 2.42532689153'], opacity=0.7, options=['class_name', 'color', 'dash_array', 'fill', 'fill_color', 'fill_opacity', 'line_cap', 'line_join', 'opacity', 'pointer_events', 'radius', 'stroke', 'weight'], popup=HTML(value='BOBIGNY-PANTIN (RAYMOND QUENEAU)'), radius=6, stroke=False), CircleMarker(color='#000951', fill_color='#000951', fill_opacity=0.7, location=['48.8871348691', ' 2.38696001714'], opacity=0.7, options=['class_name', 'color', 'dash_array', 'fill', 'fill_color', 'fill_opacity', 'line_cap', 'line_join', 'opacity', 'pointer_events', 'radius', 'stroke', 'weight'], popup=HTML(value='OURCQ'), radius=6, stroke=False), CircleMarker(color='#000951', fill_color='#000951', fill_opacity=0.7, location=['48.885216183', ' 2.37966308156'], opacity=0.7, options=['class_name', 'color', 'dash_array', 'fill', 'fill_color', 'fill_opacity', 'line_cap', 'line_join', 'opacity', 'pointer_events', 'radius', 'stroke', 'weight'], popup=HTML(value='LAUMIERE'), radius=6, stroke=False), CircleMarker(color='#000951', fill_color='#000951', fill_opacity=0.7, location=['48.8598736217', ' 2.37191397876'], opacity=0.7, options=['class_name', 'color', 'dash_array', 'fill', 'fill_color', 'fill_opacity', 'line_cap', 'line_join', 'opacity', 'pointer_events', 'radius', 'stroke', 'weight'], popup=HTML(value='RICHARD LENOIR'), radius=6, stroke=False), CircleMarker(color='#000951', fill_color='#000951', fill_opacity=0.7, location=['48.8534369623', ' 2.36873657263'], opacity=0.7, options=['class_name', 'color', 'dash_array', 'fill', 'fill_color', 'fill_opacity', 'line_cap', 'line_join', 'opacity', 'pointer_events', 'radius', 'stroke', 'weight'], popup=HTML(value='BASTILLE'), radius=6, stroke=False), CircleMarker(color='#000951', fill_color='#000951', fill_opacity=0.7, location=['48.8625955368', ' 2.33668417'], opacity=0.7, options=['class_name', 'color', 'dash_array', 'fill', 'fill_color', 'fill_opacity', 'line_cap', 'line_join', 'opacity', 'pointer_events', 'radius', 'stroke', 'weight'], popup=HTML(value='PALAIS ROYAL-MUSEE DU LOUVRE'), radius=6, stroke=False), CircleMarker(color='#000951', fill_color='#000951', fill_opacity=0.7, location=['48.8580460554', ' 2.27415462837'], opacity=0.7, options=['class_name', 'color', 'dash_array', 'fill', 'fill_color', 'fill_opacity', 'line_cap', 'line_join', 'opacity', 'pointer_events', 'radius', 'stroke', 'weight'], popup=HTML(value='LA MUETTE'), radius=6, stroke=False), CircleMarker(color='#000951', fill_color='#000951', fill_opacity=0.7, location=['48.8630737822', ' 2.2871668755'], opacity=0.7, options=['class_name', 'color', 'dash_array', 'fill', 'fill_color', 'fill_opacity', 'line_cap', 'line_join', 'opacity', 'pointer_events', 'radius', 'stroke', 'weight'], popup=HTML(value='TROCADERO'), radius=6, stroke=False), CircleMarker(color='#000951', fill_color='#000951', fill_opacity=0.7, location=['48.864766845', ' 2.3009910035'], opacity=0.7, options=['class_name', 'color', 'dash_array', 'fill', 'fill_color', 'fill_opacity', 'line_cap', 'line_join', 'opacity', 'pointer_events', 'radius', 'stroke', 'weight'], popup=HTML(value='ALMA-MARCEAU'), radius=6, stroke=False), CircleMarker(color='#000951', fill_color='#000951', fill_opacity=0.7, location=['48.8724223837', ' 2.31003834462'], opacity=0.7, options=['class_name', 'color', 'dash_array', 'fill', 'fill_color', 'fill_opacity', 'line_cap', 'line_join', 'opacity', 'pointer_events', 'radius', 'stroke', 'weight'], popup=HTML(value='SAINT-PHILIPPE-DU-ROULE'), radius=6, stroke=False), CircleMarker(color='#000951', fill_color='#000951', fill_opacity=0.7, location=['48.8692940077', ' 2.35428087908'], opacity=0.7, options=['class_name', 'color', 'dash_array', 'fill', 'fill_color', 'fill_opacity', 'line_cap', 'line_join', 'opacity', 'pointer_events', 'radius', 'stroke', 'weight'], popup=HTML(value='STRASBOURG-SAINT-DENIS'), radius=6, stroke=False), CircleMarker(color='#000951', fill_color='#000951', fill_opacity=0.7, location=['48.8574537227', ' 2.38071878586'], opacity=0.7, options=['class_name', 'color', 'dash_array', 'fill', 'fill_color', 'fill_opacity', 'line_cap', 'line_join', 'opacity', 'pointer_events', 'radius', 'stroke', 'weight'], popup=HTML(value='VOLTAIRE (LEON BLUM)'), radius=6, stroke=False), CircleMarker(color='#000951', fill_color='#000951', fill_opacity=0.7, location=['48.8407450152', ' 2.2285369815'], opacity=0.7, options=['class_name', 'color', 'dash_array', 'fill', 'fill_color', 'fill_opacity', 'line_cap', 'line_join', 'opacity', 'pointer_events', 'radius', 'stroke', 'weight'], popup=HTML(value='BOULOGNE-PONT DE SAINT CLOUD'), radius=6, stroke=False), CircleMarker(color='#000951', fill_color='#000951', fill_opacity=0.7, location=['48.8479430972', ' 2.26413042674'], opacity=0.7, options=['class_name', 'color', 'dash_array', 'fill', 'fill_color', 'fill_opacity', 'line_cap', 'line_join', 'opacity', 'pointer_events', 'radius', 'stroke', 'weight'], popup=HTML(value='MICHEL-ANGE-AUTEUIL'), radius=6, stroke=False), CircleMarker(color='#000951', fill_color='#000951', fill_opacity=0.7, location=['48.8452047027', ' 2.26644154037'], opacity=0.7, options=['class_name', 'color', 'dash_array', 'fill', 'fill_color', 'fill_opacity', 'line_cap', 'line_join', 'opacity', 'pointer_events', 'radius', 'stroke', 'weight'], popup=HTML(value='CHARDON-LAGACHE'), radius=6, stroke=False), CircleMarker(color='#000951', fill_color='#000951', fill_opacity=0.7, location=['48.8612049903', ' 2.35349574013'], opacity=0.7, options=['class_name', 'color', 'dash_array', 'fill', 'fill_color', 'fill_opacity', 'line_cap', 'line_join', 'opacity', 'pointer_events', 'radius', 'stroke', 'weight'], popup=HTML(value='RAMBUTEAU'), radius=6, stroke=False), CircleMarker(color='#000951', fill_color='#000951', fill_opacity=0.7, location=['48.8395165854', ' 2.30110751488'], opacity=0.7, options=['class_name', 'color', 'dash_array', 'fill', 'fill_color', 'fill_opacity', 'line_cap', 'line_join', 'opacity', 'pointer_events', 'radius', 'stroke', 'weight'], popup=HTML(value='VAUGIRARD (ADOLPHE CHERIOU)'), radius=6, stroke=False), CircleMarker(color='#000951', fill_color='#000951', fill_opacity=0.7, location=['48.8444701413', ' 2.31785278304'], opacity=0.7, options=['class_name', 'color', 'dash_array', 'fill', 'fill_color', 'fill_opacity', 'line_cap', 'line_join', 'opacity', 'pointer_events', 'radius', 'stroke', 'weight'], popup=HTML(value='FALGUIERE'), radius=6, stroke=False), CircleMarker(color='#000951', fill_color='#000951', fill_opacity=0.7, location=['48.8914809106', ' 2.34972889726'], opacity=0.7, options=['class_name', 'color', 'dash_array', 'fill', 'fill_color', 'fill_opacity', 'line_cap', 'line_join', 'opacity', 'pointer_events', 'radius', 'stroke', 'weight'], popup=HTML(value='MARCADET-POISSONNIERS'), radius=6, stroke=False), CircleMarker(color='#000951', fill_color='#000951', fill_opacity=0.7, location=['48.8904854556', ' 2.35999576638'], opacity=0.7, options=['class_name', 'color', 'dash_array', 'fill', 'fill_color', 'fill_opacity', 'line_cap', 'line_join', 'opacity', 'pointer_events', 'radius', 'stroke', 'weight'], popup=HTML(value='MARX DORMOY'), radius=6, stroke=False), CircleMarker(color='#000951', fill_color='#000951', fill_opacity=0.7, location=['48.9163823099', ' 2.2946851117'], opacity=0.7, options=['class_name', 'color', 'dash_array', 'fill', 'fill_color', 'fill_opacity', 'line_cap', 'line_join', 'opacity', 'pointer_events', 'radius', 'stroke', 'weight'], popup=HTML(value='GABRIEL PERI-ASNIERES-GENNEVILLIERS'), radius=6, stroke=False), CircleMarker(color='#000951', fill_color='#000951', fill_opacity=0.7, location=['48.8318256496', ' 2.31412232347'], opacity=0.7, options=['class_name', 'color', 'dash_array', 'fill', 'fill_color', 'fill_opacity', 'line_cap', 'line_join', 'opacity', 'pointer_events', 'radius', 'stroke', 'weight'], popup=HTML(value='PLAISANCE'), radius=6, stroke=False), CircleMarker(color='#000951', fill_color='#000951', fill_opacity=0.7, location=['48.8339363926', ' 2.31807828413'], opacity=0.7, options=['class_name', 'color', 'dash_array', 'fill', 'fill_color', 'fill_opacity', 'line_cap', 'line_join', 'opacity', 'pointer_events', 'radius', 'stroke', 'weight'], popup=HTML(value='PERNETY'), radius=6, stroke=False), CircleMarker(color='#000951', fill_color='#000951', fill_opacity=0.7, location=['48.8386316471', ' 2.32249174845'], opacity=0.7, options=['class_name', 'color', 'dash_array', 'fill', 'fill_color', 'fill_opacity', 'line_cap', 'line_join', 'opacity', 'pointer_events', 'radius', 'stroke', 'weight'], popup=HTML(value='GAITE'), radius=6, stroke=False), CircleMarker(color='#000951', fill_color='#000951', fill_opacity=0.7, location=['48.8799957944', ' 2.39894666246'], opacity=0.7, options=['class_name', 'color', 'dash_array', 'fill', 'fill_color', 'fill_opacity', 'line_cap', 'line_join', 'opacity', 'pointer_events', 'radius', 'stroke', 'weight'], popup=HTML(value='PRE SAINT-GERVAIS'), radius=6, stroke=False), CircleMarker(color='#000951', fill_color='#000951', fill_opacity=0.7, location=['48.8808212614', ' 2.37414715384'], opacity=0.7, options=['class_name', 'color', 'dash_array', 'fill', 'fill_color', 'fill_opacity', 'line_cap', 'line_join', 'opacity', 'pointer_events', 'radius', 'stroke', 'weight'], popup=HTML(value='BOLIVAR'), radius=6, stroke=False), CircleMarker(color='#000951', fill_color='#000951', fill_opacity=0.7, location=['48.8827381328', ' 2.37012231228'], opacity=0.7, options=['class_name', 'color', 'dash_array', 'fill', 'fill_color', 'fill_opacity', 'line_cap', 'line_join', 'opacity', 'pointer_events', 'radius', 'stroke', 'weight'], popup=HTML(value='JAURES'), radius=6, stroke=False), CircleMarker(color='#000951', fill_color='#000951', fill_opacity=0.7, location=['48.8354953572', ' 2.35882349044'], opacity=0.7, options=['class_name', 'color', 'dash_array', 'fill', 'fill_color', 'fill_opacity', 'line_cap', 'line_join', 'opacity', 'pointer_events', 'radius', 'stroke', 'weight'], popup=HTML(value='CAMPO-FORMIO'), radius=6, stroke=False), CircleMarker(color='#000951', fill_color='#000951', fill_opacity=0.7, location=['48.8395671983', ' 2.39595292659'], opacity=0.7, options=['class_name', 'color', 'dash_array', 'fill', 'fill_color', 'fill_opacity', 'line_cap', 'line_join', 'opacity', 'pointer_events', 'radius', 'stroke', 'weight'], popup=HTML(value='DAUMESNIL'), radius=6, stroke=False), CircleMarker(color='#000951', fill_color='#000951', fill_opacity=0.7, location=['48.8390411437', ' 2.38962001542'], opacity=0.7, options=['class_name', 'color', 'dash_array', 'fill', 'fill_color', 'fill_opacity', 'line_cap', 'line_join', 'opacity', 'pointer_events', 'radius', 'stroke', 'weight'], popup=HTML(value='DUGOMMIER'), radius=6, stroke=False), CircleMarker(color='#000951', fill_color='#000951', fill_opacity=0.7, location=['48.8370451202', ' 2.37282572454'], opacity=0.7, options=['class_name', 'color', 'dash_array', 'fill', 'fill_color', 'fill_opacity', 'line_cap', 'line_join', 'opacity', 'pointer_events', 'radius', 'stroke', 'weight'], popup=HTML(value='QUAI DE LA GARE'), radius=6, stroke=False), CircleMarker(color='#000951', fill_color='#000951', fill_opacity=0.7, location=['48.8406632293', ' 2.32638461079'], opacity=0.7, options=['class_name', 'color', 'dash_array', 'fill', 'fill_color', 'fill_opacity', 'line_cap', 'line_join', 'opacity', 'pointer_events', 'radius', 'stroke', 'weight'], popup=HTML(value='EDGAR QUINET'), radius=6, stroke=False), CircleMarker(color='#000951', fill_color='#000951', fill_opacity=0.7, location=['48.8456269668', ' 2.30953149282'], opacity=0.7, options=['class_name', 'color', 'dash_array', 'fill', 'fill_color', 'fill_opacity', 'line_cap', 'line_join', 'opacity', 'pointer_events', 'radius', 'stroke', 'weight'], popup=HTML(value='SEVRES-LECOURBE'), radius=6, stroke=False), CircleMarker(color='#000951', fill_color='#000951', fill_opacity=0.7, location=['48.847507082', ' 2.30296829645'], opacity=0.7, options=['class_name', 'color', 'dash_array', 'fill', 'fill_color', 'fill_opacity', 'line_cap', 'line_join', 'opacity', 'pointer_events', 'radius', 'stroke', 'weight'], popup=HTML(value='CAMBRONNE'), radius=6, stroke=False), CircleMarker(color='#000951', fill_color='#000951', fill_opacity=0.7, location=['48.8669831094', ' 2.29005883358'], opacity=0.7, options=['class_name', 'color', 'dash_array', 'fill', 'fill_color', 'fill_opacity', 'line_cap', 'line_join', 'opacity', 'pointer_events', 'radius', 'stroke', 'weight'], popup=HTML(value='BOISSIERE'), radius=6, stroke=False), CircleMarker(color='#000951', fill_color='#000951', fill_opacity=0.7, location=['48.9037599311', ' 2.39228705963'], opacity=0.7, options=['class_name', 'color', 'dash_array', 'fill', 'fill_color', 'fill_opacity', 'line_cap', 'line_join', 'opacity', 'pointer_events', 'radius', 'stroke', 'weight'], popup=HTML(value='AUBERVILLIERS-PANTIN (QUATRE CHEMINS)'), radius=6, stroke=False), CircleMarker(color='#000951', fill_color='#000951', fill_opacity=0.7, location=['48.881584251', ' 2.3659210371'], opacity=0.7, options=['class_name', 'color', 'dash_array', 'fill', 'fill_color', 'fill_opacity', 'line_cap', 'line_join', 'opacity', 'pointer_events', 'radius', 'stroke', 'weight'], popup=HTML(value='LOUIS BLANC'), radius=6, stroke=False), CircleMarker(color='#000951', fill_color='#000951', fill_opacity=0.7, location=['48.8358634878', ' 2.35258892287'], opacity=0.7, options=['class_name', 'color', 'dash_array', 'fill', 'fill_color', 'fill_opacity', 'line_cap', 'line_join', 'opacity', 'pointer_events', 'radius', 'stroke', 'weight'], popup=HTML(value='LES GOBELINS'), radius=6, stroke=False), CircleMarker(color='#000951', fill_color='#000951', fill_opacity=0.7, location=['48.8110991977', ' 2.38355147965'], opacity=0.7, options=['class_name', 'color', 'dash_array', 'fill', 'fill_color', 'fill_opacity', 'line_cap', 'line_join', 'opacity', 'pointer_events', 'radius', 'stroke', 'weight'], popup=HTML(value=\"MAIRIE D'IVRY\"), radius=6, stroke=False), CircleMarker(color='#000951', fill_color='#000951', fill_opacity=0.7, location=['48.8101299573', ' 2.36226338713'], opacity=0.7, options=['class_name', 'color', 'dash_array', 'fill', 'fill_color', 'fill_opacity', 'line_cap', 'line_join', 'opacity', 'pointer_events', 'radius', 'stroke', 'weight'], popup=HTML(value='LE KREMLIN-BICETRE'), radius=6, stroke=False), CircleMarker(color='#000951', fill_color='#000951', fill_opacity=0.7, location=['48.8389609394', ' 2.28270002724'], opacity=0.7, options=['class_name', 'color', 'dash_array', 'fill', 'fill_color', 'fill_opacity', 'line_cap', 'line_join', 'opacity', 'pointer_events', 'radius', 'stroke', 'weight'], popup=HTML(value='LOURMEL'), radius=6, stroke=False), CircleMarker(color='#000951', fill_color='#000951', fill_opacity=0.7, location=['48.8427467798', ' 2.29191241332'], opacity=0.7, options=['class_name', 'color', 'dash_array', 'fill', 'fill_color', 'fill_opacity', 'line_cap', 'line_join', 'opacity', 'pointer_events', 'radius', 'stroke', 'weight'], popup=HTML(value='FELIX FAURE'), radius=6, stroke=False), CircleMarker(color='#000951', fill_color='#000951', fill_opacity=0.7, location=['48.8447947646', ' 2.29395196364'], opacity=0.7, options=['class_name', 'color', 'dash_array', 'fill', 'fill_color', 'fill_opacity', 'line_cap', 'line_join', 'opacity', 'pointer_events', 'radius', 'stroke', 'weight'], popup=HTML(value='COMMERCE'), radius=6, stroke=False), CircleMarker(color='#000951', fill_color='#000951', fill_opacity=0.7, location=['48.8574200375', ' 2.3681082907'], opacity=0.7, options=['class_name', 'color', 'dash_array', 'fill', 'fill_color', 'fill_opacity', 'line_cap', 'line_join', 'opacity', 'pointer_events', 'radius', 'stroke', 'weight'], popup=HTML(value='CHEMIN VERT'), radius=6, stroke=False), CircleMarker(color='#000951', fill_color='#000951', fill_opacity=0.7, location=['48.8512711264', ' 2.3761187747'], opacity=0.7, options=['class_name', 'color', 'dash_array', 'fill', 'fill_color', 'fill_opacity', 'line_cap', 'line_join', 'opacity', 'pointer_events', 'radius', 'stroke', 'weight'], popup=HTML(value='LEDRU-ROLLIN'), radius=6, stroke=False), CircleMarker(color='#000951', fill_color='#000951', fill_opacity=0.7, location=['48.8215957673', ' 2.41373751615'], opacity=0.7, options=['class_name', 'color', 'dash_array', 'fill', 'fill_color', 'fill_opacity', 'line_cap', 'line_join', 'opacity', 'pointer_events', 'radius', 'stroke', 'weight'], popup=HTML(value='CHARENTON-ECOLES'), radius=6, stroke=False), CircleMarker(color='#000951', fill_color='#000951', fill_opacity=0.7, location=['48.7899783103', ' 2.45045317792'], opacity=0.7, options=['class_name', 'color', 'dash_array', 'fill', 'fill_color', 'fill_opacity', 'line_cap', 'line_join', 'opacity', 'pointer_events', 'radius', 'stroke', 'weight'], popup=HTML(value='CRETEIL-UNIVERSITE'), radius=6, stroke=False), CircleMarker(color='#000951', fill_color='#000951', fill_opacity=0.7, location=['48.779905317', ' 2.45936839626'], opacity=0.7, options=['class_name', 'color', 'dash_array', 'fill', 'fill_color', 'fill_opacity', 'line_cap', 'line_join', 'opacity', 'pointer_events', 'radius', 'stroke', 'weight'], popup=HTML(value='CRETEIL-PREFECTURE (HOTEL DE VILLE)'), radius=6, stroke=False), CircleMarker(color='#000951', fill_color='#000951', fill_opacity=0.7, location=['48.83370885', ' 2.24384059509'], opacity=0.7, options=['class_name', 'color', 'dash_array', 'fill', 'fill_color', 'fill_opacity', 'line_cap', 'line_join', 'opacity', 'pointer_events', 'radius', 'stroke', 'weight'], popup=HTML(value='MARCEL SEMBAT'), radius=6, stroke=False), CircleMarker(color='#000951', fill_color='#000951', fill_opacity=0.7, location=['48.7687151253', ' 2.46456499321'], opacity=0.7, options=['class_name', 'color', 'dash_array', 'fill', 'fill_color', 'fill_opacity', 'line_cap', 'line_join', 'opacity', 'pointer_events', 'radius', 'stroke', 'weight'], popup=HTML(value='CRETEIL-P. LAC'), radius=6, stroke=False), CircleMarker(color='#000951', fill_color='#000951', fill_opacity=0.7, location=['48.9207859691', ' 2.4105986151'], opacity=0.7, options=['class_name', 'color', 'dash_array', 'fill', 'fill_color', 'fill_opacity', 'line_cap', 'line_join', 'opacity', 'pointer_events', 'radius', 'stroke', 'weight'], popup=HTML(value='LA COURNEUVE 8 MAI 1945'), radius=6, stroke=False), CircleMarker(color='#000951', fill_color='#000951', fill_opacity=0.7, location=['48.9373047355', ' 2.36007214164'], opacity=0.7, options=['class_name', 'color', 'dash_array', 'fill', 'fill_color', 'fill_opacity', 'line_cap', 'line_join', 'opacity', 'pointer_events', 'radius', 'stroke', 'weight'], popup=HTML(value='BASILIQUE DE SAINT-DENIS'), radius=6, stroke=False), CircleMarker(color='#000951', fill_color='#000951', fill_opacity=0.7, location=['48.8482371104', ' 2.39582358883'], opacity=0.7, options=['class_name', 'color', 'dash_array', 'fill', 'fill_color', 'fill_opacity', 'line_cap', 'line_join', 'opacity', 'pointer_events', 'radius', 'stroke', 'weight'], popup=HTML(value='NATION'), radius=6, stroke=False), CircleMarker(color='#000951', fill_color='#000951', fill_opacity=0.7, location=['48.8423600825', ' 2.36558170411'], opacity=0.7, options=['class_name', 'color', 'dash_array', 'fill', 'fill_color', 'fill_opacity', 'line_cap', 'line_join', 'opacity', 'pointer_events', 'radius', 'stroke', 'weight'], popup=HTML(value='AUSTERLITZ'), radius=6, stroke=False), CircleMarker(color='#000951', fill_color='#000951', fill_opacity=0.7, location=['48.8411869211', ' 2.32050922753'], opacity=0.7, options=['class_name', 'color', 'dash_array', 'fill', 'fill_color', 'fill_opacity', 'line_cap', 'line_join', 'opacity', 'pointer_events', 'radius', 'stroke', 'weight'], popup=HTML(value='MONTPARNASSE'), radius=6, stroke=False), CircleMarker(color='#000951', fill_color='#000951', fill_opacity=0.7, location=['48.8342929805', ' 2.33285230996'], opacity=0.7, options=['class_name', 'color', 'dash_array', 'fill', 'fill_color', 'fill_opacity', 'line_cap', 'line_join', 'opacity', 'pointer_events', 'radius', 'stroke', 'weight'], popup=HTML(value='DENFERT-ROCHEREAU'), radius=6, stroke=False), CircleMarker(color='#000951', fill_color='#000951', fill_opacity=0.7, location=['48.8629018442', ' 2.31390890638'], opacity=0.7, options=['class_name', 'color', 'dash_array', 'fill', 'fill_color', 'fill_opacity', 'line_cap', 'line_join', 'opacity', 'pointer_events', 'radius', 'stroke', 'weight'], popup=HTML(value='INVALIDES'), radius=6, stroke=False), CircleMarker(color='#000951', fill_color='#000951', fill_opacity=0.7, location=['48.8326011924', ' 2.28825267741'], opacity=0.7, options=['class_name', 'color', 'dash_array', 'fill', 'fill_color', 'fill_opacity', 'line_cap', 'line_join', 'opacity', 'pointer_events', 'radius', 'stroke', 'weight'], popup=HTML(value='PORTE DE VERSAILLES'), radius=6, stroke=False), CircleMarker(color='#000951', fill_color='#000951', fill_opacity=0.7, location=['48.8190515147', ' 2.36012974202'], opacity=0.7, options=['class_name', 'color', 'dash_array', 'fill', 'fill_color', 'fill_opacity', 'line_cap', 'line_join', 'opacity', 'pointer_events', 'radius', 'stroke', 'weight'], popup=HTML(value=\"PORTE D'ITALIE\"), radius=6, stroke=False), CircleMarker(color='#000951', fill_color='#000951', fill_opacity=0.7, location=['48.8107464877', ' 2.30167855683'], opacity=0.7, options=['class_name', 'color', 'dash_array', 'fill', 'fill_color', 'fill_opacity', 'line_cap', 'line_join', 'opacity', 'pointer_events', 'radius', 'stroke', 'weight'], popup=HTML(value='CHATILLON-MONTROUGE'), radius=6, stroke=False), CircleMarker(color='#000951', fill_color='#000951', fill_opacity=0.7, location=['48.8742384766', ' 2.29449059147'], opacity=0.7, options=['class_name', 'color', 'dash_array', 'fill', 'fill_color', 'fill_opacity', 'line_cap', 'line_join', 'opacity', 'pointer_events', 'radius', 'stroke', 'weight'], popup=HTML(value='CHARLES DE GAULLE ETOILE'), radius=6, stroke=False), CircleMarker(color='#000951', fill_color='#000951', fill_opacity=0.7, location=['48.8454707076', ' 2.42920516635'], opacity=0.7, options=['class_name', 'color', 'dash_array', 'fill', 'fill_color', 'fill_opacity', 'line_cap', 'line_join', 'opacity', 'pointer_events', 'radius', 'stroke', 'weight'], popup=HTML(value='BERAULT'), radius=6, stroke=False), CircleMarker(color='#000951', fill_color='#000951', fill_opacity=0.7, location=['48.8552362528', ' 2.36095648866'], opacity=0.7, options=['class_name', 'color', 'dash_array', 'fill', 'fill_color', 'fill_opacity', 'line_cap', 'line_join', 'opacity', 'pointer_events', 'radius', 'stroke', 'weight'], popup=HTML(value='SAINT-PAUL (LE MARAIS)'), radius=6, stroke=False), CircleMarker(color='#000951', fill_color='#000951', fill_opacity=0.7, location=['48.8643437787', ' 2.33012987711'], opacity=0.7, options=['class_name', 'color', 'dash_array', 'fill', 'fill_color', 'fill_opacity', 'line_cap', 'line_join', 'opacity', 'pointer_events', 'radius', 'stroke', 'weight'], popup=HTML(value='TUILERIES'), radius=6, stroke=False), CircleMarker(color='#000951', fill_color='#000951', fill_opacity=0.7, location=['48.8677997345', ' 2.31388193768'], opacity=0.7, options=['class_name', 'color', 'dash_array', 'fill', 'fill_color', 'fill_opacity', 'line_cap', 'line_join', 'opacity', 'pointer_events', 'radius', 'stroke', 'weight'], popup=HTML(value='CHAMPS-ELYSEES-CLEMENCEAU'), radius=6, stroke=False), CircleMarker(color='#000951', fill_color='#000951', fill_opacity=0.7, location=['48.8886312178', ' 2.24793243532'], opacity=0.7, options=['class_name', 'color', 'dash_array', 'fill', 'fill_color', 'fill_opacity', 'line_cap', 'line_join', 'opacity', 'pointer_events', 'radius', 'stroke', 'weight'], popup=HTML(value='ESPLANADE DE LA DEFENSE'), radius=6, stroke=False), CircleMarker(color='#000951', fill_color='#000951', fill_opacity=0.7, location=['48.827270836', ' 2.36803264776'], opacity=0.7, options=['class_name', 'color', 'dash_array', 'fill', 'fill_color', 'fill_opacity', 'line_cap', 'line_join', 'opacity', 'pointer_events', 'radius', 'stroke', 'weight'], popup=HTML(value='OLYMPIADES'), radius=6, stroke=False), CircleMarker(color='#000951', fill_color='#000951', fill_opacity=0.7, location=['48.8186764099', ' 2.3197403133'], opacity=0.7, options=['class_name', 'color', 'dash_array', 'fill', 'fill_color', 'fill_opacity', 'line_cap', 'line_join', 'opacity', 'pointer_events', 'radius', 'stroke', 'weight'], popup=HTML(value='M. MONTROUGE'), radius=6, stroke=False), CircleMarker(color='#000951', fill_color='#000951', fill_opacity=0.7, location=['48.8535439161', ' 2.41062642574'], opacity=0.7, options=['class_name', 'color', 'dash_array', 'fill', 'fill_color', 'fill_opacity', 'line_cap', 'line_join', 'opacity', 'pointer_events', 'radius', 'stroke', 'weight'], popup=HTML(value='PORTE DE MONTREUIL'), radius=6, stroke=False), CircleMarker(color='#000951', fill_color='#000951', fill_opacity=0.7, location=['48.8471584794', ' 2.41014036797'], opacity=0.7, options=['class_name', 'color', 'dash_array', 'fill', 'fill_color', 'fill_opacity', 'line_cap', 'line_join', 'opacity', 'pointer_events', 'radius', 'stroke', 'weight'], popup=HTML(value='PORTE DE VINCENNES'), radius=6, stroke=False), CircleMarker(color='#000951', fill_color='#000951', fill_opacity=0.7, location=['48.8773496006', ' 2.28379555701'], opacity=0.7, options=['class_name', 'color', 'dash_array', 'fill', 'fill_color', 'fill_opacity', 'line_cap', 'line_join', 'opacity', 'pointer_events', 'radius', 'stroke', 'weight'], popup=HTML(value='PORTE MAILLOT'), radius=6, stroke=False), CircleMarker(color='#000951', fill_color='#000951', fill_opacity=0.7, location=['48.9307570033', ' 2.28417444828'], opacity=0.7, options=['class_name', 'color', 'dash_array', 'fill', 'fill_color', 'fill_opacity', 'line_cap', 'line_join', 'opacity', 'pointer_events', 'radius', 'stroke', 'weight'], popup=HTML(value='LES COURTILLES'), radius=6, stroke=False), CircleMarker(color='#000951', fill_color='#000951', fill_opacity=0.7, location=['48.9063747703', ' 2.44918990449'], opacity=0.7, options=['class_name', 'color', 'dash_array', 'fill', 'fill_color', 'fill_opacity', 'line_cap', 'line_join', 'opacity', 'pointer_events', 'radius', 'stroke', 'weight'], popup=HTML(value='BOBIGNY-PABLO PICASSO'), radius=6, stroke=False), CircleMarker(color='#000951', fill_color='#000951', fill_opacity=0.7, location=['48.8983929533', ' 2.35939390112'], opacity=0.7, options=['class_name', 'color', 'dash_array', 'fill', 'fill_color', 'fill_opacity', 'line_cap', 'line_join', 'opacity', 'pointer_events', 'radius', 'stroke', 'weight'], popup=HTML(value='PORTE DE LA CHAPELLE'), radius=6, stroke=False), CircleMarker(color='#000951', fill_color='#000951', fill_opacity=0.7, location=['48.8645851911', ' 2.40875994842'], opacity=0.7, options=['class_name', 'color', 'dash_array', 'fill', 'fill_color', 'fill_opacity', 'line_cap', 'line_join', 'opacity', 'pointer_events', 'radius', 'stroke', 'weight'], popup=HTML(value='PORTE DE BAGNOLET'), radius=6, stroke=False), CircleMarker(color='#000951', fill_color='#000951', fill_opacity=0.7, location=['48.8441393499', ' 2.37325997807'], opacity=0.7, options=['class_name', 'color', 'dash_array', 'fill', 'fill_color', 'fill_opacity', 'line_cap', 'line_join', 'opacity', 'pointer_events', 'radius', 'stroke', 'weight'], popup=HTML(value='GARE DE LYON'), radius=6, stroke=False), CircleMarker(color='#000951', fill_color='#000951', fill_opacity=0.7, location=['48.8347644599', ' 2.40534934295'], opacity=0.7, options=['class_name', 'color', 'dash_array', 'fill', 'fill_color', 'fill_opacity', 'line_cap', 'line_join', 'opacity', 'pointer_events', 'radius', 'stroke', 'weight'], popup=HTML(value='PORTE DOREE'), radius=6, stroke=False), CircleMarker(color='#000951', fill_color='#000951', fill_opacity=0.7, location=['48.8323049605', ' 2.39918151028'], opacity=0.7, options=['class_name', 'color', 'dash_array', 'fill', 'fill_color', 'fill_opacity', 'line_cap', 'line_join', 'opacity', 'pointer_events', 'radius', 'stroke', 'weight'], popup=HTML(value='PORTE DE CHARENTON'), radius=6, stroke=False), CircleMarker(color='#000951', fill_color='#000951', fill_opacity=0.7, location=['48.8850284222', ' 2.29736230072'], opacity=0.7, options=['class_name', 'color', 'dash_array', 'fill', 'fill_color', 'fill_opacity', 'line_cap', 'line_join', 'opacity', 'pointer_events', 'radius', 'stroke', 'weight'], popup=HTML(value='PEREIRE-LEVALLOIS'), radius=6, stroke=False), CircleMarker(color='#000951', fill_color='#000951', fill_opacity=0.7, location=['48.8977647714', ' 2.34486089248'], opacity=0.7, options=['class_name', 'color', 'dash_array', 'fill', 'fill_color', 'fill_opacity', 'line_cap', 'line_join', 'opacity', 'pointer_events', 'radius', 'stroke', 'weight'], popup=HTML(value='PORTE DE CLIGNANCOURT'), radius=6, stroke=False), CircleMarker(color='#000951', fill_color='#000951', fill_opacity=0.7, location=['48.9299358906', ' 2.35603579553'], opacity=0.7, options=['class_name', 'color', 'dash_array', 'fill', 'fill_color', 'fill_opacity', 'line_cap', 'line_join', 'opacity', 'pointer_events', 'radius', 'stroke', 'weight'], popup=HTML(value='SAINT-DENIS-PORTE DE PARIS'), radius=6, stroke=False), CircleMarker(color='#000951', fill_color='#000951', fill_opacity=0.7, location=['48.8973898916', ' 2.38550838767'], opacity=0.7, options=['class_name', 'color', 'dash_array', 'fill', 'fill_color', 'fill_opacity', 'line_cap', 'line_join', 'opacity', 'pointer_events', 'radius', 'stroke', 'weight'], popup=HTML(value='PORTE DE LA VILLETTE'), radius=6, stroke=False), CircleMarker(color='#000951', fill_color='#000951', fill_opacity=0.7, location=['48.8894726577', ' 2.39579532816'], opacity=0.7, options=['class_name', 'color', 'dash_array', 'fill', 'fill_color', 'fill_opacity', 'line_cap', 'line_join', 'opacity', 'pointer_events', 'radius', 'stroke', 'weight'], popup=HTML(value='PORTE DE PANTIN'), radius=6, stroke=False), CircleMarker(color='#000951', fill_color='#000951', fill_opacity=0.7, location=['48.8773756199', ' 2.35945661694'], opacity=0.7, options=['class_name', 'color', 'dash_array', 'fill', 'fill_color', 'fill_opacity', 'line_cap', 'line_join', 'opacity', 'pointer_events', 'radius', 'stroke', 'weight'], popup=HTML(value=\"GARE DE L'EST\"), radius=6, stroke=False), CircleMarker(color='#000951', fill_color='#000951', fill_opacity=0.7, location=['48.8772136604', ' 2.40660986512'], opacity=0.7, options=['class_name', 'color', 'dash_array', 'fill', 'fill_color', 'fill_opacity', 'line_cap', 'line_join', 'opacity', 'pointer_events', 'radius', 'stroke', 'weight'], popup=HTML(value='PORTE DES LILAS'), radius=6, stroke=False), CircleMarker(color='#000951', fill_color='#000951', fill_opacity=0.7, location=['48.8461921405', ' 2.27676096738'], opacity=0.7, options=['class_name', 'color', 'dash_array', 'fill', 'fill_color', 'fill_opacity', 'line_cap', 'line_join', 'opacity', 'pointer_events', 'radius', 'stroke', 'weight'], popup=HTML(value='JAVEL'), radius=6, stroke=False), CircleMarker(color='#000951', fill_color='#000951', fill_opacity=0.7, location=['48.8360967841', ' 2.27823795192'], opacity=0.7, options=['class_name', 'color', 'dash_array', 'fill', 'fill_color', 'fill_opacity', 'line_cap', 'line_join', 'opacity', 'pointer_events', 'radius', 'stroke', 'weight'], popup=HTML(value='BALARD'), radius=6, stroke=False), CircleMarker(color='#000951', fill_color='#000951', fill_opacity=0.7, location=['48.8277046117', ' 2.30534093081'], opacity=0.7, options=['class_name', 'color', 'dash_array', 'fill', 'fill_color', 'fill_opacity', 'line_cap', 'line_join', 'opacity', 'pointer_events', 'radius', 'stroke', 'weight'], popup=HTML(value='PORTE DE VANVES'), radius=6, stroke=False), CircleMarker(color='#000951', fill_color='#000951', fill_opacity=0.7, location=['48.8231516331', ' 2.32550957782'], opacity=0.7, options=['class_name', 'color', 'dash_array', 'fill', 'fill_color', 'fill_opacity', 'line_cap', 'line_join', 'opacity', 'pointer_events', 'radius', 'stroke', 'weight'], popup=HTML(value=\"PORTE D'ORLEANS\"), radius=6, stroke=False), CircleMarker(color='#000951', fill_color='#000951', fill_opacity=0.7, location=['48.8302584573', ' 2.37631072139'], opacity=0.7, options=['class_name', 'color', 'dash_array', 'fill', 'fill_color', 'fill_opacity', 'line_cap', 'line_join', 'opacity', 'pointer_events', 'radius', 'stroke', 'weight'], popup=HTML(value='BIBLIOTHEQUE FRANCOIS MITTERRAND'), radius=6, stroke=False), CircleMarker(color='#000951', fill_color='#000951', fill_opacity=0.7, location=['48.8921870764', ' 2.2370180564'], opacity=0.7, options=['class_name', 'color', 'dash_array', 'fill', 'fill_color', 'fill_opacity', 'line_cap', 'line_join', 'opacity', 'pointer_events', 'radius', 'stroke', 'weight'], popup=HTML(value='LA DEFENSE-GRANDE ARCHE'), radius=6, stroke=False), CircleMarker(color='#000951', fill_color='#000951', fill_opacity=0.7, location=['48.8941683862', ' 2.31559921918'], opacity=0.7, options=['class_name', 'color', 'dash_array', 'fill', 'fill_color', 'fill_opacity', 'line_cap', 'line_join', 'opacity', 'pointer_events', 'radius', 'stroke', 'weight'], popup=HTML(value='PORTE DE CLICHY'), radius=6, stroke=False), CircleMarker(color='#000951', fill_color='#000951', fill_opacity=0.7, location=['48.9231037797', ' 2.28627957753'], opacity=0.7, options=['class_name', 'color', 'dash_array', 'fill', 'fill_color', 'fill_opacity', 'line_cap', 'line_join', 'opacity', 'pointer_events', 'radius', 'stroke', 'weight'], popup=HTML(value='LES AGNETTES-ASNIERES-GENNEVILLIERS'), radius=6, stroke=False), CircleMarker(color='#000951', fill_color='#000951', fill_opacity=0.7, location=['48.906567146', ' 2.3659203194'], opacity=0.7, options=['class_name', 'color', 'dash_array', 'fill', 'fill_color', 'fill_opacity', 'line_cap', 'line_join', 'opacity', 'pointer_events', 'radius', 'stroke', 'weight'], popup=HTML(value='FR. POPULAIRE'), radius=6, stroke=False), CircleMarker(color='#000951', fill_color='#000951', fill_opacity=0.7, location=['48.8809220076', ' 2.35632854366'], opacity=0.7, options=['class_name', 'color', 'dash_array', 'fill', 'fill_color', 'fill_opacity', 'line_cap', 'line_join', 'opacity', 'pointer_events', 'radius', 'stroke', 'weight'], popup=HTML(value='GARE DU NORD'), radius=6, stroke=False), CircleMarker(color='#000951', fill_color='#000951', fill_opacity=0.7, location=['48.8759331524', ' 2.32572796139'], opacity=0.7, options=['class_name', 'color', 'dash_array', 'fill', 'fill_color', 'fill_opacity', 'line_cap', 'line_join', 'opacity', 'pointer_events', 'radius', 'stroke', 'weight'], popup=HTML(value='SAINT-LAZARE'), radius=6, stroke=False), CircleMarker(color='#000951', fill_color='#000951', fill_opacity=0.7, location=['48.8532518986', ' 2.34466048015'], opacity=0.7, options=['class_name', 'color', 'dash_array', 'fill', 'fill_color', 'fill_opacity', 'line_cap', 'line_join', 'opacity', 'pointer_events', 'radius', 'stroke', 'weight'], popup=HTML(value='SAINT-MICHEL'), radius=6, stroke=False), CircleMarker(color='#000951', fill_color='#000951', fill_opacity=0.7, location=['48.8197612667', ' 2.36401545947'], opacity=0.7, options=['class_name', 'color', 'dash_array', 'fill', 'fill_color', 'fill_opacity', 'line_cap', 'line_join', 'opacity', 'pointer_events', 'radius', 'stroke', 'weight'], popup=HTML(value='PORTE DE CHOISY'), radius=6, stroke=False), CircleMarker(color='#000951', fill_color='#000951', fill_opacity=0.7, location=['48.8213557838', ' 2.36929058735'], opacity=0.7, options=['class_name', 'color', 'dash_array', 'fill', 'fill_color', 'fill_opacity', 'line_cap', 'line_join', 'opacity', 'pointer_events', 'radius', 'stroke', 'weight'], popup=HTML(value=\"PORTE D'IVRY\"), radius=6, stroke=False), CircleMarker(color='#000951', fill_color='#000951', fill_opacity=0.7, location=['48.7875627921', ' 2.36780410698'], opacity=0.7, options=['class_name', 'color', 'dash_array', 'fill', 'fill_color', 'fill_opacity', 'line_cap', 'line_join', 'opacity', 'pointer_events', 'radius', 'stroke', 'weight'], popup=HTML(value='VILLEJUIF-LOUIS ARAGON'), radius=6, stroke=False), CircleMarker(color='#000951', fill_color='#000951', fill_opacity=0.7, location=['48.8563773572', ' 2.39456194456'], opacity=0.7, options=['class_name', 'color', 'dash_array', 'fill', 'fill_color', 'fill_opacity', 'line_cap', 'line_join', 'opacity', 'pointer_events', 'radius', 'stroke', 'weight'], popup=HTML(value='ALEXANDRE DUMAS'), radius=6, stroke=False), CircleMarker(color='#000951', fill_color='#000951', fill_opacity=0.7, location=['48.8584665494', ' 2.38972985235'], opacity=0.7, options=['class_name', 'color', 'dash_array', 'fill', 'fill_color', 'fill_opacity', 'line_cap', 'line_join', 'opacity', 'pointer_events', 'radius', 'stroke', 'weight'], popup=HTML(value='PHILIPPE AUGUSTE'), radius=6, stroke=False), CircleMarker(color='#000951', fill_color='#000951', fill_opacity=0.7, location=['48.8776101874', ' 2.37081139531'], opacity=0.7, options=['class_name', 'color', 'dash_array', 'fill', 'fill_color', 'fill_opacity', 'line_cap', 'line_join', 'opacity', 'pointer_events', 'radius', 'stroke', 'weight'], popup=HTML(value='COLONEL FABIEN'), radius=6, stroke=False), CircleMarker(color='#000951', fill_color='#000951', fill_opacity=0.7, location=['48.8714665781', ' 2.27708301705'], opacity=0.7, options=['class_name', 'color', 'dash_array', 'fill', 'fill_color', 'fill_opacity', 'line_cap', 'line_join', 'opacity', 'pointer_events', 'radius', 'stroke', 'weight'], popup=HTML(value='PORTE DAUPHINE'), radius=6, stroke=False), CircleMarker(color='#000951', fill_color='#000951', fill_opacity=0.7, location=['48.8640865748', ' 2.38079798618'], opacity=0.7, options=['class_name', 'color', 'dash_array', 'fill', 'fill_color', 'fill_opacity', 'line_cap', 'line_join', 'opacity', 'pointer_events', 'radius', 'stroke', 'weight'], popup=HTML(value='SAINT-MAUR'), radius=6, stroke=False), CircleMarker(color='#000951', fill_color='#000951', fill_opacity=0.7, location=['48.8666826802', ' 2.36154153207'], opacity=0.7, options=['class_name', 'color', 'dash_array', 'fill', 'fill_color', 'fill_opacity', 'line_cap', 'line_join', 'opacity', 'pointer_events', 'radius', 'stroke', 'weight'], popup=HTML(value='TEMPLE'), radius=6, stroke=False), CircleMarker(color='#000951', fill_color='#000951', fill_opacity=0.7, location=['48.8655864776', ' 2.35673675681'], opacity=0.7, options=['class_name', 'color', 'dash_array', 'fill', 'fill_color', 'fill_opacity', 'line_cap', 'line_join', 'opacity', 'pointer_events', 'radius', 'stroke', 'weight'], popup=HTML(value='ARTS ET METIERS'), radius=6, stroke=False), CircleMarker(color='#000951', fill_color='#000951', fill_opacity=0.7, location=['48.8978210671', ' 2.27980958669'], opacity=0.7, options=['class_name', 'color', 'dash_array', 'fill', 'fill_color', 'fill_opacity', 'line_cap', 'line_join', 'opacity', 'pointer_events', 'radius', 'stroke', 'weight'], popup=HTML(value='PONT DE LEVALLOIS-BECON'), radius=6, stroke=False), CircleMarker(color='#000951', fill_color='#000951', fill_opacity=0.7, location=['48.8638074387', ' 2.34888065667'], opacity=0.7, options=['class_name', 'color', 'dash_array', 'fill', 'fill_color', 'fill_opacity', 'line_cap', 'line_join', 'opacity', 'pointer_events', 'radius', 'stroke', 'weight'], popup=HTML(value='ETIENNE-MARCEL'), radius=6, stroke=False), CircleMarker(color='#000951', fill_color='#000951', fill_opacity=0.7, location=['48.8549363802', ' 2.34732131841'], opacity=0.7, options=['class_name', 'color', 'dash_array', 'fill', 'fill_color', 'fill_opacity', 'line_cap', 'line_join', 'opacity', 'pointer_events', 'radius', 'stroke', 'weight'], popup=HTML(value='CITE'), radius=6, stroke=False), CircleMarker(color='#000951', fill_color='#000951', fill_opacity=0.7, location=['48.8389642807', ' 2.33075419209'], opacity=0.7, options=['class_name', 'color', 'dash_array', 'fill', 'fill_color', 'fill_opacity', 'line_cap', 'line_join', 'opacity', 'pointer_events', 'radius', 'stroke', 'weight'], popup=HTML(value='RASPAIL'), radius=6, stroke=False), CircleMarker(color='#000951', fill_color='#000951', fill_opacity=0.7, location=['48.89325759', ' 2.41331313951'], opacity=0.7, options=['class_name', 'color', 'dash_array', 'fill', 'fill_color', 'fill_opacity', 'line_cap', 'line_join', 'opacity', 'pointer_events', 'radius', 'stroke', 'weight'], popup=HTML(value='EGLISE DE PANTIN'), radius=6, stroke=False), CircleMarker(color='#000951', fill_color='#000951', fill_opacity=0.7, location=['48.8384272961', ' 2.36096716635'], opacity=0.7, options=['class_name', 'color', 'dash_array', 'fill', 'fill_color', 'fill_opacity', 'line_cap', 'line_join', 'opacity', 'pointer_events', 'radius', 'stroke', 'weight'], popup=HTML(value='SAINT-MARCEL'), radius=6, stroke=False), CircleMarker(color='#000951', fill_color='#000951', fill_opacity=0.7, location=['48.8639744458', ' 2.27811256254'], opacity=0.7, options=['class_name', 'color', 'dash_array', 'fill', 'fill_color', 'fill_opacity', 'line_cap', 'line_join', 'opacity', 'pointer_events', 'radius', 'stroke', 'weight'], popup=HTML(value='RUE DE LA POMPE (AVENUE GEORGES MANDEL)'), radius=6, stroke=False), CircleMarker(color='#000951', fill_color='#000951', fill_opacity=0.7, location=['48.8647940649', ' 2.29416201403'], opacity=0.7, options=['class_name', 'color', 'dash_array', 'fill', 'fill_color', 'fill_opacity', 'line_cap', 'line_join', 'opacity', 'pointer_events', 'radius', 'stroke', 'weight'], popup=HTML(value='IENA'), radius=6, stroke=False), CircleMarker(color='#000951', fill_color='#000951', fill_opacity=0.7, location=['48.8690265273', ' 2.30993538871'], opacity=0.7, options=['class_name', 'color', 'dash_array', 'fill', 'fill_color', 'fill_opacity', 'line_cap', 'line_join', 'opacity', 'pointer_events', 'radius', 'stroke', 'weight'], popup=HTML(value='FRANKLIN-D.ROOSEVELT'), radius=6, stroke=False), CircleMarker(color='#000951', fill_color='#000951', fill_opacity=0.7, location=['48.8523154274', ' 2.38937812792'], opacity=0.7, options=['class_name', 'color', 'dash_array', 'fill', 'fill_color', 'fill_opacity', 'line_cap', 'line_join', 'opacity', 'pointer_events', 'radius', 'stroke', 'weight'], popup=HTML(value='RUE DES BOULETS'), radius=6, stroke=False), CircleMarker(color='#000951', fill_color='#000951', fill_opacity=0.7, location=['48.8557264286', ' 2.42298321615'], opacity=0.7, options=['class_name', 'color', 'dash_array', 'fill', 'fill_color', 'fill_opacity', 'line_cap', 'line_join', 'opacity', 'pointer_events', 'radius', 'stroke', 'weight'], popup=HTML(value='ROBESPIERRE'), radius=6, stroke=False), CircleMarker(color='#000951', fill_color='#000951', fill_opacity=0.7, location=['48.8579655921', ' 2.43555571977'], opacity=0.7, options=['class_name', 'color', 'dash_array', 'fill', 'fill_color', 'fill_opacity', 'line_cap', 'line_join', 'opacity', 'pointer_events', 'radius', 'stroke', 'weight'], popup=HTML(value='CROIX DE CHAVAUX (JACQUES DUCLOS)'), radius=6, stroke=False), CircleMarker(color='#000951', fill_color='#000951', fill_opacity=0.7, location=['48.8471500557', ' 2.26913587273'], opacity=0.7, options=['class_name', 'color', 'dash_array', 'fill', 'fill_color', 'fill_opacity', 'line_cap', 'line_join', 'opacity', 'pointer_events', 'radius', 'stroke', 'weight'], popup=HTML(value=\"EGLISE D'AUTEUIL\"), radius=6, stroke=False), CircleMarker(color='#000951', fill_color='#000951', fill_opacity=0.7, location=['48.8479715406', ' 2.25774468038'], opacity=0.7, options=['class_name', 'color', 'dash_array', 'fill', 'fill_color', 'fill_opacity', 'line_cap', 'line_join', 'opacity', 'pointer_events', 'radius', 'stroke', 'weight'], popup=HTML(value=\"PORTE D'AUTEUIL\"), radius=6, stroke=False), CircleMarker(color='#000951', fill_color='#000951', fill_opacity=0.7, location=['48.8452411948', ' 2.26189364176'], opacity=0.7, options=['class_name', 'color', 'dash_array', 'fill', 'fill_color', 'fill_opacity', 'line_cap', 'line_join', 'opacity', 'pointer_events', 'radius', 'stroke', 'weight'], popup=HTML(value='MICHEL-ANGE-MOLITOR'), radius=6, stroke=False), CircleMarker(color='#000951', fill_color='#000951', fill_opacity=0.7, location=['48.8465346367', ' 2.28599922206'], opacity=0.7, options=['class_name', 'color', 'dash_array', 'fill', 'fill_color', 'fill_opacity', 'line_cap', 'line_join', 'opacity', 'pointer_events', 'radius', 'stroke', 'weight'], popup=HTML(value='CHARLES MICHELS'), radius=6, stroke=False), CircleMarker(color='#000951', fill_color='#000951', fill_opacity=0.7, location=['48.8699575127', ' 2.37109483973'], opacity=0.7, options=['class_name', 'color', 'dash_array', 'fill', 'fill_color', 'fill_opacity', 'line_cap', 'line_join', 'opacity', 'pointer_events', 'radius', 'stroke', 'weight'], popup=HTML(value='GONCOURT (HOPITAL SAINT-LOUIS)'), radius=6, stroke=False), CircleMarker(color='#000951', fill_color='#000951', fill_opacity=0.7, location=['48.8415055224', ' 2.30794867934'], opacity=0.7, options=['class_name', 'color', 'dash_array', 'fill', 'fill_color', 'fill_opacity', 'line_cap', 'line_join', 'opacity', 'pointer_events', 'radius', 'stroke', 'weight'], popup=HTML(value='VOLONTAIRES'), radius=6, stroke=False), CircleMarker(color='#000951', fill_color='#000951', fill_opacity=0.7, location=['48.8449426352', ' 2.3287780255'], opacity=0.7, options=['class_name', 'color', 'dash_array', 'fill', 'fill_color', 'fill_opacity', 'line_cap', 'line_join', 'opacity', 'pointer_events', 'radius', 'stroke', 'weight'], popup=HTML(value='NOTRE-DAME-DES-CHAMPS'), radius=6, stroke=False), CircleMarker(color='#000951', fill_color='#000951', fill_opacity=0.7, location=['48.8555509402', ' 2.32571242217'], opacity=0.7, options=['class_name', 'color', 'dash_array', 'fill', 'fill_color', 'fill_opacity', 'line_cap', 'line_join', 'opacity', 'pointer_events', 'radius', 'stroke', 'weight'], popup=HTML(value='RUE DU BAC'), radius=6, stroke=False), CircleMarker(color='#000951', fill_color='#000951', fill_opacity=0.7, location=['48.8585111299', ' 2.32315485584'], opacity=0.7, options=['class_name', 'color', 'dash_array', 'fill', 'fill_color', 'fill_opacity', 'line_cap', 'line_join', 'opacity', 'pointer_events', 'radius', 'stroke', 'weight'], popup=HTML(value='SOLFERINO'), radius=6, stroke=False), CircleMarker(color='#000951', fill_color='#000951', fill_opacity=0.7, location=['48.8225837087', ' 2.29846419467'], opacity=0.7, options=['class_name', 'color', 'dash_array', 'fill', 'fill_color', 'fill_opacity', 'line_cap', 'line_join', 'opacity', 'pointer_events', 'radius', 'stroke', 'weight'], popup=HTML(value='MALAKOFF-PLATEAU DE VANVES'), radius=6, stroke=False), CircleMarker(color='#000951', fill_color='#000951', fill_opacity=0.7, location=['48.8514417092', ' 2.31440812145'], opacity=0.7, options=['class_name', 'color', 'dash_array', 'fill', 'fill_color', 'fill_opacity', 'line_cap', 'line_join', 'opacity', 'pointer_events', 'radius', 'stroke', 'weight'], popup=HTML(value='SAINT-FRANCOIS-XAVIER'), radius=6, stroke=False), CircleMarker(color='#000951', fill_color='#000951', fill_opacity=0.7, location=['48.8928288534', ' 2.3274284585'], opacity=0.7, options=['class_name', 'color', 'dash_array', 'fill', 'fill_color', 'fill_opacity', 'line_cap', 'line_join', 'opacity', 'pointer_events', 'radius', 'stroke', 'weight'], popup=HTML(value='GUY MOQUET'), radius=6, stroke=False), CircleMarker(color='#000951', fill_color='#000951', fill_opacity=0.7, location=['48.9458456578', ' 2.36454176212'], opacity=0.7, options=['class_name', 'color', 'dash_array', 'fill', 'fill_color', 'fill_opacity', 'line_cap', 'line_join', 'opacity', 'pointer_events', 'radius', 'stroke', 'weight'], popup=HTML(value='SAINT-DENIS-UNIVERSITE'), radius=6, stroke=False), CircleMarker(color='#000951', fill_color='#000951', fill_opacity=0.7, location=['48.8684401633', ' 2.40156171274'], opacity=0.7, options=['class_name', 'color', 'dash_array', 'fill', 'fill_color', 'fill_opacity', 'line_cap', 'line_join', 'opacity', 'pointer_events', 'radius', 'stroke', 'weight'], popup=HTML(value='PELLEPORT'), radius=6, stroke=False), CircleMarker(color='#000951', fill_color='#000951', fill_opacity=0.7, location=['48.8819319996', ' 2.39344545239'], opacity=0.7, options=['class_name', 'color', 'dash_array', 'fill', 'fill_color', 'fill_opacity', 'line_cap', 'line_join', 'opacity', 'pointer_events', 'radius', 'stroke', 'weight'], popup=HTML(value='DANUBE'), radius=6, stroke=False), CircleMarker(color='#000951', fill_color='#000951', fill_opacity=0.7, location=['48.8450615799', ' 2.40128901983'], opacity=0.7, options=['class_name', 'color', 'dash_array', 'fill', 'fill_color', 'fill_opacity', 'line_cap', 'line_join', 'opacity', 'pointer_events', 'radius', 'stroke', 'weight'], popup=HTML(value='PICPUS'), radius=6, stroke=False), CircleMarker(color='#000951', fill_color='#000951', fill_opacity=0.7, location=['48.8413382473', ' 2.4009185368'], opacity=0.7, options=['class_name', 'color', 'dash_array', 'fill', 'fill_color', 'fill_opacity', 'line_cap', 'line_join', 'opacity', 'pointer_events', 'radius', 'stroke', 'weight'], popup=HTML(value='BEL-AIR'), radius=6, stroke=False), CircleMarker(color='#000951', fill_color='#000951', fill_opacity=0.7, location=['48.8490645635', ' 2.29791659184'], opacity=0.7, options=['class_name', 'color', 'dash_array', 'fill', 'fill_color', 'fill_opacity', 'line_cap', 'line_join', 'opacity', 'pointer_events', 'radius', 'stroke', 'weight'], popup=HTML(value='LA MOTTE-PICQUET-GRENELLE'), radius=6, stroke=False), CircleMarker(color='#000951', fill_color='#000951', fill_opacity=0.7, location=['48.8539426062', ' 2.28933453278'], opacity=0.7, options=['class_name', 'color', 'dash_array', 'fill', 'fill_color', 'fill_opacity', 'line_cap', 'line_join', 'opacity', 'pointer_events', 'radius', 'stroke', 'weight'], popup=HTML(value='BIR-HAKEIM (GRENELLE)'), radius=6, stroke=False), CircleMarker(color='#000951', fill_color='#000951', fill_opacity=0.7, location=['48.8948364675', ' 2.38252234343'], opacity=0.7, options=['class_name', 'color', 'dash_array', 'fill', 'fill_color', 'fill_opacity', 'line_cap', 'line_join', 'opacity', 'pointer_events', 'radius', 'stroke', 'weight'], popup=HTML(value='CORENTIN CARIOU'), radius=6, stroke=False), CircleMarker(color='#000951', fill_color='#000951', fill_opacity=0.7, location=['48.8907889695', ' 2.3773157556'], opacity=0.7, options=['class_name', 'color', 'dash_array', 'fill', 'fill_color', 'fill_opacity', 'line_cap', 'line_join', 'opacity', 'pointer_events', 'radius', 'stroke', 'weight'], popup=HTML(value='CRIMEE'), radius=6, stroke=False), CircleMarker(color='#000951', fill_color='#000951', fill_opacity=0.7, location=['48.8882676206', ' 2.37420401608'], opacity=0.7, options=['class_name', 'color', 'dash_array', 'fill', 'fill_color', 'fill_opacity', 'line_cap', 'line_join', 'opacity', 'pointer_events', 'radius', 'stroke', 'weight'], popup=HTML(value='RIQUET'), radius=6, stroke=False), CircleMarker(color='#000951', fill_color='#000951', fill_opacity=0.7, location=['48.8512376071', ' 2.36198522639'], opacity=0.7, options=['class_name', 'color', 'dash_array', 'fill', 'fill_color', 'fill_opacity', 'line_cap', 'line_join', 'opacity', 'pointer_events', 'radius', 'stroke', 'weight'], popup=HTML(value='SULLY-MORLAND'), radius=6, stroke=False), CircleMarker(color='#000951', fill_color='#000951', fill_opacity=0.7, location=['48.8046881209', ' 2.3639531966'], opacity=0.7, options=['class_name', 'color', 'dash_array', 'fill', 'fill_color', 'fill_opacity', 'line_cap', 'line_join', 'opacity', 'pointer_events', 'radius', 'stroke', 'weight'], popup=HTML(value='VILLEJUIF-LEO LAGRANGE'), radius=6, stroke=False), CircleMarker(color='#000951', fill_color='#000951', fill_opacity=0.7, location=['48.8410940563', ' 2.2879457665'], opacity=0.7, options=['class_name', 'color', 'dash_array', 'fill', 'fill_color', 'fill_opacity', 'line_cap', 'line_join', 'opacity', 'pointer_events', 'radius', 'stroke', 'weight'], popup=HTML(value='BOUCICAUT'), radius=6, stroke=False), CircleMarker(color='#000951', fill_color='#000951', fill_opacity=0.7, location=['48.8260549992', ' 2.40674222317'], opacity=0.7, options=['class_name', 'color', 'dash_array', 'fill', 'fill_color', 'fill_opacity', 'line_cap', 'line_join', 'opacity', 'pointer_events', 'radius', 'stroke', 'weight'], popup=HTML(value='LIBERTE'), radius=6, stroke=False), CircleMarker(color='#000951', fill_color='#000951', fill_opacity=0.7, location=['48.814803007', ' 2.42237614285'], opacity=0.7, options=['class_name', 'color', 'dash_array', 'fill', 'fill_color', 'fill_opacity', 'line_cap', 'line_join', 'opacity', 'pointer_events', 'radius', 'stroke', 'weight'], popup=HTML(value='ECOLE VETERINAIRE DE MAISONS-ALFORT'), radius=6, stroke=False), CircleMarker(color='#000951', fill_color='#000951', fill_opacity=0.7, location=['48.8091443609', ' 2.43450989593'], opacity=0.7, options=['class_name', 'color', 'dash_array', 'fill', 'fill_color', 'fill_opacity', 'line_cap', 'line_join', 'opacity', 'pointer_events', 'radius', 'stroke', 'weight'], popup=HTML(value='MAISONS-ALFORT-STADE'), radius=6, stroke=False), CircleMarker(color='#000951', fill_color='#000951', fill_opacity=0.7, location=['48.8379612135', ' 2.25712222985'], opacity=0.7, options=['class_name', 'color', 'dash_array', 'fill', 'fill_color', 'fill_opacity', 'line_cap', 'line_join', 'opacity', 'pointer_events', 'radius', 'stroke', 'weight'], popup=HTML(value='PORTE DE SAINT-CLOUD'), radius=6, stroke=False), CircleMarker(color='#000951', fill_color='#000951', fill_opacity=0.7, location=['48.8429386959', ' 2.26003290221'], opacity=0.7, options=['class_name', 'color', 'dash_array', 'fill', 'fill_color', 'fill_opacity', 'line_cap', 'line_join', 'opacity', 'pointer_events', 'radius', 'stroke', 'weight'], popup=HTML(value='EXELMANS'), radius=6, stroke=False), CircleMarker(color='#000951', fill_color='#000951', fill_opacity=0.7, location=['48.8525040906', ' 2.26817674944'], opacity=0.7, options=['class_name', 'color', 'dash_array', 'fill', 'fill_color', 'fill_opacity', 'line_cap', 'line_join', 'opacity', 'pointer_events', 'radius', 'stroke', 'weight'], popup=HTML(value='JASMIN'), radius=6, stroke=False)), options=['attribution_control', 'basemap', 'bounce_at_zoom_limits', 'box_zoom', 'center', 'close_popup_on_click', 'double_click_zoom', 'dragging', 'inertia', 'inertia_deceleration', 'inertia_max_speed', 'interpolation', 'keyboard', 'keyboard_pan_offset', 'keyboard_zoom_offset', 'max_zoom', 'min_zoom', 'scroll_wheel_zoom', 'tap', 'tap_tolerance', 'touch_zoom', 'world_copy_jump', 'zoom', 'zoom_animation_threshold', 'zoom_control', 'zoom_start'])"
      ]
     },
     "metadata": {},
     "output_type": "display_data"
    }
   ],
   "source": [
    "center=(48.855115,2.352448)\n",
    "\n",
    "m = Map(\n",
    "    center=center,\n",
    "    zoom=12\n",
    ")\n",
    "\n",
    "\n",
    "for x in geo_metro.iterrows():\n",
    "    lat = x[1].LAT\n",
    "    long = x[1].LONG\n",
    "    \n",
    "    n = x[1].STOP_NAME\n",
    "    \n",
    "    message = HTML()\n",
    "    \n",
    "    message.value = n\n",
    "    \n",
    "    circle_marker = CircleMarker(location=(lat, long), draggable=False)\n",
    "    circle_marker.radius = 6\n",
    "    circle_marker.stroke = False\n",
    "    circle_marker.color = '#000951'\n",
    "    circle_marker.opacity = 0.7\n",
    "    circle_marker.fill_color = '#000951'\n",
    "    circle_marker.fill_opacity = 0.7\n",
    "    m.add_layer(circle_marker);\n",
    "    \n",
    "    circle_marker.popup = message\n",
    "\n",
    "m"
   ]
  }
 ],
 "metadata": {
  "kernelspec": {
   "display_name": "Python 3",
   "language": "python",
   "name": "python3"
  },
  "language_info": {
   "codemirror_mode": {
    "name": "ipython",
    "version": 3
   },
   "file_extension": ".py",
   "mimetype": "text/x-python",
   "name": "python",
   "nbconvert_exporter": "python",
   "pygments_lexer": "ipython3",
   "version": "3.6.4"
  }
 },
 "nbformat": 4,
 "nbformat_minor": 2
}
